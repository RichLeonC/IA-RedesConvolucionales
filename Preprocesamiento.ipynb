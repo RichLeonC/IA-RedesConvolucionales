{
 "cells": [
  {
   "cell_type": "markdown",
   "metadata": {},
   "source": [
    "# Preprocesamiento de imágenes\n",
    "\n"
   ]
  },
  {
   "cell_type": "code",
   "execution_count": 26,
   "metadata": {},
   "outputs": [
    {
     "ename": "KeyboardInterrupt",
     "evalue": "",
     "output_type": "error",
     "traceback": [
      "\u001b[1;31m---------------------------------------------------------------------------\u001b[0m",
      "\u001b[1;31mKeyboardInterrupt\u001b[0m                         Traceback (most recent call last)",
      "Cell \u001b[1;32mIn[26], line 65\u001b[0m\n\u001b[0;32m     61\u001b[0m         save_img(img_canny,path_canny,img_name)\n\u001b[0;32m     64\u001b[0m \u001b[38;5;66;03m#preprocess(list_covid, path_covid_train,path_bilteral_covid,path_canny_covid)\u001b[39;00m\n\u001b[1;32m---> 65\u001b[0m preprocess(list_normal, path_normal_train,path_bilteral_normal,path_canny_normal)\n",
      "Cell \u001b[1;32mIn[26], line 54\u001b[0m, in \u001b[0;36mpreprocess\u001b[1;34m(list, path, path_bilateral, path_canny)\u001b[0m\n\u001b[0;32m     52\u001b[0m \u001b[38;5;28;01mfor\u001b[39;00m img_name \u001b[38;5;129;01min\u001b[39;00m \u001b[38;5;28mlist\u001b[39m:\n\u001b[0;32m     53\u001b[0m     path_img \u001b[38;5;241m=\u001b[39m os\u001b[38;5;241m.\u001b[39mpath\u001b[38;5;241m.\u001b[39mjoin(path, img_name)\n\u001b[1;32m---> 54\u001b[0m     img \u001b[38;5;241m=\u001b[39m cv2\u001b[38;5;241m.\u001b[39mimread(path_img)\n\u001b[0;32m     55\u001b[0m     img \u001b[38;5;241m=\u001b[39m transform_one_channel(img)\n\u001b[0;32m     56\u001b[0m     img_bilateral \u001b[38;5;241m=\u001b[39m bilateral_filter(img,\u001b[38;5;241m25\u001b[39m,\u001b[38;5;241m50\u001b[39m,\u001b[38;5;241m50\u001b[39m) \n",
      "\u001b[1;31mKeyboardInterrupt\u001b[0m: "
     ]
    }
   ],
   "source": [
    "import cv2\n",
    "import os\n",
    "import numpy as np\n",
    "\n",
    "path_covid_train = './Covid19-dataset/train/Covid'\n",
    "path_normal_train = './Covid19-dataset/train/Normal'\n",
    "path_pneumonia_train = './Covid19-dataset/train/Viral Pneumonia'\n",
    "\n",
    "path_bilteral_covid = './Covid19-dataset-filters/train/Bilateral Covid'\n",
    "path_bilteral_normal = './Covid19-dataset-filters/train/Bilateral Normal'\n",
    "path_bilteral_pneumonia = './Covid19-dataset-filters/train/Bilateral Pneumonia'\n",
    "\n",
    "path_canny_covid = './Covid19-dataset-filters/train/Canny Covid'\n",
    "path_canny_normal = './Covid19-dataset-filters/train/Canny Normal'\n",
    "path_canny_pneumonia = './Covid19-dataset-filters/train/Canny Pneumonia'\n",
    "\n",
    "# Si no existe la carpeta la crea\n",
    "os.makedirs(path_bilteral_covid, exist_ok=True)\n",
    "os.makedirs(path_bilteral_normal, exist_ok=True)\n",
    "os.makedirs(path_bilteral_pneumonia, exist_ok=True)\n",
    "\n",
    "os.makedirs(path_canny_covid, exist_ok=True)\n",
    "os.makedirs(path_canny_normal, exist_ok=True)\n",
    "os.makedirs(path_canny_pneumonia, exist_ok=True)\n",
    "\n",
    "list_covid = os.listdir(path_covid_train)\n",
    "list_normal = os.listdir(path_normal_train)\n",
    "list_pneumonia = os.listdir(path_pneumonia_train)\n",
    "\n",
    "def resize(img,size=(128,128)):\n",
    "    return cv2.resize(img, size)\n",
    "\n",
    "def transform_one_channel(img):\n",
    "    return cv2.cvtColor(img, cv2.COLOR_BGR2GRAY)\n",
    "\n",
    "def bilateral_filter(img,d,sigmaColor,sigmaSpace):\n",
    "    # d = es el diametro de cada pixel\n",
    "    # sigmaColor = es el valor de la diferencia de color\n",
    "    # sigmaSpace = es el valor de la diferencia de espacio\n",
    "    return cv2.bilateralFilter(img,d,sigmaColor,sigmaSpace)\n",
    "\n",
    "def canny_filter(img,threshold1,threshold2,apertureSize):\n",
    "    # threshold1 = es el valor minimo de intensidad de gradiente para ser considerado un borde\n",
    "    # threshold2 = es el valor maximo de intensidad de gradiente para ser considerado un borde\n",
    "    # apertureSize = es el tamaño del kernel para el gradiente\n",
    "    return cv2.Canny(img,threshold1,threshold2,apertureSize)\n",
    "    \n",
    "def save_img(img,path,name):\n",
    "    cv2.imwrite(os.path.join(path,name),img)\n",
    "\n",
    "def preprocess(list, path,path_bilateral,path_canny):\n",
    "    for img_name in list:\n",
    "        path_img = os.path.join(path, img_name)\n",
    "        img = cv2.imread(path_img)\n",
    "        img = transform_one_channel(img)\n",
    "        img_bilateral = bilateral_filter(img,25,50,50) \n",
    "        img_canny = canny_filter(img,100,200,3)\n",
    "        img_bilateral = resize(img_bilateral)\n",
    "        img_canny = resize(img_canny)\n",
    "        save_img(img_bilateral,path_bilateral,img_name)\n",
    "        save_img(img_canny,path_canny,img_name)\n",
    "\n",
    "\n",
    "preprocess(list_covid, path_covid_train,path_bilteral_covid,path_canny_covid)\n",
    "preprocess(list_normal, path_normal_train,path_bilteral_normal,path_canny_normal)\n",
    "preprocess(list_pneumonia, path_pneumonia_train,path_bilteral_pneumonia,path_canny_pneumonia)\n",
    "\n",
    "\n",
    "    "
   ]
  }
 ],
 "metadata": {
  "kernelspec": {
   "display_name": "base",
   "language": "python",
   "name": "python3"
  },
  "language_info": {
   "codemirror_mode": {
    "name": "ipython",
    "version": 3
   },
   "file_extension": ".py",
   "mimetype": "text/x-python",
   "name": "python",
   "nbconvert_exporter": "python",
   "pygments_lexer": "ipython3",
   "version": "3.12.3"
  }
 },
 "nbformat": 4,
 "nbformat_minor": 2
}
