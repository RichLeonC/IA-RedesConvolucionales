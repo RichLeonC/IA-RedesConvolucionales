{
 "cells": [
  {
   "cell_type": "markdown",
   "metadata": {},
   "source": [
    "# Modelo A para clasificación de imagenes\n",
    "\n",
    "#### Jeffrey Daniel Leiva Cascante 2021016720\n",
    "#### Richard Osvaldo León Chinchilla 2019003759\n",
    "\n",
    "## Inicialización"
   ]
  },
  {
   "cell_type": "code",
   "execution_count": 1,
   "metadata": {},
   "outputs": [],
   "source": [
    "import torch\n",
    "from torchvision import transforms, datasets\n",
    "from torch.utils.data import DataLoader, random_split\n",
    "\n",
    "transform = transforms.Compose([\n",
    "    transforms.Resize((224, 224)), # Resnet es de 224x224\n",
    "    transforms.ToTensor(),\n",
    "    transforms.Normalize(mean=[0.5], std=[0.5]),\n",
    "    transforms.RandomRotation(20),  # Rotación aleatoria\n",
    "    transforms.RandomHorizontalFlip(),  # Inversión horizontal aleatoria\n",
    "    transforms.ColorJitter(brightness=0.2, contrast=0.2),  # Variación de brillo y contraste\n",
    "])\n",
    "\n",
    "transform_test = transforms.Compose([\n",
    "    transforms.Resize((224, 224)),\n",
    "    transforms.ToTensor(),\n",
    "    transforms.Normalize(mean=[0.5], std=[0.5]),\n",
    "    \n",
    "])\n",
    "\n",
    "# Cargamos el dataset de entrenamiento para cada dataset\n",
    "train_dataset = datasets.ImageFolder(root='./Covid19-dataset/train', transform=transform)\n",
    "train_dataset_bilateral = datasets.ImageFolder(root='./Covid19-dataset-bilateral/train', transform=transform)\n",
    "train_dataset_canny = datasets.ImageFolder(root='./Covid19-dataset-canny/train', transform=transform)\n",
    "\n",
    "# Cargamos el dataset de test para cada dataset\n",
    "test_dataset = datasets.ImageFolder(root='./Covid19-dataset/test', transform=transform_test)\n",
    "test_dataset_bilateral = datasets.ImageFolder(root='./Covid19-dataset-bilateral/test', transform=transform_test)\n",
    "test_dataset_canny = datasets.ImageFolder(root='./Covid19-dataset-canny/test', transform=transform_test)\n",
    "\n",
    "val_percent = 0.15 # Porcentaje de imágenes que se usarán para validación\n",
    "\n",
    "# Calculamos el tamaño de los conjuntos de entrenamiento y validación\n",
    "val_size = int(val_percent * len(train_dataset))\n",
    "train_size = len(train_dataset) - val_size\n",
    "\n",
    "val_size_bilateral = int(val_percent * len(train_dataset_bilateral))\n",
    "train_size_bilateral = len(train_dataset_bilateral) - val_size_bilateral\n",
    "\n",
    "val_size_canny = int(val_percent * len(train_dataset_canny))\n",
    "train_size_canny = len(train_dataset_canny) - val_size_canny\n",
    "\n",
    "# Se divide el dataset en dos\n",
    "train_dataset, val_dataset = random_split(train_dataset, [train_size, val_size])\n",
    "train_dataset_bilateral, val_dataset_bilateral = random_split(train_dataset_bilateral, [train_size_bilateral, val_size_bilateral])\n",
    "train_dataset_canny, val_dataset_canny = random_split(train_dataset_canny, [train_size_canny, val_size_canny])\n",
    "\n",
    "# Aplicamos el transformador de testing a los conjuntos de validación\n",
    "val_dataset.dataset.transform = transform_test\n",
    "val_dataset_bilateral.dataset.transform = transform_test\n",
    "val_dataset_canny.dataset.transform = transform_test\n",
    "\n",
    "# Creamos los dataloaders para cada dataset\n",
    "train_loader = DataLoader(train_dataset, batch_size=32, shuffle=True)\n",
    "val_loader = DataLoader(val_dataset, batch_size=32, shuffle=False)\n",
    "test_loader = DataLoader(test_dataset, batch_size=32, shuffle=False)\n",
    "\n",
    "train_loader_bilateral = DataLoader(train_dataset_bilateral, batch_size=32, shuffle=True)\n",
    "val_loader_bilateral = DataLoader(val_dataset_bilateral, batch_size=32, shuffle=False)\n",
    "test_loader_bilateral = DataLoader(test_dataset_bilateral, batch_size=32, shuffle=False)\n",
    "\n",
    "train_loader_canny = DataLoader(train_dataset_canny, batch_size=32, shuffle=True)\n",
    "val_loader_canny = DataLoader(val_dataset_canny, batch_size=32, shuffle=False)\n",
    "test_loader_canny = DataLoader(test_dataset_canny, batch_size=32, shuffle=False)\n",
    "\n",
    "\n",
    "\n"
   ]
  },
  {
   "cell_type": "markdown",
   "metadata": {},
   "source": [
    "### Weights and Biases"
   ]
  },
  {
   "cell_type": "code",
   "execution_count": 2,
   "metadata": {},
   "outputs": [
    {
     "name": "stderr",
     "output_type": "stream",
     "text": [
      "wandb: Using wandb-core as the SDK backend. Please refer to https://wandb.me/wandb-core for more information.\n",
      "wandb: Currently logged in as: r29leonc (iaredescnncnn-instituto-tecnol-gico-de-costa-rica). Use `wandb login --relogin` to force relogin\n",
      "wandb: WARNING If you're specifying your api key in code, ensure this code is not shared publicly.\n",
      "wandb: WARNING Consider setting the WANDB_API_KEY environment variable, or running `wandb login` from the command line.\n",
      "wandb: Appending key for api.wandb.ai to your netrc file: C:\\Users\\richa\\_netrc\n"
     ]
    },
    {
     "data": {
      "text/plain": [
       "True"
      ]
     },
     "execution_count": 2,
     "metadata": {},
     "output_type": "execute_result"
    }
   ],
   "source": [
    "import wandb\n",
    "wandb.login(\n",
    "    key=\"52cc20b894f4ec68c5e30b411f8f55148e7e54ec\"\n",
    ")\n"
   ]
  },
  {
   "cell_type": "markdown",
   "metadata": {},
   "source": [
    "## Carga de Resnet-50 preentrenado"
   ]
  },
  {
   "cell_type": "code",
   "execution_count": 3,
   "metadata": {},
   "outputs": [
    {
     "name": "stderr",
     "output_type": "stream",
     "text": [
      "c:\\Users\\richa\\anaconda3\\Lib\\site-packages\\torchvision\\models\\_utils.py:208: UserWarning: The parameter 'pretrained' is deprecated since 0.13 and may be removed in the future, please use 'weights' instead.\n",
      "  warnings.warn(\n",
      "c:\\Users\\richa\\anaconda3\\Lib\\site-packages\\torchvision\\models\\_utils.py:223: UserWarning: Arguments other than a weight enum or `None` for 'weights' are deprecated since 0.13 and may be removed in the future. The current behavior is equivalent to passing `weights=ResNet50_Weights.IMAGENET1K_V1`. You can also use `weights=ResNet50_Weights.DEFAULT` to get the most up-to-date weights.\n",
      "  warnings.warn(msg)\n"
     ]
    }
   ],
   "source": [
    "import torch.nn as nn\n",
    "import torchvision.models as models\n",
    "\n",
    "# Cargamos el modelo preentrenado\n",
    "resnet50  = models.resnet50(pretrained=True)\n",
    "\n",
    "# Se modifica la capa final para adaptarla a 3 clases\n",
    "num_classes = 3\n",
    "num_ftrs = resnet50.fc.in_features\n",
    "resnet50.fc = nn.Linear(num_ftrs, num_classes)\n",
    "\n",
    "# Se congela el modelo para que no se actualicen los pesos de las capas preentrenadas\n",
    "for param in resnet50.parameters():\n",
    "    param.requires_grad = False\n",
    "\n",
    "for param in resnet50.fc.parameters():\n",
    "    param.requires_grad = True\n",
    "\n",
    "# Se mueve el modelo a la GPU\n",
    "device = torch.device('cuda' if torch.cuda.is_available() else 'cpu')\n",
    "resnet50 = resnet50.to(device)\n",
    "\n",
    "# Solo los parametros de la capa final se entrenan\n",
    "optimizer = torch.optim.Adam(resnet50.fc.parameters(), lr=0.001)\n",
    "\n",
    "# Se define la función de pérdida\n",
    "criterion = nn.CrossEntropyLoss()"
   ]
  },
  {
   "cell_type": "markdown",
   "metadata": {},
   "source": [
    "## Entrenamiento"
   ]
  },
  {
   "cell_type": "code",
   "execution_count": 4,
   "metadata": {},
   "outputs": [
    {
     "data": {
      "text/html": [
       "Tracking run with wandb version 0.18.3"
      ],
      "text/plain": [
       "<IPython.core.display.HTML object>"
      ]
     },
     "metadata": {},
     "output_type": "display_data"
    },
    {
     "data": {
      "text/html": [
       "Run data is saved locally in <code>c:\\Users\\richa\\OneDrive\\Desktop\\TEC\\IA-RedesConvolucionales\\wandb\\run-20241017_182307-zoiqrzkt</code>"
      ],
      "text/plain": [
       "<IPython.core.display.HTML object>"
      ]
     },
     "metadata": {},
     "output_type": "display_data"
    },
    {
     "data": {
      "text/html": [
       "Syncing run <strong><a href='https://wandb.ai/iaredescnncnn-instituto-tecnol-gico-de-costa-rica/Model-A/runs/zoiqrzkt' target=\"_blank\">valiant-terrain-67</a></strong> to <a href='https://wandb.ai/iaredescnncnn-instituto-tecnol-gico-de-costa-rica/Model-A' target=\"_blank\">Weights & Biases</a> (<a href='https://wandb.me/run' target=\"_blank\">docs</a>)<br/>"
      ],
      "text/plain": [
       "<IPython.core.display.HTML object>"
      ]
     },
     "metadata": {},
     "output_type": "display_data"
    },
    {
     "data": {
      "text/html": [
       " View project at <a href='https://wandb.ai/iaredescnncnn-instituto-tecnol-gico-de-costa-rica/Model-A' target=\"_blank\">https://wandb.ai/iaredescnncnn-instituto-tecnol-gico-de-costa-rica/Model-A</a>"
      ],
      "text/plain": [
       "<IPython.core.display.HTML object>"
      ]
     },
     "metadata": {},
     "output_type": "display_data"
    },
    {
     "data": {
      "text/html": [
       " View run at <a href='https://wandb.ai/iaredescnncnn-instituto-tecnol-gico-de-costa-rica/Model-A/runs/zoiqrzkt' target=\"_blank\">https://wandb.ai/iaredescnncnn-instituto-tecnol-gico-de-costa-rica/Model-A/runs/zoiqrzkt</a>"
      ],
      "text/plain": [
       "<IPython.core.display.HTML object>"
      ]
     },
     "metadata": {},
     "output_type": "display_data"
    }
   ],
   "source": [
    "wandb.init(project='Model-A')\n",
    "\n",
    "wandb.config={\n",
    "    'batch_size': 32,\n",
    "    'learning_rate': 0.001,\n",
    "    'epochs': 10,\n",
    "    'optimizer': 'Adam',\n",
    "}\n",
    "wandb.watch(resnet50, log='all', log_freq=10)\n",
    "\n",
    "def train_model(train_loader,val_loader,n_epochs,best_val_acc=0.0,name_model='best_model.pth'):\n",
    "    for epoch in range(n_epochs):\n",
    "        resnet50.train()\n",
    "        train_loss = 0.0 \n",
    "     \n",
    "        # Entrenamiento\n",
    "        for input,labels in train_loader: # Se recorren los datos de entrenamiento\n",
    "            inputs, labels = input.to(device), labels.to(device)\n",
    "            optimizer.zero_grad() # Se reinician los gradientes\n",
    "            outputs = resnet50(inputs) # Se obtiene la salida del modelo\n",
    "            loss = criterion(outputs, labels) # Se calcula la pérdida\n",
    " \n",
    "            loss.backward() # Se calculan los gradientes\n",
    "            optimizer.step() # Se actualizan los pesos\n",
    "\n",
    "            train_loss += loss.item() * inputs.size(0)\n",
    "            _,predicted = torch.max(outputs, 1)\n",
    "            corrects = torch.sum(predicted == labels.data)\n",
    "\n",
    "        train_loss = train_loss / len(train_loader.dataset)\n",
    "        train_acc = corrects.double() / len(train_loader.dataset)\n",
    "\n",
    "        #Validación\n",
    "        resnet50.eval()\n",
    "        val_loss = 0.0\n",
    "        val_corrects = 0\n",
    "        with torch.no_grad(): # No se calculan los gradientes en la validación\n",
    "            for inputs,labels in val_loader:\n",
    "                inputs, labels = inputs.to(device), labels.to(device)\n",
    "                outputs = resnet50(inputs)\n",
    "                loss = criterion(outputs, labels)\n",
    "                val_loss += loss.item() * inputs.size(0)\n",
    "\n",
    "                _,predicted = torch.max(outputs, 1)\n",
    "                val_corrects += torch.sum(predicted == labels.data)\n",
    "\n",
    "            val_loss = val_loss/len(val_loader.dataset)\n",
    "            val_acc = val_corrects.double() / len(val_loader.dataset)\n",
    "\n",
    "            if val_acc > best_val_acc:\n",
    "                best_val_acc = val_acc\n",
    "                torch.save(resnet50.state_dict(), name_model)\n",
    "                print(f\"Mejor modelo guardado con accuracy: {best_val_acc}\")\n",
    "\n",
    "            wandb.log({\n",
    "                \"Epoch\": epoch,\n",
    "                \"Train Loss\": train_loss,\n",
    "                \"Train Acc\": train_acc,\n",
    "                \"Val Loss\": val_loss,\n",
    "                \"Val Acc\": val_acc,\n",
    "            })\n",
    "            print('Epoch: {} Train Loss: {:.4f} Train Acc: {:.4f} Val Loss: {:.4f} Val Acc: {:.4f}'.format(epoch, train_loss, train_acc, val_loss, val_acc))\n",
    "\n",
    "\n"
   ]
  },
  {
   "cell_type": "markdown",
   "metadata": {},
   "source": [
    "### Dataset Crudo"
   ]
  },
  {
   "cell_type": "code",
   "execution_count": 5,
   "metadata": {},
   "outputs": [
    {
     "name": "stdout",
     "output_type": "stream",
     "text": [
      "Mejor modelo guardado con accuracy: 0.7837837837837838\n",
      "Epoch: 0 Train Loss: 1.0127 Train Acc: 0.0474 Val Loss: 0.8009 Val Acc: 0.7838\n",
      "Mejor modelo guardado con accuracy: 0.8378378378378379\n",
      "Epoch: 1 Train Loss: 0.6937 Train Acc: 0.0853 Val Loss: 0.5597 Val Acc: 0.8378\n",
      "Mejor modelo guardado con accuracy: 0.918918918918919\n",
      "Epoch: 2 Train Loss: 0.5519 Train Acc: 0.0806 Val Loss: 0.4792 Val Acc: 0.9189\n",
      "Epoch: 3 Train Loss: 0.4676 Train Acc: 0.0758 Val Loss: 0.4258 Val Acc: 0.8649\n",
      "Epoch: 4 Train Loss: 0.3501 Train Acc: 0.0806 Val Loss: 0.3609 Val Acc: 0.9189\n",
      "Mejor modelo guardado con accuracy: 0.945945945945946\n",
      "Epoch: 5 Train Loss: 0.3176 Train Acc: 0.0900 Val Loss: 0.3190 Val Acc: 0.9459\n",
      "Epoch: 6 Train Loss: 0.3185 Train Acc: 0.0711 Val Loss: 0.2918 Val Acc: 0.9459\n",
      "Epoch: 7 Train Loss: 0.2319 Train Acc: 0.0900 Val Loss: 0.3371 Val Acc: 0.9189\n",
      "Epoch: 8 Train Loss: 0.2431 Train Acc: 0.0900 Val Loss: 0.2486 Val Acc: 0.9459\n",
      "Epoch: 9 Train Loss: 0.2226 Train Acc: 0.0853 Val Loss: 0.2659 Val Acc: 0.9189\n",
      "Epoch: 10 Train Loss: 0.1962 Train Acc: 0.0900 Val Loss: 0.2676 Val Acc: 0.9189\n",
      "Epoch: 11 Train Loss: 0.2193 Train Acc: 0.0900 Val Loss: 0.2212 Val Acc: 0.9189\n",
      "Epoch: 12 Train Loss: 0.1734 Train Acc: 0.0900 Val Loss: 0.2513 Val Acc: 0.9189\n",
      "Epoch: 13 Train Loss: 0.1563 Train Acc: 0.0900 Val Loss: 0.2157 Val Acc: 0.9189\n",
      "Epoch: 14 Train Loss: 0.1896 Train Acc: 0.0616 Val Loss: 0.2171 Val Acc: 0.9189\n",
      "Epoch: 15 Train Loss: 0.1910 Train Acc: 0.0853 Val Loss: 0.2121 Val Acc: 0.9189\n",
      "Epoch: 16 Train Loss: 0.1519 Train Acc: 0.0900 Val Loss: 0.1930 Val Acc: 0.9189\n",
      "Epoch: 17 Train Loss: 0.1743 Train Acc: 0.0853 Val Loss: 0.2543 Val Acc: 0.9189\n",
      "Epoch: 18 Train Loss: 0.1565 Train Acc: 0.0853 Val Loss: 0.1857 Val Acc: 0.9189\n",
      "Epoch: 19 Train Loss: 0.1264 Train Acc: 0.0900 Val Loss: 0.1913 Val Acc: 0.9189\n"
     ]
    }
   ],
   "source": [
    "train_model(train_loader, val_loader, 20,name_model='ModelA_raw.pth')"
   ]
  },
  {
   "cell_type": "code",
   "execution_count": 6,
   "metadata": {},
   "outputs": [
    {
     "data": {
      "application/vnd.jupyter.widget-view+json": {
       "model_id": "b1145b70a26344d4a8f6cf88c997dbd3",
       "version_major": 2,
       "version_minor": 0
      },
      "text/plain": [
       "VBox(children=(Label(value='0.251 MB of 0.251 MB uploaded\\r'), FloatProgress(value=1.0, max=1.0)))"
      ]
     },
     "metadata": {},
     "output_type": "display_data"
    },
    {
     "data": {
      "text/html": [
       "<style>\n",
       "    table.wandb td:nth-child(1) { padding: 0 10px; text-align: left ; width: auto;} td:nth-child(2) {text-align: left ; width: 100%}\n",
       "    .wandb-row { display: flex; flex-direction: row; flex-wrap: wrap; justify-content: flex-start; width: 100% }\n",
       "    .wandb-col { display: flex; flex-direction: column; flex-basis: 100%; flex: 1; padding: 10px; }\n",
       "    </style>\n",
       "<div class=\"wandb-row\"><div class=\"wandb-col\"><h3>Run history:</h3><br/><table class=\"wandb\"><tr><td>Epoch</td><td>▁▁▂▂▂▃▃▄▄▄▅▅▅▆▆▇▇▇██</td></tr><tr><td>Train Acc</td><td>▁▇▆▆▆█▅██▇████▃▇█▇▇█</td></tr><tr><td>Train Loss</td><td>█▅▄▄▃▃▃▂▂▂▂▂▁▁▁▂▁▁▁▁</td></tr><tr><td>Val Acc</td><td>▁▃▇▅▇██▇█▇▇▇▇▇▇▇▇▇▇▇</td></tr><tr><td>Val Loss</td><td>█▅▄▄▃▃▂▃▂▂▂▁▂▁▁▁▁▂▁▁</td></tr></table><br/></div><div class=\"wandb-col\"><h3>Run summary:</h3><br/><table class=\"wandb\"><tr><td>Epoch</td><td>19</td></tr><tr><td>Train Acc</td><td>0.09005</td></tr><tr><td>Train Loss</td><td>0.12639</td></tr><tr><td>Val Acc</td><td>0.91892</td></tr><tr><td>Val Loss</td><td>0.19131</td></tr></table><br/></div></div>"
      ],
      "text/plain": [
       "<IPython.core.display.HTML object>"
      ]
     },
     "metadata": {},
     "output_type": "display_data"
    },
    {
     "data": {
      "text/html": [
       " View run <strong style=\"color:#cdcd00\">confused-sky-65</strong> at: <a href='https://wandb.ai/iaredescnncnn-instituto-tecnol-gico-de-costa-rica/Model-A/runs/gzp6afxb' target=\"_blank\">https://wandb.ai/iaredescnncnn-instituto-tecnol-gico-de-costa-rica/Model-A/runs/gzp6afxb</a><br/> View project at: <a href='https://wandb.ai/iaredescnncnn-instituto-tecnol-gico-de-costa-rica/Model-A' target=\"_blank\">https://wandb.ai/iaredescnncnn-instituto-tecnol-gico-de-costa-rica/Model-A</a><br/>Synced 5 W&B file(s), 0 media file(s), 0 artifact file(s) and 0 other file(s)"
      ],
      "text/plain": [
       "<IPython.core.display.HTML object>"
      ]
     },
     "metadata": {},
     "output_type": "display_data"
    },
    {
     "data": {
      "text/html": [
       "Find logs at: <code>.\\wandb\\run-20241017_180632-gzp6afxb\\logs</code>"
      ],
      "text/plain": [
       "<IPython.core.display.HTML object>"
      ]
     },
     "metadata": {},
     "output_type": "display_data"
    }
   ],
   "source": [
    "wandb.finish()"
   ]
  },
  {
   "cell_type": "markdown",
   "metadata": {},
   "source": [
    "### Dataset con filtro Bilateral"
   ]
  },
  {
   "cell_type": "code",
   "execution_count": 8,
   "metadata": {},
   "outputs": [
    {
     "name": "stdout",
     "output_type": "stream",
     "text": [
      "Mejor modelo guardado con accuracy: 0.8378378378378379\n",
      "Epoch: 0 Train Loss: 0.2647 Train Acc: 0.0900 Val Loss: 0.3741 Val Acc: 0.8378\n",
      "Mejor modelo guardado con accuracy: 0.918918918918919\n",
      "Epoch: 1 Train Loss: 0.2692 Train Acc: 0.0806 Val Loss: 0.2201 Val Acc: 0.9189\n",
      "Mejor modelo guardado con accuracy: 0.945945945945946\n",
      "Epoch: 2 Train Loss: 0.2724 Train Acc: 0.0758 Val Loss: 0.2376 Val Acc: 0.9459\n",
      "Mejor modelo guardado con accuracy: 1.0\n",
      "Epoch: 3 Train Loss: 0.2246 Train Acc: 0.0758 Val Loss: 0.1460 Val Acc: 1.0000\n",
      "Epoch: 4 Train Loss: 0.2420 Train Acc: 0.0758 Val Loss: 0.1661 Val Acc: 1.0000\n",
      "Epoch: 5 Train Loss: 0.2019 Train Acc: 0.0853 Val Loss: 0.1439 Val Acc: 0.9730\n",
      "Epoch: 6 Train Loss: 0.1784 Train Acc: 0.0900 Val Loss: 0.1515 Val Acc: 1.0000\n",
      "Epoch: 7 Train Loss: 0.1596 Train Acc: 0.0900 Val Loss: 0.1340 Val Acc: 0.9730\n",
      "Epoch: 8 Train Loss: 0.1632 Train Acc: 0.0900 Val Loss: 0.1231 Val Acc: 1.0000\n",
      "Epoch: 9 Train Loss: 0.1886 Train Acc: 0.0900 Val Loss: 0.1249 Val Acc: 1.0000\n",
      "Epoch: 10 Train Loss: 0.1324 Train Acc: 0.0900 Val Loss: 0.1248 Val Acc: 0.9730\n",
      "Epoch: 11 Train Loss: 0.1395 Train Acc: 0.0900 Val Loss: 0.1253 Val Acc: 1.0000\n",
      "Epoch: 12 Train Loss: 0.1605 Train Acc: 0.0853 Val Loss: 0.1139 Val Acc: 1.0000\n",
      "Epoch: 13 Train Loss: 0.1218 Train Acc: 0.0900 Val Loss: 0.1244 Val Acc: 1.0000\n",
      "Epoch: 14 Train Loss: 0.1209 Train Acc: 0.0900 Val Loss: 0.1141 Val Acc: 1.0000\n",
      "Epoch: 15 Train Loss: 0.1837 Train Acc: 0.0806 Val Loss: 0.1101 Val Acc: 1.0000\n",
      "Epoch: 16 Train Loss: 0.1256 Train Acc: 0.0853 Val Loss: 0.1074 Val Acc: 1.0000\n",
      "Epoch: 17 Train Loss: 0.1138 Train Acc: 0.0900 Val Loss: 0.0989 Val Acc: 1.0000\n",
      "Epoch: 18 Train Loss: 0.0892 Train Acc: 0.0900 Val Loss: 0.1109 Val Acc: 1.0000\n",
      "Epoch: 19 Train Loss: 0.0880 Train Acc: 0.0900 Val Loss: 0.0982 Val Acc: 1.0000\n",
      "Epoch: 20 Train Loss: 0.1001 Train Acc: 0.0900 Val Loss: 0.0972 Val Acc: 1.0000\n",
      "Epoch: 21 Train Loss: 0.0849 Train Acc: 0.0900 Val Loss: 0.1046 Val Acc: 1.0000\n",
      "Epoch: 22 Train Loss: 0.0909 Train Acc: 0.0900 Val Loss: 0.0967 Val Acc: 1.0000\n",
      "Epoch: 23 Train Loss: 0.1010 Train Acc: 0.0806 Val Loss: 0.0945 Val Acc: 1.0000\n",
      "Epoch: 24 Train Loss: 0.1101 Train Acc: 0.0900 Val Loss: 0.1115 Val Acc: 1.0000\n",
      "Epoch: 25 Train Loss: 0.0823 Train Acc: 0.0900 Val Loss: 0.0886 Val Acc: 1.0000\n",
      "Epoch: 26 Train Loss: 0.0867 Train Acc: 0.0900 Val Loss: 0.1067 Val Acc: 1.0000\n",
      "Epoch: 27 Train Loss: 0.0721 Train Acc: 0.0900 Val Loss: 0.0946 Val Acc: 1.0000\n",
      "Epoch: 28 Train Loss: 0.1090 Train Acc: 0.0806 Val Loss: 0.0847 Val Acc: 1.0000\n",
      "Epoch: 29 Train Loss: 0.0804 Train Acc: 0.0900 Val Loss: 0.1258 Val Acc: 1.0000\n"
     ]
    }
   ],
   "source": [
    "train_model(train_loader_bilateral, val_loader_bilateral, 30, name_model='ModelA_bilateral.pth')"
   ]
  },
  {
   "cell_type": "code",
   "execution_count": 9,
   "metadata": {},
   "outputs": [
    {
     "data": {
      "application/vnd.jupyter.widget-view+json": {
       "model_id": "b60214b62cfd4626890bf286b4c361ca",
       "version_major": 2,
       "version_minor": 0
      },
      "text/plain": [
       "VBox(children=(Label(value='0.494 MB of 0.494 MB uploaded\\r'), FloatProgress(value=1.0, max=1.0)))"
      ]
     },
     "metadata": {},
     "output_type": "display_data"
    },
    {
     "data": {
      "text/html": [
       "<style>\n",
       "    table.wandb td:nth-child(1) { padding: 0 10px; text-align: left ; width: auto;} td:nth-child(2) {text-align: left ; width: 100%}\n",
       "    .wandb-row { display: flex; flex-direction: row; flex-wrap: wrap; justify-content: flex-start; width: 100% }\n",
       "    .wandb-col { display: flex; flex-direction: column; flex-basis: 100%; flex: 1; padding: 10px; }\n",
       "    </style>\n",
       "<div class=\"wandb-row\"><div class=\"wandb-col\"><h3>Run history:</h3><br/><table class=\"wandb\"><tr><td>Epoch</td><td>▁▁▁▂▂▂▂▃▃▃▃▄▄▄▄▅▅▅▅▆▆▆▆▇▇▇▇███</td></tr><tr><td>Train Acc</td><td>█▃▁▁▁▆██████▆██▃▆██████▃████▃█</td></tr><tr><td>Train Loss</td><td>███▆▇▆▅▄▄▅▃▃▄▃▃▅▃▂▂▂▂▁▂▂▂▁▂▁▂▁</td></tr><tr><td>Val Acc</td><td>▁▅▆██▇█▇██▇███████████████████</td></tr><tr><td>Val Loss</td><td>█▄▅▂▃▂▃▂▂▂▂▂▂▂▂▂▂▁▂▁▁▁▁▁▂▁▂▁▁▂</td></tr></table><br/></div><div class=\"wandb-col\"><h3>Run summary:</h3><br/><table class=\"wandb\"><tr><td>Epoch</td><td>29</td></tr><tr><td>Train Acc</td><td>0.09005</td></tr><tr><td>Train Loss</td><td>0.08039</td></tr><tr><td>Val Acc</td><td>1</td></tr><tr><td>Val Loss</td><td>0.12576</td></tr></table><br/></div></div>"
      ],
      "text/plain": [
       "<IPython.core.display.HTML object>"
      ]
     },
     "metadata": {},
     "output_type": "display_data"
    },
    {
     "data": {
      "text/html": [
       " View run <strong style=\"color:#cdcd00\">flowing-fog-57</strong> at: <a href='https://wandb.ai/iaredescnncnn-instituto-tecnol-gico-de-costa-rica/Model-A/runs/6qcyzx0d' target=\"_blank\">https://wandb.ai/iaredescnncnn-instituto-tecnol-gico-de-costa-rica/Model-A/runs/6qcyzx0d</a><br/> View project at: <a href='https://wandb.ai/iaredescnncnn-instituto-tecnol-gico-de-costa-rica/Model-A' target=\"_blank\">https://wandb.ai/iaredescnncnn-instituto-tecnol-gico-de-costa-rica/Model-A</a><br/>Synced 5 W&B file(s), 0 media file(s), 0 artifact file(s) and 0 other file(s)"
      ],
      "text/plain": [
       "<IPython.core.display.HTML object>"
      ]
     },
     "metadata": {},
     "output_type": "display_data"
    },
    {
     "data": {
      "text/html": [
       "Find logs at: <code>.\\wandb\\run-20241017_163657-6qcyzx0d\\logs</code>"
      ],
      "text/plain": [
       "<IPython.core.display.HTML object>"
      ]
     },
     "metadata": {},
     "output_type": "display_data"
    }
   ],
   "source": [
    "wandb.finish()"
   ]
  },
  {
   "cell_type": "markdown",
   "metadata": {},
   "source": [
    "### Dataset con filtro Canny"
   ]
  },
  {
   "cell_type": "code",
   "execution_count": 11,
   "metadata": {},
   "outputs": [
    {
     "name": "stdout",
     "output_type": "stream",
     "text": [
      "Mejor modelo guardado con accuracy: 0.5945945945945946\n",
      "Epoch: 0 Train Loss: 0.7707 Train Acc: 0.0569 Val Loss: 1.0191 Val Acc: 0.5946\n",
      "Mejor modelo guardado con accuracy: 0.8648648648648649\n",
      "Epoch: 1 Train Loss: 0.6844 Train Acc: 0.0711 Val Loss: 0.3987 Val Acc: 0.8649\n",
      "Epoch: 2 Train Loss: 0.5236 Train Acc: 0.0806 Val Loss: 0.4592 Val Acc: 0.7838\n",
      "Mejor modelo guardado con accuracy: 0.8918918918918919\n",
      "Epoch: 3 Train Loss: 0.4672 Train Acc: 0.0664 Val Loss: 0.3181 Val Acc: 0.8919\n",
      "Epoch: 4 Train Loss: 0.3782 Train Acc: 0.0806 Val Loss: 0.3322 Val Acc: 0.7838\n",
      "Epoch: 5 Train Loss: 0.4281 Train Acc: 0.0806 Val Loss: 0.3154 Val Acc: 0.8649\n",
      "Mejor modelo guardado con accuracy: 0.918918918918919\n",
      "Epoch: 6 Train Loss: 0.3265 Train Acc: 0.0711 Val Loss: 0.3058 Val Acc: 0.9189\n",
      "Epoch: 7 Train Loss: 0.2996 Train Acc: 0.0758 Val Loss: 0.3122 Val Acc: 0.9189\n",
      "Epoch: 8 Train Loss: 0.2547 Train Acc: 0.0711 Val Loss: 0.2726 Val Acc: 0.8919\n",
      "Epoch: 9 Train Loss: 0.2870 Train Acc: 0.0806 Val Loss: 0.2780 Val Acc: 0.8919\n",
      "Epoch: 10 Train Loss: 0.2354 Train Acc: 0.0900 Val Loss: 0.2656 Val Acc: 0.8919\n",
      "Epoch: 11 Train Loss: 0.2259 Train Acc: 0.0806 Val Loss: 0.2578 Val Acc: 0.8919\n",
      "Epoch: 12 Train Loss: 0.2369 Train Acc: 0.0806 Val Loss: 0.2525 Val Acc: 0.8919\n",
      "Epoch: 13 Train Loss: 0.2038 Train Acc: 0.0900 Val Loss: 0.2487 Val Acc: 0.9189\n",
      "Epoch: 14 Train Loss: 0.1863 Train Acc: 0.0900 Val Loss: 0.2503 Val Acc: 0.8919\n",
      "Epoch: 15 Train Loss: 0.1691 Train Acc: 0.0806 Val Loss: 0.2328 Val Acc: 0.9189\n",
      "Epoch: 16 Train Loss: 0.1726 Train Acc: 0.0758 Val Loss: 0.2221 Val Acc: 0.8919\n",
      "Epoch: 17 Train Loss: 0.1789 Train Acc: 0.0711 Val Loss: 0.2041 Val Acc: 0.9189\n",
      "Epoch: 18 Train Loss: 0.1513 Train Acc: 0.0853 Val Loss: 0.2290 Val Acc: 0.9189\n",
      "Epoch: 19 Train Loss: 0.1592 Train Acc: 0.0900 Val Loss: 0.2170 Val Acc: 0.9189\n",
      "Epoch: 20 Train Loss: 0.1541 Train Acc: 0.0900 Val Loss: 0.2086 Val Acc: 0.9189\n",
      "Epoch: 21 Train Loss: 0.1548 Train Acc: 0.0900 Val Loss: 0.2228 Val Acc: 0.8919\n",
      "Epoch: 22 Train Loss: 0.1211 Train Acc: 0.0900 Val Loss: 0.1934 Val Acc: 0.9189\n",
      "Mejor modelo guardado con accuracy: 0.945945945945946\n",
      "Epoch: 23 Train Loss: 0.1126 Train Acc: 0.0900 Val Loss: 0.2049 Val Acc: 0.9459\n",
      "Epoch: 24 Train Loss: 0.1236 Train Acc: 0.0806 Val Loss: 0.1922 Val Acc: 0.9189\n",
      "Epoch: 25 Train Loss: 0.1435 Train Acc: 0.0853 Val Loss: 0.1824 Val Acc: 0.9459\n",
      "Epoch: 26 Train Loss: 0.1024 Train Acc: 0.0806 Val Loss: 0.2194 Val Acc: 0.8919\n",
      "Epoch: 27 Train Loss: 0.0944 Train Acc: 0.0900 Val Loss: 0.1848 Val Acc: 0.9189\n",
      "Epoch: 28 Train Loss: 0.1083 Train Acc: 0.0806 Val Loss: 0.1754 Val Acc: 0.9459\n",
      "Epoch: 29 Train Loss: 0.0951 Train Acc: 0.0853 Val Loss: 0.2250 Val Acc: 0.9189\n"
     ]
    }
   ],
   "source": [
    "train_model(train_loader_canny, val_loader_canny, 30, name_model='ModelA_canny.pth')"
   ]
  },
  {
   "cell_type": "code",
   "execution_count": 12,
   "metadata": {},
   "outputs": [
    {
     "data": {
      "application/vnd.jupyter.widget-view+json": {
       "model_id": "83476d8497274a6f80c0e6ae10517f40",
       "version_major": 2,
       "version_minor": 0
      },
      "text/plain": [
       "VBox(children=(Label(value='0.735 MB of 0.735 MB uploaded\\r'), FloatProgress(value=1.0, max=1.0)))"
      ]
     },
     "metadata": {},
     "output_type": "display_data"
    },
    {
     "data": {
      "text/html": [
       "<style>\n",
       "    table.wandb td:nth-child(1) { padding: 0 10px; text-align: left ; width: auto;} td:nth-child(2) {text-align: left ; width: 100%}\n",
       "    .wandb-row { display: flex; flex-direction: row; flex-wrap: wrap; justify-content: flex-start; width: 100% }\n",
       "    .wandb-col { display: flex; flex-direction: column; flex-basis: 100%; flex: 1; padding: 10px; }\n",
       "    </style>\n",
       "<div class=\"wandb-row\"><div class=\"wandb-col\"><h3>Run history:</h3><br/><table class=\"wandb\"><tr><td>Epoch</td><td>▁▁▁▂▂▂▂▃▃▃▃▄▄▄▄▅▅▅▅▆▆▆▆▇▇▇▇███</td></tr><tr><td>Train Acc</td><td>▁▄▆▃▆▆▄▅▄▆█▆▆██▆▅▄▇█████▆▇▆█▆▇</td></tr><tr><td>Train Loss</td><td>█▇▅▅▄▄▃▃▃▃▂▂▂▂▂▂▂▂▂▂▂▂▁▁▁▂▁▁▁▁</td></tr><tr><td>Val Acc</td><td>▁▆▅▇▅▆▇▇▇▇▇▇▇▇▇▇▇▇▇▇▇▇▇█▇█▇▇█▇</td></tr><tr><td>Val Loss</td><td>█▃▃▂▂▂▂▂▂▂▂▂▂▂▂▁▁▁▁▁▁▁▁▁▁▁▁▁▁▁</td></tr></table><br/></div><div class=\"wandb-col\"><h3>Run summary:</h3><br/><table class=\"wandb\"><tr><td>Epoch</td><td>29</td></tr><tr><td>Train Acc</td><td>0.08531</td></tr><tr><td>Train Loss</td><td>0.09513</td></tr><tr><td>Val Acc</td><td>0.91892</td></tr><tr><td>Val Loss</td><td>0.22495</td></tr></table><br/></div></div>"
      ],
      "text/plain": [
       "<IPython.core.display.HTML object>"
      ]
     },
     "metadata": {},
     "output_type": "display_data"
    },
    {
     "data": {
      "text/html": [
       " View run <strong style=\"color:#cdcd00\">hopeful-water-58</strong> at: <a href='https://wandb.ai/iaredescnncnn-instituto-tecnol-gico-de-costa-rica/Model-A/runs/onxgy130' target=\"_blank\">https://wandb.ai/iaredescnncnn-instituto-tecnol-gico-de-costa-rica/Model-A/runs/onxgy130</a><br/> View project at: <a href='https://wandb.ai/iaredescnncnn-instituto-tecnol-gico-de-costa-rica/Model-A' target=\"_blank\">https://wandb.ai/iaredescnncnn-instituto-tecnol-gico-de-costa-rica/Model-A</a><br/>Synced 5 W&B file(s), 0 media file(s), 0 artifact file(s) and 0 other file(s)"
      ],
      "text/plain": [
       "<IPython.core.display.HTML object>"
      ]
     },
     "metadata": {},
     "output_type": "display_data"
    },
    {
     "data": {
      "text/html": [
       "Find logs at: <code>.\\wandb\\run-20241017_163834-onxgy130\\logs</code>"
      ],
      "text/plain": [
       "<IPython.core.display.HTML object>"
      ]
     },
     "metadata": {},
     "output_type": "display_data"
    }
   ],
   "source": [
    "wandb.finish()"
   ]
  },
  {
   "cell_type": "markdown",
   "metadata": {},
   "source": [
    "## Testing"
   ]
  },
  {
   "cell_type": "code",
   "execution_count": 5,
   "metadata": {},
   "outputs": [],
   "source": [
    "from sklearn.metrics import confusion_matrix, accuracy_score, precision_score, recall_score, f1_score, ConfusionMatrixDisplay\n",
    "import matplotlib.pyplot as plt\n",
    "import seaborn as sns\n",
    "import numpy as np\n",
    "\n",
    "def test_model(test_loader_p,name_model):\n",
    "    # Se carga el modelo\n",
    "    resnet50.load_state_dict(torch.load(name_model))\n",
    "    resnet50.eval()\n",
    "    test_corrects = 0\n",
    "    all_predictions = []\n",
    "    all_labels = []\n",
    "    with torch.no_grad():\n",
    "        for inputs,labels in test_loader_p:\n",
    "            inputs, labels = inputs.to(device), labels.to(device)\n",
    "            outputs = resnet50(inputs)\n",
    "            _,predicted = torch.max(outputs, 1)\n",
    "            test_corrects += torch.sum(predicted == labels.data)\n",
    "\n",
    "            all_predictions.extend(predicted.cpu().numpy())\n",
    "            all_labels.extend(labels.cpu().numpy())\n",
    "            \n",
    "        all_predictions = np.array(all_predictions)   \n",
    "        all_labels = np.array(all_labels)\n",
    "\n",
    "        # Accuracy, precision, recall y F1\n",
    "        test_acc = test_corrects.double() / len(test_loader.dataset)\n",
    "        precision = precision_score(all_labels, all_predictions, average='macro')\n",
    "        recall = recall_score(all_labels, all_predictions, average='macro')\n",
    "        f1 = f1_score(all_labels, all_predictions, average='macro')\n",
    "    \n",
    "        print('Accuracy: {:.4f}'.format(test_acc)) \n",
    "        print('Precision: {:.4f}'.format(precision))\n",
    "        print('Recall: {:.4f}'.format(recall))\n",
    "        print('F1: {:.4f}'.format(f1))\n",
    "        cm = confusion_matrix(all_labels, all_predictions)\n",
    "        wandb.log({\n",
    "            \"Accuracy\": test_acc,\n",
    "            \"Precision\": precision,\n",
    "            \"Recall\": recall,\n",
    "            \"F1\": f1,\n",
    "        })  \n",
    "        disp = ConfusionMatrixDisplay(confusion_matrix=cm, display_labels=range(len(np.unique(all_labels))))\n",
    "        disp.plot()\n",
    "        plt.title('Matriz de confusión')\n",
    "        plt.show()\n"
   ]
  },
  {
   "cell_type": "markdown",
   "metadata": {},
   "source": [
    "\n",
    "### Crudo"
   ]
  },
  {
   "cell_type": "code",
   "execution_count": 6,
   "metadata": {},
   "outputs": [
    {
     "name": "stderr",
     "output_type": "stream",
     "text": [
      "C:\\Users\\richa\\AppData\\Local\\Temp\\ipykernel_11564\\2231469803.py:8: FutureWarning: You are using `torch.load` with `weights_only=False` (the current default value), which uses the default pickle module implicitly. It is possible to construct malicious pickle data which will execute arbitrary code during unpickling (See https://github.com/pytorch/pytorch/blob/main/SECURITY.md#untrusted-models for more details). In a future release, the default value for `weights_only` will be flipped to `True`. This limits the functions that could be executed during unpickling. Arbitrary objects will no longer be allowed to be loaded via this mode unless they are explicitly allowlisted by the user via `torch.serialization.add_safe_globals`. We recommend you start setting `weights_only=True` for any use case where you don't have full control of the loaded file. Please open an issue on GitHub for any issues related to this experimental feature.\n",
      "  resnet50.load_state_dict(torch.load(name_model))\n"
     ]
    },
    {
     "name": "stdout",
     "output_type": "stream",
     "text": [
      "Accuracy: 0.7727\n",
      "Precision: 0.8571\n",
      "Recall: 0.7500\n",
      "F1: 0.7091\n"
     ]
    },
    {
     "data": {
      "image/png": "[encoded data removed]",
      "text/plain": [
       "<Figure size 640x480 with 2 Axes>"
      ]
     },
     "metadata": {},
     "output_type": "display_data"
    }
   ],
   "source": [
    "test_model(test_loader, name_model='ModelA_raw.pth')"
   ]
  },
  {
   "cell_type": "markdown",
   "metadata": {},
   "source": [
    "### Bilateral"
   ]
  },
  {
   "cell_type": "code",
   "execution_count": 12,
   "metadata": {},
   "outputs": [
    {
     "name": "stderr",
     "output_type": "stream",
     "text": [
      "C:\\Users\\richa\\AppData\\Local\\Temp\\ipykernel_9480\\2231469803.py:8: FutureWarning: You are using `torch.load` with `weights_only=False` (the current default value), which uses the default pickle module implicitly. It is possible to construct malicious pickle data which will execute arbitrary code during unpickling (See https://github.com/pytorch/pytorch/blob/main/SECURITY.md#untrusted-models for more details). In a future release, the default value for `weights_only` will be flipped to `True`. This limits the functions that could be executed during unpickling. Arbitrary objects will no longer be allowed to be loaded via this mode unless they are explicitly allowlisted by the user via `torch.serialization.add_safe_globals`. We recommend you start setting `weights_only=True` for any use case where you don't have full control of the loaded file. Please open an issue on GitHub for any issues related to this experimental feature.\n",
      "  resnet50.load_state_dict(torch.load(name_model))\n"
     ]
    },
    {
     "name": "stdout",
     "output_type": "stream",
     "text": [
      "Accuracy: 0.9394\n",
      "Precision: 0.9368\n",
      "Recall: 0.9333\n",
      "F1: 0.9347\n"
     ]
    },
    {
     "data": {
      "image/png": "[encoded data removed]",
      "text/plain": [
       "<Figure size 640x480 with 2 Axes>"
      ]
     },
     "metadata": {},
     "output_type": "display_data"
    }
   ],
   "source": [
    "test_model(test_loader_bilateral, name_model='ModelA_bilateral.pth')"
   ]
  },
  {
   "cell_type": "markdown",
   "metadata": {},
   "source": [
    "### Canny"
   ]
  },
  {
   "cell_type": "code",
   "execution_count": 13,
   "metadata": {},
   "outputs": [
    {
     "name": "stderr",
     "output_type": "stream",
     "text": [
      "C:\\Users\\richa\\AppData\\Local\\Temp\\ipykernel_9480\\2231469803.py:8: FutureWarning: You are using `torch.load` with `weights_only=False` (the current default value), which uses the default pickle module implicitly. It is possible to construct malicious pickle data which will execute arbitrary code during unpickling (See https://github.com/pytorch/pytorch/blob/main/SECURITY.md#untrusted-models for more details). In a future release, the default value for `weights_only` will be flipped to `True`. This limits the functions that could be executed during unpickling. Arbitrary objects will no longer be allowed to be loaded via this mode unless they are explicitly allowlisted by the user via `torch.serialization.add_safe_globals`. We recommend you start setting `weights_only=True` for any use case where you don't have full control of the loaded file. Please open an issue on GitHub for any issues related to this experimental feature.\n",
      "  resnet50.load_state_dict(torch.load(name_model))\n"
     ]
    },
    {
     "name": "stdout",
     "output_type": "stream",
     "text": [
      "Accuracy: 0.8333\n",
      "Precision: 0.8817\n",
      "Recall: 0.8244\n",
      "F1: 0.8180\n"
     ]
    },
    {
     "data": {
      "image/png": "[encoded data removed]",
      "text/plain": [
       "<Figure size 640x480 with 2 Axes>"
      ]
     },
     "metadata": {},
     "output_type": "display_data"
    },
    {
     "name": "stderr",
     "output_type": "stream",
     "text": [
      "wandb: WARNING Fatal error while uploading data. Some run data will not be synced, but it will still be written to disk. Use `wandb sync` at the end of the run to try uploading.\n"
     ]
    }
   ],
   "source": [
    "test_model(test_loader_canny, name_model='ModelA_canny.pth')"
   ]
  }
 ],
 "metadata": {
  "kernelspec": {
   "display_name": "base",
   "language": "python",
   "name": "python3"
  },
  "language_info": {
   "codemirror_mode": {
    "name": "ipython",
    "version": 3
   },
   "file_extension": ".py",
   "mimetype": "text/x-python",
   "name": "python",
   "nbconvert_exporter": "python",
   "pygments_lexer": "ipython3",
   "version": "3.12.3"
  }
 },
 "nbformat": 4,
 "nbformat_minor": 2
}
