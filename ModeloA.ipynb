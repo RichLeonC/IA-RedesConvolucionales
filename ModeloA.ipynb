{
 "cells": [
  {
   "cell_type": "markdown",
   "metadata": {},
   "source": [
    "# Modelo A para clasificación de imagenes\n",
    "\n",
    "#### Jeffrey Daniel Leiva Cascante 2021016720\n",
    "#### Richard Osvaldo León Chinchilla 2019003759\n",
    "\n",
    "## Inicialización"
   ]
  },
  {
   "cell_type": "code",
   "execution_count": 1,
   "metadata": {},
   "outputs": [
    {
     "name": "stdout",
     "output_type": "stream",
     "text": [
      "2.4.1+cu118\n",
      "True\n"
     ]
    }
   ],
   "source": [
    "import torch\n",
    "print(torch.__version__)\n",
    "print(torch.cuda.is_available())\n",
    "\n",
    "from torchvision import transforms, datasets\n",
    "from torch.utils.data import DataLoader, random_split\n",
    "\n",
    "transform = transforms.Compose([\n",
    "    transforms.Resize((224, 224)), # Resnet es de 224x224\n",
    "    transforms.ToTensor(),\n",
    "    transforms.Normalize(mean=[0.5], std=[0.5]),\n",
    "    transforms.RandomRotation(20),  # Rotación aleatoria\n",
    "    transforms.RandomHorizontalFlip(),  # Inversión horizontal aleatoria\n",
    "    transforms.ColorJitter(brightness=0.2, contrast=0.2),  # Variación de brillo y contraste\n",
    "])\n",
    "\n",
    "\n",
    "train_dataset = datasets.ImageFolder(root='./Covid19-dataset-filters/train', transform=transform)\n",
    "\n",
    "val_percent = 0.15\n",
    "\n",
    "# Calculamos el tamaño de los conjuntos de entrenamiento y validación\n",
    "val_size = int(val_percent * len(train_dataset))\n",
    "train_size = len(train_dataset) - val_size\n",
    "\n",
    "# Se divide el dataset en dos\n",
    "train_dataset, val_dataset = random_split(train_dataset, [train_size, val_size])\n",
    "\n",
    "# Creamos los dataloaders\n",
    "train_loader = DataLoader(train_dataset, batch_size=32, shuffle=True)\n",
    "val_loader = DataLoader(val_dataset, batch_size=32, shuffle=True)"
   ]
  },
  {
   "cell_type": "markdown",
   "metadata": {},
   "source": [
    "## Carga de Resnet-50 preentrenado"
   ]
  },
  {
   "cell_type": "code",
   "execution_count": null,
   "metadata": {},
   "outputs": [],
   "source": [
    "import torch.nn as nn\n",
    "import torchvision.models as models\n",
    "\n",
    "# Cargamos el modelo preentrenado\n",
    "resnet50  = models.resnet50(pretrained=True)\n",
    "\n",
    "# Se modifica la capa final para adaptarla a 3 clases\n",
    "num_classes = 3\n",
    "num_ftrs = resnet50.fc.in_features\n",
    "resnet50.fc = nn.Linear(num_ftrs, num_classes)\n",
    "\n",
    "# Se congela el modelo para que no se actualicen los pesos de las capas preentrenadas\n",
    "for param in resnet50.parameters():\n",
    "    param.requires_grad = False\n",
    "\n",
    "# Se mueve el modelo a la GPU\n",
    "device = torch.device('cuda' if torch.cuda.is_available() else 'cpu')\n",
    "resnet50 = resnet50.to(device)\n",
    "\n",
    "# Solo los parametros de la capa final se entrenan\n",
    "optimizer = torch.optim.Adam(resnet50.fc.parameters(), lr=0.001)\n",
    "\n",
    "# Se define la función de pérdida\n",
    "criterion = nn.CrossEntropyLoss()"
   ]
  },
  {
   "cell_type": "markdown",
   "metadata": {},
   "source": [
    "## Ciclo de entrenamiento"
   ]
  },
  {
   "cell_type": "code",
   "execution_count": null,
   "metadata": {},
   "outputs": [],
   "source": [
    "# Epochs\n",
    "n_epochs = 10\n",
    "\n",
    "# Entrenamiento\n",
    "for epoch in range(n_epochs):\n",
    "    resnet50.train()\n",
    "    train_loss = 0.0\n",
    "    for input,labels in train_loader:\n",
    "        inputs, labels = input.to(device), labels.to(device)\n",
    "        optimizer.zero_grad() # Se ponen a cero los gradientes\n",
    "        outputs = resnet50(inputs)\n",
    "        loss = criterion(outputs, labels)\n",
    "\n",
    "        loss.backward() # Se calculan los gradientes\n",
    "        optimizer.step()\n",
    "\n",
    "        train_loss += loss.item() * inputs.size(0)\n",
    "    epoch_loss = train_loss / len(train_loader.dataset)\n",
    "    print('Epoch {} / {} - Training Loss: {:.4f}'.format(epoch+1, n_epochs, epoch_loss))\n",
    "\n"
   ]
  },
  {
   "cell_type": "markdown",
   "metadata": {},
   "source": [
    "## Validación"
   ]
  }
 ],
 "metadata": {
  "kernelspec": {
   "display_name": "base",
   "language": "python",
   "name": "python3"
  },
  "language_info": {
   "codemirror_mode": {
    "name": "ipython",
    "version": 3
   },
   "file_extension": ".py",
   "mimetype": "text/x-python",
   "name": "python",
   "nbconvert_exporter": "python",
   "pygments_lexer": "ipython3",
   "version": "3.12.3"
  }
 },
 "nbformat": 4,
 "nbformat_minor": 2
}
