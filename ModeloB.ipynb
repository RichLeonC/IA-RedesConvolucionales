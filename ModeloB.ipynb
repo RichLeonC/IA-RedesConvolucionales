{
  "cells": [
    {
      "cell_type": "markdown",
      "metadata": {
        "id": "bnG8uRdCh8Na"
      },
      "source": [
        "# Modelo B para clasificación de imagenes\n",
        "\n",
        "#### Jeffrey Daniel Leiva Cascante 2021016720\n",
        "#### Richard Osvaldo León Chinchilla carnet"
      ]
    },
    {
      "cell_type": "code",
      "execution_count": 1,
      "metadata": {
        "id": "zcmg7q7Fh8Nv"
      },
      "outputs": [],
      "source": [
        "import torch\n",
        "import torch.nn as nn\n",
        "import torch.nn.functional as F\n",
        "import torch.optim as optim\n",
        "from torchvision import datasets, transforms\n",
        "from torch.utils.data import DataLoader, SubsetRandomSampler, random_split\n",
        "import numpy as np\n",
        "import matplotlib.pyplot as plt\n",
        "import torchvision\n",
        "from torchsummary import summary\n"
      ]
    },
    {
      "cell_type": "code",
      "execution_count": 2,
      "metadata": {
        "colab": {
          "base_uri": "https://localhost:8080/"
        },
        "id": "JNuSZWCkD8cL",
        "outputId": "9684bd7f-acaf-45b7-f29b-bd693cd0d039"
      },
      "outputs": [
        {
          "output_type": "stream",
          "name": "stdout",
          "text": [
            "Mounted at /content/drive\n"
          ]
        },
        {
          "output_type": "execute_result",
          "data": {
            "text/plain": [
              "False"
            ]
          },
          "metadata": {},
          "execution_count": 2
        }
      ],
      "source": [
        "from google.colab import drive\n",
        "drive.mount('/content/drive')\n",
        "torch.cuda.is_available()"
      ]
    },
    {
      "cell_type": "code",
      "source": [
        "from google.colab import drive\n",
        "drive.mount('/content/drive')"
      ],
      "metadata": {
        "id": "G6NeOhotgMxO"
      },
      "execution_count": null,
      "outputs": []
    },
    {
      "cell_type": "code",
      "source": [
        "device = torch.device(\"cuda\" if torch.cuda.is_available() else \"cpu\")"
      ],
      "metadata": {
        "id": "8JRF-D3QxZlx"
      },
      "execution_count": 3,
      "outputs": []
    },
    {
      "cell_type": "markdown",
      "metadata": {
        "id": "4s3Y5hHrvgzp"
      },
      "source": [
        "## Propuesta de modelo 1\n",
        "\n",
        "Para la propuesta #1 del modelo B tenemos la siguiente arquitectura:\n",
        "\n",
        "La primera capa es una capa de convolución de dos dimensiones que recibe la imágen de 1 canal (en escala de grises), aplica 64 filtros con tamaño de kernel 3 y padding de 1, lo que da como resultado la salida de 128x128x64.\n",
        "\n",
        "La segunda capa aplica max pooling con un kernel de 2 y stride de 2, lo que produce una salida de 64x64x64.\n",
        "\n",
        "Seguido de esto se tiene el módulo de Inception, que aplica varias operaciones de convolución y pooling en paralelo, lo que permite que el modelo aprenda mejor las características a diferentes niveles de complejidad. Cuenta con 4 ramas, en las que se aplican diversos tamaños de kernels y la salida de las ramas es de 64x64x128. Todas estas se concatenan y su salida es de 64x64x512.\n",
        "\n",
        "Después se vuelve a aplicar max pooling con kernel de 2 y stride de 2, lo que da cómo resultado una salida de 32x32x512, se hace el flatten de la misma y esta es la entrada de la primera capa fully connected, la cual produce 128 canales de salida. La última capa tiene 128 canales de entrada y 3 de salida correspondientes a las tres categorías de imagenes.\n",
        "\n",
        "Se utiliza reLU cómo función de activación para las capas convolucionales"
      ]
    },
    {
      "cell_type": "code",
      "execution_count": 15,
      "metadata": {
        "id": "jTjOohHDvb_Z"
      },
      "outputs": [],
      "source": [
        "class InceptionModuleOne(nn.Module):\n",
        "  def __init__(self, chanels):\n",
        "    super(InceptionModuleOne, self).__init__()\n",
        "\n",
        "    self.branch1 = nn.Conv2d(chanels, 128, kernel_size=1)\n",
        "\n",
        "    self.branch2 = nn.Sequential(\n",
        "        nn.Conv2d(chanels, 128, kernel_size=1),\n",
        "        nn.ReLU(),\n",
        "        nn.Conv2d(128, 128, kernel_size=3, padding=1),\n",
        "        nn.ReLU()\n",
        "    )\n",
        "\n",
        "    self.branch3 = nn.Sequential(\n",
        "        nn.Conv2d(chanels, 128, kernel_size=1),\n",
        "        nn.ReLU(),\n",
        "        nn.Conv2d(128, 128, kernel_size=5, padding=2),\n",
        "        nn.ReLU(),\n",
        "    )\n",
        "\n",
        "    self.branch4 = nn.Sequential(\n",
        "        nn.MaxPool2d(kernel_size=3, stride=1, padding=1),\n",
        "        nn.Conv2d(chanels, 128, kernel_size=1),\n",
        "        nn.ReLU(),\n",
        "    )\n",
        "\n",
        "  def forward(self,x):\n",
        "    branch1 = F.relu(self.branch1(x))\n",
        "    branch2 = self.branch2(x)\n",
        "    branch3 = self.branch3(x)\n",
        "    branch4 = self.branch4(x)\n",
        "    return torch.cat([branch1, branch2, branch3, branch4],1)\n",
        "\n",
        "\n",
        "class CNNModelBOne(nn.Module):\n",
        "  def __init__(self):\n",
        "    super(CNNModelBOne, self).__init__()\n",
        "    self.conv1 = nn.Conv2d(1, 64, kernel_size=3, padding=1)\n",
        "    self.pool = nn.MaxPool2d(kernel_size=2, stride=2)\n",
        "    self.inception = InceptionModuleOne(64)\n",
        "    self.dropout = nn.Dropout(0.2)\n",
        "    self.fc1 = nn.Linear(512 *32 *32, 128)\n",
        "    self.fc2 = nn.Linear(128 , 3)\n",
        "\n",
        "  def forward(self,x):\n",
        "    x = F.relu(self.conv1(x))\n",
        "    x = self.pool(x)\n",
        "    x = self.inception(x)\n",
        "    x = self.pool(x)\n",
        "    x = self.dropout(x)\n",
        "    x = torch.flatten(x,1)\n",
        "    x = F.relu(self.fc1(x))\n",
        "    x = self.fc2(x)\n",
        "    return x\n",
        "\n"
      ]
    },
    {
      "cell_type": "markdown",
      "source": [
        "### Carga de datos y transformers de los datos"
      ],
      "metadata": {
        "id": "vYofdc8bqCCk"
      }
    },
    {
      "cell_type": "code",
      "source": [
        "train_data_transforms = transforms.Compose([\n",
        "    transforms.Resize((128, 128)),  # Redimensionar a 128x128\n",
        "    transforms.Grayscale(num_output_channels=1),  # Convertir a escala de grises\n",
        "    transforms.RandomRotation(20),  # Rotación aleatoria\n",
        "    transforms.RandomHorizontalFlip(),  # Inversión horizontal aleatoria\n",
        "    transforms.ColorJitter(brightness=0.2, contrast=0.2),  # Variación de brillo y contraste\n",
        "    transforms.ToTensor(),  # Convertir a tensor\n",
        "    transforms.Normalize(mean=[0.5], std=[0.5])  # Normalización\n",
        "])\n",
        "\n",
        "\n",
        "test_data_transforms = transforms.Compose([\n",
        "    transforms.Resize((128, 128)),  # Redimensionar a 128x128\n",
        "    transforms.Grayscale(num_output_channels=1),  # Convertir a escala de grises\n",
        "    transforms.ToTensor(),   # Convertir a tensor\n",
        "    transforms.Normalize(mean=[0.5], std=[0.5])  # Normalización\n",
        "])\n",
        "\n",
        "\n",
        "# Definir las rutas a las carpetas\n",
        "train_dir = './drive/MyDrive/Covid19-dataset/train'\n",
        "test_dir = './drive/MyDrive/Covid19-dataset/test'\n",
        "\n",
        "train_dataset = datasets.ImageFolder(root=train_dir, transform=train_data_transforms)\n",
        "test_dataset = datasets.ImageFolder(root=test_dir, transform=test_data_transforms)\n",
        "\n",
        "# Definir el tamaño del subconjunto que quieres usar\n",
        "subset_size = 0.2  # Por ejemplo, usar el 20% de los datos\n",
        "\n",
        "# Obtener los índices aleatorios para el subconjunto del conjunto de entrenamiento\n",
        "np.random.seed(42)\n",
        "train_size = len(train_dataset)\n",
        "indices = list(range(train_size))\n",
        "np.random.shuffle(indices)  # Mezclar los índices\n",
        "\n",
        "subset_indices = indices[:int(subset_size * train_size)]  # Obtener el subconjunto\n",
        "\n",
        "# Crear un SubsetRandomSampler con los índices seleccionados\n",
        "train_sampler = SubsetRandomSampler(subset_indices)\n",
        "\n",
        "# Obtener los índices aleatorios para el subconjunto del conjunto de testing\n",
        "test_size = len(test_dataset)\n",
        "indices_test = list(range(test_size))\n",
        "np.random.shuffle(indices_test)  # Mezclar los índices\n",
        "\n",
        "subset_indices_test = indices_test[:int(subset_size * test_size)]  # Obtener el subconjunto\n",
        "\n",
        "# Crear un SubsetRandomSampler con los índices seleccionados\n",
        "test_sampler = SubsetRandomSampler(subset_indices_test)\n",
        "\n",
        "# Definir DataLoader para el conjunto de entrenamiento con el subconjunto de datos\n",
        "train_loader = DataLoader(train_dataset, batch_size=8, sampler=train_sampler)\n",
        "\n",
        "# También puedes crear un DataLoader para el conjunto de prueba completo\n",
        "test_loader = DataLoader(test_dataset, batch_size=8, sampler=test_sampler)\n"
      ],
      "metadata": {
        "id": "Dm2Ar1hCqG0Y"
      },
      "execution_count": 4,
      "outputs": []
    },
    {
      "cell_type": "markdown",
      "metadata": {
        "id": "12nJbPdVFopw"
      },
      "source": [
        "### Proof of Concept Modelo 1"
      ]
    },
    {
      "cell_type": "code",
      "execution_count": 36,
      "metadata": {
        "colab": {
          "base_uri": "https://localhost:8080/"
        },
        "id": "hdbfJ79pFqrz",
        "outputId": "c2ea12fc-1996-4fb3-d702-e0c486e104ed"
      },
      "outputs": [
        {
          "output_type": "stream",
          "name": "stdout",
          "text": [
            "Epoch 1/50, Train Loss: 1.1141, Train Accuracy: 48.00%, Val Loss: 0.9706, Val Accuracy: 53.85%\n",
            "Epoch 2/50, Train Loss: 1.0273, Train Accuracy: 36.00%, Val Loss: 1.1734, Val Accuracy: 46.15%\n",
            "Epoch 3/50, Train Loss: 0.8629, Train Accuracy: 68.00%, Val Loss: 0.8886, Val Accuracy: 69.23%\n",
            "Epoch 4/50, Train Loss: 0.8075, Train Accuracy: 58.00%, Val Loss: 0.8434, Val Accuracy: 46.15%\n",
            "Epoch 5/50, Train Loss: 0.5840, Train Accuracy: 74.00%, Val Loss: 1.1714, Val Accuracy: 46.15%\n",
            "Epoch 6/50, Train Loss: 0.5803, Train Accuracy: 76.00%, Val Loss: 0.7456, Val Accuracy: 61.54%\n",
            "Epoch 7/50, Train Loss: 0.4981, Train Accuracy: 82.00%, Val Loss: 0.9653, Val Accuracy: 46.15%\n",
            "Epoch 8/50, Train Loss: 0.4062, Train Accuracy: 86.00%, Val Loss: 0.7758, Val Accuracy: 69.23%\n",
            "Epoch 9/50, Train Loss: 0.3610, Train Accuracy: 86.00%, Val Loss: 0.7158, Val Accuracy: 69.23%\n",
            "Epoch 10/50, Train Loss: 0.2927, Train Accuracy: 88.00%, Val Loss: 0.9219, Val Accuracy: 61.54%\n",
            "Epoch 11/50, Train Loss: 0.2829, Train Accuracy: 88.00%, Val Loss: 0.7687, Val Accuracy: 61.54%\n",
            "Epoch 12/50, Train Loss: 0.2689, Train Accuracy: 92.00%, Val Loss: 0.7416, Val Accuracy: 76.92%\n",
            "Epoch 13/50, Train Loss: 0.4455, Train Accuracy: 90.00%, Val Loss: 1.2243, Val Accuracy: 53.85%\n",
            "Epoch 14/50, Train Loss: 0.6064, Train Accuracy: 80.00%, Val Loss: 1.3030, Val Accuracy: 46.15%\n",
            "Epoch 15/50, Train Loss: 0.4018, Train Accuracy: 78.00%, Val Loss: 0.5292, Val Accuracy: 84.62%\n",
            "Epoch 16/50, Train Loss: 0.3555, Train Accuracy: 80.00%, Val Loss: 1.3172, Val Accuracy: 46.15%\n",
            "Epoch 17/50, Train Loss: 0.2389, Train Accuracy: 88.00%, Val Loss: 0.7729, Val Accuracy: 53.85%\n",
            "Epoch 18/50, Train Loss: 0.2254, Train Accuracy: 94.00%, Val Loss: 0.6187, Val Accuracy: 69.23%\n",
            "Epoch 19/50, Train Loss: 0.1764, Train Accuracy: 94.00%, Val Loss: 1.0637, Val Accuracy: 53.85%\n",
            "Epoch 20/50, Train Loss: 0.1937, Train Accuracy: 90.00%, Val Loss: 0.6884, Val Accuracy: 69.23%\n",
            "Epoch 21/50, Train Loss: 0.3032, Train Accuracy: 94.00%, Val Loss: 0.7256, Val Accuracy: 69.23%\n",
            "Epoch 22/50, Train Loss: 0.2243, Train Accuracy: 86.00%, Val Loss: 1.1593, Val Accuracy: 53.85%\n",
            "Epoch 23/50, Train Loss: 0.1731, Train Accuracy: 90.00%, Val Loss: 0.7078, Val Accuracy: 69.23%\n",
            "Epoch 24/50, Train Loss: 0.1859, Train Accuracy: 94.00%, Val Loss: 1.0404, Val Accuracy: 61.54%\n",
            "Epoch 25/50, Train Loss: 0.1332, Train Accuracy: 98.00%, Val Loss: 1.4078, Val Accuracy: 53.85%\n",
            "Epoch 26/50, Train Loss: 0.1423, Train Accuracy: 96.00%, Val Loss: 0.9873, Val Accuracy: 53.85%\n",
            "Epoch 27/50, Train Loss: 0.1743, Train Accuracy: 96.00%, Val Loss: 0.6075, Val Accuracy: 84.62%\n",
            "Epoch 28/50, Train Loss: 0.1986, Train Accuracy: 94.00%, Val Loss: 1.4500, Val Accuracy: 53.85%\n",
            "Epoch 29/50, Train Loss: 0.1273, Train Accuracy: 94.00%, Val Loss: 0.9792, Val Accuracy: 69.23%\n",
            "Epoch 30/50, Train Loss: 0.1354, Train Accuracy: 94.00%, Val Loss: 0.7858, Val Accuracy: 61.54%\n",
            "Epoch 31/50, Train Loss: 0.1124, Train Accuracy: 94.00%, Val Loss: 1.1369, Val Accuracy: 61.54%\n",
            "Epoch 32/50, Train Loss: 0.0918, Train Accuracy: 96.00%, Val Loss: 1.1744, Val Accuracy: 61.54%\n",
            "Epoch 33/50, Train Loss: 0.0764, Train Accuracy: 98.00%, Val Loss: 0.9174, Val Accuracy: 61.54%\n",
            "Epoch 34/50, Train Loss: 0.0700, Train Accuracy: 100.00%, Val Loss: 1.1457, Val Accuracy: 61.54%\n",
            "Epoch 35/50, Train Loss: 0.1193, Train Accuracy: 92.00%, Val Loss: 0.8742, Val Accuracy: 61.54%\n",
            "Epoch 36/50, Train Loss: 0.1169, Train Accuracy: 96.00%, Val Loss: 1.1020, Val Accuracy: 76.92%\n",
            "Epoch 37/50, Train Loss: 0.0853, Train Accuracy: 98.00%, Val Loss: 1.0689, Val Accuracy: 61.54%\n",
            "Epoch 38/50, Train Loss: 0.2044, Train Accuracy: 94.00%, Val Loss: 0.7919, Val Accuracy: 61.54%\n",
            "Epoch 39/50, Train Loss: 0.2375, Train Accuracy: 88.00%, Val Loss: 0.9479, Val Accuracy: 61.54%\n",
            "Epoch 40/50, Train Loss: 0.0732, Train Accuracy: 98.00%, Val Loss: 1.1422, Val Accuracy: 61.54%\n",
            "Epoch 41/50, Train Loss: 0.1202, Train Accuracy: 96.00%, Val Loss: 0.7308, Val Accuracy: 84.62%\n",
            "Epoch 42/50, Train Loss: 0.1652, Train Accuracy: 94.00%, Val Loss: 0.9259, Val Accuracy: 61.54%\n",
            "Epoch 43/50, Train Loss: 0.2322, Train Accuracy: 92.00%, Val Loss: 0.6731, Val Accuracy: 76.92%\n",
            "Epoch 44/50, Train Loss: 0.1542, Train Accuracy: 90.00%, Val Loss: 0.9100, Val Accuracy: 92.31%\n",
            "Epoch 45/50, Train Loss: 0.1041, Train Accuracy: 94.00%, Val Loss: 1.0233, Val Accuracy: 61.54%\n",
            "Epoch 46/50, Train Loss: 0.0596, Train Accuracy: 98.00%, Val Loss: 0.9272, Val Accuracy: 84.62%\n",
            "Epoch 47/50, Train Loss: 0.1023, Train Accuracy: 98.00%, Val Loss: 0.7891, Val Accuracy: 76.92%\n",
            "Epoch 48/50, Train Loss: 0.0352, Train Accuracy: 100.00%, Val Loss: 0.7809, Val Accuracy: 76.92%\n",
            "Epoch 49/50, Train Loss: 0.0665, Train Accuracy: 96.00%, Val Loss: 0.8977, Val Accuracy: 76.92%\n",
            "Epoch 50/50, Train Loss: 0.0453, Train Accuracy: 100.00%, Val Loss: 0.8661, Val Accuracy: 76.92%\n"
          ]
        }
      ],
      "source": [
        "\n",
        "model = CNNModelBOne()\n",
        "model.to(device)\n",
        "\n",
        "criterion = nn.CrossEntropyLoss()\n",
        "optimizer = optim.SGD(model.parameters(), lr=0.001, momentum=0.9)\n",
        "\n",
        "# Definir la función de entrenamiento\n",
        "def train_model_with_subset(model, train_loader, test_loader, criterion, optimizer, epochs=10):\n",
        "    for epoch in range(epochs):\n",
        "        model.train()  # Poner el modelo en modo de entrenamiento\n",
        "\n",
        "        running_loss = 0.0\n",
        "        correct = 0\n",
        "        total = 0\n",
        "\n",
        "        # Training\n",
        "        for inputs, labels in train_loader:\n",
        "            inputs, labels = inputs.to(device), labels.to(device)\n",
        "\n",
        "            optimizer.zero_grad()  # Limpiar los gradientes\n",
        "            outputs = model(inputs)  # Hacer una predicción\n",
        "            loss = criterion(outputs, labels)  # Calcular la pérdida\n",
        "            loss.backward()  # Hacer backpropagation\n",
        "            optimizer.step()  # Actualizar los pesos\n",
        "\n",
        "            running_loss += loss.item()\n",
        "            _, predicted = outputs.max(1)\n",
        "            total += labels.size(0)\n",
        "            correct += predicted.eq(labels).sum().item()\n",
        "\n",
        "        train_loss = running_loss / len(train_loader)\n",
        "        train_accuracy = 100 * correct / total\n",
        "\n",
        "        # Validation\n",
        "        model.eval()  # Set the model to evaluation mode\n",
        "        val_running_loss = 0.0\n",
        "        val_correct = 0\n",
        "        val_total = 0\n",
        "        with torch.no_grad():  # Disable gradients for validation\n",
        "            for inputs, labels in test_loader:\n",
        "                inputs, labels = inputs.to(device), labels.to(device)\n",
        "\n",
        "                outputs = model(inputs)\n",
        "                loss = criterion(outputs, labels)\n",
        "                val_running_loss += loss.item()\n",
        "\n",
        "                _, predicted = outputs.max(1)\n",
        "                val_total += labels.size(0)\n",
        "                val_correct += predicted.eq(labels).sum().item()\n",
        "\n",
        "        val_loss = val_running_loss / len(test_loader)\n",
        "        val_accuracy = 100 * val_correct / val_total\n",
        "\n",
        "        print(f\"Epoch {epoch+1}/{epochs}, \"\n",
        "              f\"Train Loss: {train_loss:.4f}, Train Accuracy: {train_accuracy:.2f}%, \"\n",
        "              f\"Val Loss: {val_loss:.4f}, Val Accuracy: {val_accuracy:.2f}%\")\n",
        "\n",
        "# Train the model with validation\n",
        "train_model_with_subset(model, train_loader, test_loader, criterion, optimizer, epochs=50)\n",
        "\n",
        "\n",
        "\n"
      ]
    },
    {
      "cell_type": "code",
      "execution_count": 5,
      "metadata": {
        "colab": {
          "base_uri": "https://localhost:8080/",
          "height": 336
        },
        "id": "5IsGnz9VmGnl",
        "outputId": "401ab6fa-3c88-4b0b-fea5-4d8aa1d64be2"
      },
      "outputs": [
        {
          "output_type": "stream",
          "name": "stdout",
          "text": [
            "{'Covid': 0, 'Normal': 1, 'Viral Pneumonia': 2}\n",
            "{'Covid': 0, 'Normal': 1, 'Viral Pneumonia': 2}\n",
            "tensor([1, 1, 1, 2, 1, 1, 0, 1])\n"
          ]
        },
        {
          "output_type": "display_data",
          "data": {
            "text/plain": [
              "<Figure size 640x480 with 1 Axes>"
            ],
            "image/png": "[encoded data removed]"
          },
          "metadata": {}
        },
        {
          "output_type": "stream",
          "name": "stdout",
          "text": [
            "GroundTruth\n",
            "Normal\n",
            "Normal\n",
            "Normal\n",
            "Viral Pneumonia\n",
            "Normal\n",
            "Normal\n",
            "Covid\n",
            "Normal\n"
          ]
        }
      ],
      "source": [
        "classes = ('Covid', 'Normal','Viral Pneumonia')\n",
        "\n",
        "#Para ver com se asignan las etiquetas a cada clase en el set de training\n",
        "print(train_dataset.class_to_idx)\n",
        "#Lo mismo pero para el set de testing\n",
        "print(test_dataset.class_to_idx)\n",
        "\n",
        "dataiter = iter(test_loader)\n",
        "images, labels = next(dataiter)\n",
        "\n",
        "print(labels)\n",
        "\n",
        "def imshow(img):\n",
        "    # Desnormalizar: (img * std) + mean\n",
        "    img = img * 0.5 + 0.5  # Desnormalizar usando mean=0.5 y std=0.5\n",
        "    npimg = img.numpy()\n",
        "    plt.imshow(np.transpose(npimg, (1, 2, 0)), cmap='gray')  # Añadir cmap si es necesario\n",
        "    plt.show()\n",
        "\n",
        "imshow(torchvision.utils.make_grid(images))\n",
        "\n",
        "print('GroundTruth')\n",
        "for j in range(8):\n",
        "    print(f'{classes[labels[j]]:5s}')"
      ]
    },
    {
      "cell_type": "code",
      "execution_count": 10,
      "metadata": {
        "colab": {
          "base_uri": "https://localhost:8080/"
        },
        "id": "AR1AmE2d2Ta6",
        "outputId": "c52ad9fd-c494-4a0a-bce4-9396c23c9ea6"
      },
      "outputs": [
        {
          "output_type": "stream",
          "name": "stdout",
          "text": [
            "Predicted: \n",
            "Viral Pneumonia\n",
            "Viral Pneumonia\n",
            "Viral Pneumonia\n",
            "Viral Pneumonia\n",
            "Viral Pneumonia\n",
            "Normal\n",
            "Viral Pneumonia\n",
            "Viral Pneumonia\n"
          ]
        }
      ],
      "source": [
        "images = images.to(device)  # Mueve las imágenes a la GPU si está disponible\n",
        "\n",
        "outputs = model(images)\n",
        "_, predicted = torch.max(outputs, 1)\n",
        "\n",
        "print('Predicted: ')\n",
        "\n",
        "for j in range(8):\n",
        "    print(f'{classes[predicted[j]]:5s}')\n"
      ]
    },
    {
      "cell_type": "code",
      "execution_count": 40,
      "metadata": {
        "colab": {
          "base_uri": "https://localhost:8080/"
        },
        "id": "YFhx9k6n5Erh",
        "outputId": "9e974971-4db5-4dc5-c83a-b9ae1d0556fb"
      },
      "outputs": [
        {
          "output_type": "stream",
          "name": "stdout",
          "text": [
            "Accuracy de la red en las 23 imagenes de test: 75 %\n"
          ]
        }
      ],
      "source": [
        "correct = 0\n",
        "total = 0\n",
        "# debido a que no estamos entrenando, no necesitamos calcular los gradientes para las salidas\n",
        "with torch.no_grad():\n",
        "    for data in test_loader:\n",
        "        images, labels = images.to(device), labels.to(device)\n",
        "        # calcular outputs corriendo imagenes en la red\n",
        "        outputs = model(images)\n",
        "        # La clase con mayor valor es la que escogemos como salida\n",
        "        _, predicted = torch.max(outputs.data, 1)\n",
        "        total += labels.size(0)\n",
        "        correct += (predicted == labels).sum().item()\n",
        "\n",
        "print(f'Accuracy de la red en las 23 imagenes de test: {100 * correct // total} %')"
      ]
    },
    {
      "cell_type": "markdown",
      "metadata": {
        "id": "N2rOd8cn7XdD"
      },
      "source": [
        "## Propuesta de modelo 2"
      ]
    },
    {
      "cell_type": "code",
      "source": [
        "class InceptionModuleTwo(nn.Module):\n",
        "  def __init__(self, chanels):\n",
        "    super(InceptionModuleTwo, self).__init__()\n",
        "\n",
        "    self.branch1 = nn.Sequential(\n",
        "        nn.Conv2d(chanels, 32, kernel_size=1),\n",
        "        nn.BatchNorm2d(32),\n",
        "        nn.ReLU()\n",
        "    )\n",
        "\n",
        "    self.branch2 = nn.Sequential(\n",
        "        nn.Conv2d(chanels, 32, kernel_size=1),\n",
        "        nn.BatchNorm2d(32),\n",
        "        nn.ReLU(),\n",
        "        nn.Conv2d(32, 64, kernel_size=3, padding=1),\n",
        "        nn.BatchNorm2d(64),\n",
        "        nn.ReLU()\n",
        "    )\n",
        "\n",
        "    self.branch3 = nn.Sequential(\n",
        "        nn.Conv2d(chanels, 32, kernel_size=1),\n",
        "        nn.BatchNorm2d(32),\n",
        "        nn.ReLU(),\n",
        "        nn.Conv2d(32, 64, kernel_size=5, padding=2),\n",
        "        nn.BatchNorm2d(64),\n",
        "        nn.ReLU(),\n",
        "    )\n",
        "\n",
        "    self.branch4 = nn.Sequential(\n",
        "        nn.MaxPool2d(kernel_size=3, stride=1, padding=1),\n",
        "        nn.Conv2d(chanels, 32, kernel_size=1),\n",
        "        nn.BatchNorm2d(32),\n",
        "        nn.ReLU(),\n",
        "    )\n",
        "\n",
        "  def forward(self,x):\n",
        "    branch1 = self.branch1(x)\n",
        "    branch2 = self.branch2(x)\n",
        "    branch3 = self.branch3(x)\n",
        "    branch4 = self.branch4(x)\n",
        "    return torch.cat([branch1, branch2, branch3, branch4],1)\n",
        "\n",
        "\n",
        "class CNNModelBTwo(nn.Module):\n",
        "    def __init__(self):\n",
        "        super(CNNModelBTwo, self).__init__()\n",
        "\n",
        "        self.conv1 = nn.Sequential(\n",
        "            nn.Conv2d(1, 32, kernel_size=3, padding=1),\n",
        "            nn.BatchNorm2d(32),  # Batch normalization\n",
        "            nn.ReLU()\n",
        "        )\n",
        "\n",
        "        self.conv2 = nn.Sequential(\n",
        "            nn.Conv2d(32, 64, kernel_size=3, padding=1),\n",
        "            nn.BatchNorm2d(64),  # Batch normalization\n",
        "            nn.ReLU()\n",
        "        )\n",
        "\n",
        "        self.pool = nn.MaxPool2d(kernel_size=2, stride=2)\n",
        "        self.dropout1 = nn.Dropout(0.2)\n",
        "\n",
        "        self.inception = InceptionModuleTwo(64)\n",
        "\n",
        "        self.conv3 = nn.Sequential(\n",
        "            nn.Conv2d(192, 128, kernel_size=3, padding=1),\n",
        "            nn.BatchNorm2d(128),  # Batch normalization\n",
        "            nn.ReLU()\n",
        "        )\n",
        "\n",
        "        self.conv4 = nn.Sequential(\n",
        "            nn.Conv2d(128, 256, kernel_size=3, padding=1),\n",
        "            nn.BatchNorm2d(256),  # Batch normalization\n",
        "            nn.ReLU()\n",
        "        )\n",
        "\n",
        "        self.dropout2 = nn.Dropout(0.25)\n",
        "\n",
        "        self.fc1 = nn.Linear(32 * 32 * 256, 512)\n",
        "        self.dropout_fc = nn.Dropout(0.4)  # Add dropout here as well\n",
        "        self.fc2 = nn.Linear(512, 128)\n",
        "        self.fc3 = nn.Linear(128, 3)\n",
        "\n",
        "    def forward(self, x):\n",
        "        x = self.conv1(x)\n",
        "        x = self.pool(self.conv2(x))\n",
        "        x = self.dropout1(x)\n",
        "\n",
        "        x = self.inception(x)\n",
        "\n",
        "        x = self.pool(self.conv3(x))\n",
        "        x = self.conv4(x)\n",
        "\n",
        "        x = self.dropout2(x)\n",
        "        x = torch.flatten(x, 1)\n",
        "\n",
        "        x = F.relu(self.fc1(x))\n",
        "        x = F.relu(self.fc2(x))\n",
        "        x = self.fc3(x)\n",
        "        return x\n",
        "\n"
      ],
      "metadata": {
        "id": "cEGxrHc3NU1J"
      },
      "execution_count": null,
      "outputs": []
    },
    {
      "cell_type": "markdown",
      "source": [
        "#### Proof of Concept modelo 2"
      ],
      "metadata": {
        "id": "l_SCzPYouRoR"
      }
    },
    {
      "cell_type": "code",
      "source": [
        "\n",
        "model = CNNModelBTwo()\n",
        "model.to(device)\n",
        "\n",
        "criterion = nn.CrossEntropyLoss()\n",
        "optimizer = optim.Adam(model.parameters(), lr=0.001)\n",
        "\n",
        "# Definir la función de entrenamiento\n",
        "def train_model_with_subset(model, train_loader, test_loader, criterion, optimizer, epochs=10):\n",
        "    for epoch in range(epochs):\n",
        "        model.train()  # Poner el modelo en modo de entrenamiento\n",
        "\n",
        "        running_loss = 0.0\n",
        "        correct = 0\n",
        "        total = 0\n",
        "\n",
        "        # Training\n",
        "        for inputs, labels in train_loader:\n",
        "            inputs, labels = inputs.to(device), labels.to(device)\n",
        "\n",
        "            optimizer.zero_grad()  # Limpiar los gradientes\n",
        "            outputs = model(inputs)  # Hacer una predicción\n",
        "            loss = criterion(outputs, labels)  # Calcular la pérdida\n",
        "            loss.backward()  # Hacer backpropagation\n",
        "            optimizer.step()  # Actualizar los pesos\n",
        "\n",
        "            running_loss += loss.item()\n",
        "            _, predicted = outputs.max(1)\n",
        "            total += labels.size(0)\n",
        "            correct += predicted.eq(labels).sum().item()\n",
        "\n",
        "        train_loss = running_loss / len(train_loader)\n",
        "        train_accuracy = 100 * correct / total\n",
        "\n",
        "        # Validation\n",
        "        model.eval()  # Set the model to evaluation mode\n",
        "        val_running_loss = 0.0\n",
        "        val_correct = 0\n",
        "        val_total = 0\n",
        "        with torch.no_grad():  # Disable gradients for validation\n",
        "            for inputs, labels in test_loader:\n",
        "                inputs, labels = inputs.to(device), labels.to(device)\n",
        "\n",
        "                outputs = model(inputs)\n",
        "                loss = criterion(outputs, labels)\n",
        "                val_running_loss += loss.item()\n",
        "\n",
        "                _, predicted = outputs.max(1)\n",
        "                val_total += labels.size(0)\n",
        "                val_correct += predicted.eq(labels).sum().item()\n",
        "\n",
        "        val_loss = val_running_loss / len(test_loader)\n",
        "        val_accuracy = 100 * val_correct / val_total\n",
        "\n",
        "        print(f\"Epoch {epoch+1}/{epochs}, \"\n",
        "              f\"Train Loss: {train_loss:.4f}, Train Accuracy: {train_accuracy:.2f}%, \"\n",
        "              f\"Val Loss: {val_loss:.4f}, Val Accuracy: {val_accuracy:.2f}%\")\n",
        "\n",
        "# Train the model with validation\n",
        "train_model_with_subset(model, train_loader, test_loader, criterion, optimizer, epochs=50)\n",
        "\n",
        "\n",
        "\n"
      ],
      "metadata": {
        "colab": {
          "base_uri": "https://localhost:8080/"
        },
        "id": "Ej-Q5nuRS6Qb",
        "outputId": "76ca23a3-954f-44a6-db5f-3fa084eddd8e"
      },
      "execution_count": 47,
      "outputs": [
        {
          "output_type": "stream",
          "name": "stdout",
          "text": [
            "Epoch 1/50, Train Loss: 16.4037, Train Accuracy: 34.00%, Val Loss: 9.3346, Val Accuracy: 23.08%\n",
            "Epoch 2/50, Train Loss: 3.6775, Train Accuracy: 46.00%, Val Loss: 14.4478, Val Accuracy: 23.08%\n",
            "Epoch 3/50, Train Loss: 4.4475, Train Accuracy: 50.00%, Val Loss: 8.9487, Val Accuracy: 23.08%\n",
            "Epoch 4/50, Train Loss: 1.0940, Train Accuracy: 56.00%, Val Loss: 8.5910, Val Accuracy: 23.08%\n",
            "Epoch 5/50, Train Loss: 1.5929, Train Accuracy: 58.00%, Val Loss: 2.0045, Val Accuracy: 30.77%\n",
            "Epoch 6/50, Train Loss: 0.9931, Train Accuracy: 70.00%, Val Loss: 3.2039, Val Accuracy: 53.85%\n",
            "Epoch 7/50, Train Loss: 0.6443, Train Accuracy: 78.00%, Val Loss: 1.0489, Val Accuracy: 69.23%\n",
            "Epoch 8/50, Train Loss: 1.0672, Train Accuracy: 74.00%, Val Loss: 2.3342, Val Accuracy: 53.85%\n",
            "Epoch 9/50, Train Loss: 0.4067, Train Accuracy: 86.00%, Val Loss: 0.5345, Val Accuracy: 76.92%\n",
            "Epoch 10/50, Train Loss: 0.3293, Train Accuracy: 86.00%, Val Loss: 1.2463, Val Accuracy: 53.85%\n",
            "Epoch 11/50, Train Loss: 0.7576, Train Accuracy: 78.00%, Val Loss: 1.3020, Val Accuracy: 53.85%\n",
            "Epoch 12/50, Train Loss: 1.1665, Train Accuracy: 68.00%, Val Loss: 1.1183, Val Accuracy: 53.85%\n",
            "Epoch 13/50, Train Loss: 0.6748, Train Accuracy: 80.00%, Val Loss: 2.0030, Val Accuracy: 53.85%\n",
            "Epoch 14/50, Train Loss: 0.5481, Train Accuracy: 84.00%, Val Loss: 0.9864, Val Accuracy: 53.85%\n",
            "Epoch 15/50, Train Loss: 0.4792, Train Accuracy: 80.00%, Val Loss: 2.4219, Val Accuracy: 53.85%\n",
            "Epoch 16/50, Train Loss: 0.2118, Train Accuracy: 94.00%, Val Loss: 1.8904, Val Accuracy: 53.85%\n",
            "Epoch 17/50, Train Loss: 0.1269, Train Accuracy: 92.00%, Val Loss: 0.8525, Val Accuracy: 76.92%\n",
            "Epoch 18/50, Train Loss: 0.3672, Train Accuracy: 88.00%, Val Loss: 1.9098, Val Accuracy: 53.85%\n",
            "Epoch 19/50, Train Loss: 0.1746, Train Accuracy: 96.00%, Val Loss: 0.5475, Val Accuracy: 76.92%\n",
            "Epoch 20/50, Train Loss: 0.2527, Train Accuracy: 96.00%, Val Loss: 1.1200, Val Accuracy: 61.54%\n",
            "Epoch 21/50, Train Loss: 0.1701, Train Accuracy: 92.00%, Val Loss: 0.8456, Val Accuracy: 61.54%\n",
            "Epoch 22/50, Train Loss: 0.1278, Train Accuracy: 94.00%, Val Loss: 0.9674, Val Accuracy: 69.23%\n",
            "Epoch 23/50, Train Loss: 0.3648, Train Accuracy: 86.00%, Val Loss: 1.3843, Val Accuracy: 61.54%\n",
            "Epoch 24/50, Train Loss: 0.2599, Train Accuracy: 88.00%, Val Loss: 0.5369, Val Accuracy: 76.92%\n",
            "Epoch 25/50, Train Loss: 0.2380, Train Accuracy: 88.00%, Val Loss: 1.2439, Val Accuracy: 61.54%\n",
            "Epoch 26/50, Train Loss: 0.0444, Train Accuracy: 98.00%, Val Loss: 1.3150, Val Accuracy: 53.85%\n",
            "Epoch 27/50, Train Loss: 0.0758, Train Accuracy: 98.00%, Val Loss: 0.9920, Val Accuracy: 61.54%\n",
            "Epoch 28/50, Train Loss: 0.1264, Train Accuracy: 98.00%, Val Loss: 0.9311, Val Accuracy: 69.23%\n",
            "Epoch 29/50, Train Loss: 0.1272, Train Accuracy: 96.00%, Val Loss: 1.0628, Val Accuracy: 69.23%\n",
            "Epoch 30/50, Train Loss: 0.0670, Train Accuracy: 98.00%, Val Loss: 2.8942, Val Accuracy: 46.15%\n",
            "Epoch 31/50, Train Loss: 0.0281, Train Accuracy: 98.00%, Val Loss: 1.7465, Val Accuracy: 61.54%\n",
            "Epoch 32/50, Train Loss: 0.0756, Train Accuracy: 96.00%, Val Loss: 1.9210, Val Accuracy: 69.23%\n",
            "Epoch 33/50, Train Loss: 0.0468, Train Accuracy: 100.00%, Val Loss: 1.5366, Val Accuracy: 69.23%\n",
            "Epoch 34/50, Train Loss: 0.0083, Train Accuracy: 100.00%, Val Loss: 2.1697, Val Accuracy: 61.54%\n",
            "Epoch 35/50, Train Loss: 0.0264, Train Accuracy: 100.00%, Val Loss: 1.6428, Val Accuracy: 69.23%\n",
            "Epoch 36/50, Train Loss: 0.0238, Train Accuracy: 98.00%, Val Loss: 1.4632, Val Accuracy: 69.23%\n",
            "Epoch 37/50, Train Loss: 0.0198, Train Accuracy: 98.00%, Val Loss: 1.5310, Val Accuracy: 69.23%\n",
            "Epoch 38/50, Train Loss: 0.0735, Train Accuracy: 98.00%, Val Loss: 2.2367, Val Accuracy: 61.54%\n",
            "Epoch 39/50, Train Loss: 0.0859, Train Accuracy: 98.00%, Val Loss: 2.7537, Val Accuracy: 61.54%\n",
            "Epoch 40/50, Train Loss: 0.1886, Train Accuracy: 96.00%, Val Loss: 2.1350, Val Accuracy: 69.23%\n",
            "Epoch 41/50, Train Loss: 0.0687, Train Accuracy: 96.00%, Val Loss: 2.3428, Val Accuracy: 69.23%\n",
            "Epoch 42/50, Train Loss: 0.0393, Train Accuracy: 98.00%, Val Loss: 2.6760, Val Accuracy: 69.23%\n",
            "Epoch 43/50, Train Loss: 0.0097, Train Accuracy: 100.00%, Val Loss: 0.9604, Val Accuracy: 84.62%\n",
            "Epoch 44/50, Train Loss: 0.1391, Train Accuracy: 98.00%, Val Loss: 0.7936, Val Accuracy: 84.62%\n",
            "Epoch 45/50, Train Loss: 0.0081, Train Accuracy: 100.00%, Val Loss: 1.4669, Val Accuracy: 69.23%\n",
            "Epoch 46/50, Train Loss: 0.0078, Train Accuracy: 100.00%, Val Loss: 2.3619, Val Accuracy: 69.23%\n",
            "Epoch 47/50, Train Loss: 0.0278, Train Accuracy: 98.00%, Val Loss: 0.8419, Val Accuracy: 76.92%\n",
            "Epoch 48/50, Train Loss: 0.0438, Train Accuracy: 98.00%, Val Loss: 1.4108, Val Accuracy: 69.23%\n",
            "Epoch 49/50, Train Loss: 0.0763, Train Accuracy: 98.00%, Val Loss: 1.4973, Val Accuracy: 61.54%\n",
            "Epoch 50/50, Train Loss: 0.2623, Train Accuracy: 92.00%, Val Loss: 1.0663, Val Accuracy: 76.92%\n"
          ]
        }
      ]
    },
    {
      "cell_type": "code",
      "source": [
        "correct = 0\n",
        "total = 0\n",
        "# debido a que no estamos entrenando, no necesitamos calcular los gradientes para las salidas\n",
        "with torch.no_grad():\n",
        "    for data in test_loader:\n",
        "        images, labels = images.to(device), labels.to(device)\n",
        "        # calcular outputs corriendo imagenes en la red\n",
        "        outputs = model(images)\n",
        "        # La clase con mayor valor es la que escogemos como salida\n",
        "        _, predicted = torch.max(outputs.data, 1)\n",
        "        total += labels.size(0)\n",
        "        correct += (predicted == labels).sum().item()\n",
        "\n",
        "print(f'Accuracy de la red en las 8 imagenes de test: {100 * correct // total} %')"
      ],
      "metadata": {
        "colab": {
          "base_uri": "https://localhost:8080/"
        },
        "id": "JPGUIYhkXn7H",
        "outputId": "73ffb47e-3bbf-49f9-cd85-046f049a8b57"
      },
      "execution_count": 48,
      "outputs": [
        {
          "output_type": "stream",
          "name": "stdout",
          "text": [
            "Accuracy de la red en las 8 imagenes de test: 75 %\n"
          ]
        }
      ]
    },
    {
      "cell_type": "markdown",
      "source": [
        "### Propuesta de modelo 3"
      ],
      "metadata": {
        "id": "uFTMOw6FNEbs"
      }
    },
    {
      "cell_type": "code",
      "source": [
        "class InceptionModule(nn.Module):\n",
        "    def __init__(self, in_channels, out1x1, red3x3, out3x3, red5x5, out5x5, pool_proj):\n",
        "        super(InceptionModule, self).__init__()\n",
        "\n",
        "        # Branch 1: 1x1 Conv\n",
        "        self.branch1 = nn.Sequential(\n",
        "            nn.Conv2d(in_channels, out1x1, kernel_size=1),\n",
        "            nn.BatchNorm2d(out1x1),\n",
        "            nn.ReLU()\n",
        "        )\n",
        "\n",
        "        # Branch 2: 1x1 Conv -> 3x3 Conv\n",
        "        self.branch2 = nn.Sequential(\n",
        "            nn.Conv2d(in_channels, red3x3, kernel_size=1),\n",
        "            nn.BatchNorm2d(red3x3),\n",
        "            nn.ReLU(),\n",
        "            nn.Conv2d(red3x3, out3x3, kernel_size=3, padding=1),\n",
        "            nn.BatchNorm2d(out3x3),\n",
        "            nn.ReLU()\n",
        "        )\n",
        "\n",
        "        # Branch 3: 1x1 Conv -> 5x5 Conv\n",
        "        self.branch3 = nn.Sequential(\n",
        "            nn.Conv2d(in_channels, red5x5, kernel_size=1),\n",
        "            nn.BatchNorm2d(red5x5),\n",
        "            nn.ReLU(),\n",
        "            nn.Conv2d(red5x5, out5x5, kernel_size=5, padding=2),\n",
        "            nn.BatchNorm2d(out5x5),\n",
        "            nn.ReLU()\n",
        "        )\n",
        "\n",
        "        # Branch 4: Max Pool -> 1x1 Conv\n",
        "        self.branch4 = nn.Sequential(\n",
        "            nn.MaxPool2d(kernel_size=3, stride=1, padding=1),\n",
        "            nn.Conv2d(in_channels, pool_proj, kernel_size=1),\n",
        "            nn.BatchNorm2d(pool_proj),\n",
        "            nn.ReLU()\n",
        "        )\n",
        "\n",
        "    def forward(self, x):\n",
        "        branch1 = self.branch1(x)\n",
        "        branch2 = self.branch2(x)\n",
        "        branch3 = self.branch3(x)\n",
        "        branch4 = self.branch4(x)\n",
        "        return torch.cat([branch1, branch2, branch3, branch4], 1)\n",
        "\n",
        "\n",
        "class CNNModelWithTwoInception(nn.Module):\n",
        "    def __init__(self):\n",
        "        super(CNNModelWithTwoInception, self).__init__()\n",
        "\n",
        "        # Initial conv layers with batchnorm and relu\n",
        "        self.conv1 = nn.Sequential(\n",
        "            nn.Conv2d(1, 32, kernel_size=3, padding=1),\n",
        "            nn.BatchNorm2d(32),\n",
        "            nn.ReLU()\n",
        "        )\n",
        "        self.conv2 = nn.Sequential(\n",
        "            nn.Conv2d(32, 64, kernel_size=3, padding=1),\n",
        "            nn.BatchNorm2d(64),\n",
        "            nn.ReLU()\n",
        "        )\n",
        "\n",
        "        # First Inception module (lower filters)\n",
        "        self.inception1 = InceptionModule(64, 32, 32, 64, 16, 32, 32)\n",
        "\n",
        "        # Second Inception module (higher filters)\n",
        "        self.inception2 = InceptionModule(160, 64, 64, 128, 32, 64, 64)\n",
        "\n",
        "        # Pooling layer\n",
        "        self.pool = nn.MaxPool2d(kernel_size=2, stride=2)\n",
        "\n",
        "        # Dropout regularization\n",
        "        self.dropout1 = nn.Dropout(0.3)\n",
        "        self.dropout2 = nn.Dropout(0.4)\n",
        "\n",
        "        # Global average pooling instead of flattening\n",
        "        self.global_avg_pool = nn.AdaptiveAvgPool2d(1)\n",
        "\n",
        "        # Fully connected layers\n",
        "        self.fc1 = nn.Linear(320, 128)  # Adjust input size based on output channels from second inception\n",
        "        self.fc2 = nn.Linear(128, 64)\n",
        "        self.fc3 = nn.Linear(64, 3)\n",
        "\n",
        "    def forward(self, x):\n",
        "        # Conv layers\n",
        "        x = self.conv1(x)\n",
        "        x = self.pool(self.conv2(x))\n",
        "\n",
        "        # First Inception module\n",
        "        x = self.inception1(x)\n",
        "\n",
        "        # Pool after first inception\n",
        "        x = self.pool(x)\n",
        "\n",
        "        # Second Inception module (more filters for deeper layer)\n",
        "        x = self.inception2(x)\n",
        "\n",
        "        # Pooling again\n",
        "        x = self.pool(x)\n",
        "        x = self.dropout1(x)\n",
        "\n",
        "        # Global average pooling\n",
        "        x = self.global_avg_pool(x)\n",
        "\n",
        "        # Flatten the tensor\n",
        "        x = torch.flatten(x, 1)\n",
        "\n",
        "        # Fully connected layers with dropout\n",
        "        x = F.relu(self.fc1(x))\n",
        "        x = self.dropout2(x)\n",
        "        x = F.relu(self.fc2(x))\n",
        "\n",
        "        # Final output layer\n",
        "        x = self.fc3(x)\n",
        "\n",
        "        return x\n"
      ],
      "metadata": {
        "id": "2WOxuegVIt8l"
      },
      "execution_count": 8,
      "outputs": []
    },
    {
      "cell_type": "code",
      "source": [
        "\n",
        "model = CNNModelWithTwoInception()\n",
        "model.to(device)\n",
        "\n",
        "criterion = nn.CrossEntropyLoss()\n",
        "optimizer = optim.Adam(model.parameters(), lr=0.001)\n",
        "\n",
        "# Definir la función de entrenamiento\n",
        "def train_model_with_subset(model, train_loader, test_loader, criterion, optimizer, epochs=10):\n",
        "    for epoch in range(epochs):\n",
        "        model.train()  # Poner el modelo en modo de entrenamiento\n",
        "\n",
        "        running_loss = 0.0\n",
        "        correct = 0\n",
        "        total = 0\n",
        "\n",
        "        # Training\n",
        "        for inputs, labels in train_loader:\n",
        "            inputs, labels = inputs.to(device), labels.to(device)\n",
        "\n",
        "            optimizer.zero_grad()  # Limpiar los gradientes\n",
        "            outputs = model(inputs)  # Hacer una predicción\n",
        "            loss = criterion(outputs, labels)  # Calcular la pérdida\n",
        "            loss.backward()  # Hacer backpropagation\n",
        "            optimizer.step()  # Actualizar los pesos\n",
        "\n",
        "            running_loss += loss.item()\n",
        "            _, predicted = outputs.max(1)\n",
        "            total += labels.size(0)\n",
        "            correct += predicted.eq(labels).sum().item()\n",
        "\n",
        "        train_loss = running_loss / len(train_loader)\n",
        "        train_accuracy = 100 * correct / total\n",
        "\n",
        "        # Validation\n",
        "        model.eval()  # Set the model to evaluation mode\n",
        "        val_running_loss = 0.0\n",
        "        val_correct = 0\n",
        "        val_total = 0\n",
        "        with torch.no_grad():  # Disable gradients for validation\n",
        "            for inputs, labels in test_loader:\n",
        "                inputs, labels = inputs.to(device), labels.to(device)\n",
        "\n",
        "                outputs = model(inputs)\n",
        "                loss = criterion(outputs, labels)\n",
        "                val_running_loss += loss.item()\n",
        "\n",
        "                _, predicted = outputs.max(1)\n",
        "                val_total += labels.size(0)\n",
        "                val_correct += predicted.eq(labels).sum().item()\n",
        "\n",
        "        val_loss = val_running_loss / len(test_loader)\n",
        "        val_accuracy = 100 * val_correct / val_total\n",
        "\n",
        "        print(f\"Epoch {epoch+1}/{epochs}, \"\n",
        "              f\"Train Loss: {train_loss:.4f}, Train Accuracy: {train_accuracy:.2f}%, \"\n",
        "              f\"Val Loss: {val_loss:.4f}, Val Accuracy: {val_accuracy:.2f}%\")\n",
        "\n",
        "# Train the model with validation\n",
        "train_model_with_subset(model, train_loader, test_loader, criterion, optimizer, epochs=50)\n",
        "\n",
        "\n",
        "\n"
      ],
      "metadata": {
        "id": "-nuUZV3MJGjl",
        "outputId": "f1e3b9e8-76ad-40f2-aee2-c37bca8b9499",
        "colab": {
          "base_uri": "https://localhost:8080/"
        }
      },
      "execution_count": 9,
      "outputs": [
        {
          "output_type": "stream",
          "name": "stdout",
          "text": [
            "Epoch 1/50, Train Loss: 1.0939, Train Accuracy: 32.00%, Val Loss: 1.1165, Val Accuracy: 23.08%\n",
            "Epoch 2/50, Train Loss: 1.0374, Train Accuracy: 50.00%, Val Loss: 1.2801, Val Accuracy: 23.08%\n",
            "Epoch 3/50, Train Loss: 0.9673, Train Accuracy: 46.00%, Val Loss: 1.7838, Val Accuracy: 23.08%\n",
            "Epoch 4/50, Train Loss: 0.9774, Train Accuracy: 54.00%, Val Loss: 1.8604, Val Accuracy: 23.08%\n",
            "Epoch 5/50, Train Loss: 0.9008, Train Accuracy: 60.00%, Val Loss: 1.0483, Val Accuracy: 30.77%\n",
            "Epoch 6/50, Train Loss: 0.8728, Train Accuracy: 58.00%, Val Loss: 1.2953, Val Accuracy: 23.08%\n",
            "Epoch 7/50, Train Loss: 0.8491, Train Accuracy: 56.00%, Val Loss: 0.7168, Val Accuracy: 69.23%\n",
            "Epoch 8/50, Train Loss: 0.7650, Train Accuracy: 60.00%, Val Loss: 0.6129, Val Accuracy: 69.23%\n",
            "Epoch 9/50, Train Loss: 0.7286, Train Accuracy: 62.00%, Val Loss: 0.6707, Val Accuracy: 69.23%\n",
            "Epoch 10/50, Train Loss: 0.7907, Train Accuracy: 62.00%, Val Loss: 0.6538, Val Accuracy: 69.23%\n",
            "Epoch 11/50, Train Loss: 0.6081, Train Accuracy: 72.00%, Val Loss: 0.6651, Val Accuracy: 76.92%\n",
            "Epoch 12/50, Train Loss: 0.7197, Train Accuracy: 66.00%, Val Loss: 0.6223, Val Accuracy: 69.23%\n",
            "Epoch 13/50, Train Loss: 0.7746, Train Accuracy: 70.00%, Val Loss: 0.5700, Val Accuracy: 69.23%\n",
            "Epoch 14/50, Train Loss: 0.6114, Train Accuracy: 66.00%, Val Loss: 0.5938, Val Accuracy: 76.92%\n",
            "Epoch 15/50, Train Loss: 0.7904, Train Accuracy: 74.00%, Val Loss: 0.5198, Val Accuracy: 69.23%\n",
            "Epoch 16/50, Train Loss: 0.6377, Train Accuracy: 70.00%, Val Loss: 0.6181, Val Accuracy: 69.23%\n",
            "Epoch 17/50, Train Loss: 0.6452, Train Accuracy: 70.00%, Val Loss: 0.6291, Val Accuracy: 76.92%\n",
            "Epoch 18/50, Train Loss: 0.8188, Train Accuracy: 66.00%, Val Loss: 0.6458, Val Accuracy: 69.23%\n",
            "Epoch 19/50, Train Loss: 0.6431, Train Accuracy: 64.00%, Val Loss: 0.7227, Val Accuracy: 61.54%\n",
            "Epoch 20/50, Train Loss: 0.6174, Train Accuracy: 72.00%, Val Loss: 0.5327, Val Accuracy: 69.23%\n",
            "Epoch 21/50, Train Loss: 0.6179, Train Accuracy: 74.00%, Val Loss: 0.5219, Val Accuracy: 69.23%\n",
            "Epoch 22/50, Train Loss: 0.7033, Train Accuracy: 66.00%, Val Loss: 0.5948, Val Accuracy: 69.23%\n",
            "Epoch 23/50, Train Loss: 0.5916, Train Accuracy: 68.00%, Val Loss: 4.0473, Val Accuracy: 23.08%\n",
            "Epoch 24/50, Train Loss: 0.6035, Train Accuracy: 76.00%, Val Loss: 0.5524, Val Accuracy: 76.92%\n",
            "Epoch 25/50, Train Loss: 0.5668, Train Accuracy: 68.00%, Val Loss: 0.4999, Val Accuracy: 76.92%\n",
            "Epoch 26/50, Train Loss: 0.7984, Train Accuracy: 66.00%, Val Loss: 0.5811, Val Accuracy: 69.23%\n",
            "Epoch 27/50, Train Loss: 0.5285, Train Accuracy: 78.00%, Val Loss: 0.4973, Val Accuracy: 69.23%\n",
            "Epoch 28/50, Train Loss: 0.6512, Train Accuracy: 74.00%, Val Loss: 0.7603, Val Accuracy: 53.85%\n",
            "Epoch 29/50, Train Loss: 0.6407, Train Accuracy: 64.00%, Val Loss: 0.8586, Val Accuracy: 53.85%\n",
            "Epoch 30/50, Train Loss: 0.5441, Train Accuracy: 72.00%, Val Loss: 0.6926, Val Accuracy: 61.54%\n",
            "Epoch 31/50, Train Loss: 0.5913, Train Accuracy: 70.00%, Val Loss: 0.5361, Val Accuracy: 69.23%\n",
            "Epoch 32/50, Train Loss: 0.4806, Train Accuracy: 76.00%, Val Loss: 0.4719, Val Accuracy: 69.23%\n",
            "Epoch 33/50, Train Loss: 0.5220, Train Accuracy: 72.00%, Val Loss: 0.5213, Val Accuracy: 76.92%\n",
            "Epoch 34/50, Train Loss: 0.6892, Train Accuracy: 76.00%, Val Loss: 0.5963, Val Accuracy: 69.23%\n",
            "Epoch 35/50, Train Loss: 0.8651, Train Accuracy: 66.00%, Val Loss: 0.5526, Val Accuracy: 61.54%\n",
            "Epoch 36/50, Train Loss: 0.5092, Train Accuracy: 80.00%, Val Loss: 0.6211, Val Accuracy: 53.85%\n",
            "Epoch 37/50, Train Loss: 0.5016, Train Accuracy: 78.00%, Val Loss: 0.7130, Val Accuracy: 46.15%\n",
            "Epoch 38/50, Train Loss: 0.4969, Train Accuracy: 86.00%, Val Loss: 0.6286, Val Accuracy: 53.85%\n",
            "Epoch 39/50, Train Loss: 0.5743, Train Accuracy: 80.00%, Val Loss: 0.6052, Val Accuracy: 53.85%\n",
            "Epoch 40/50, Train Loss: 0.5578, Train Accuracy: 70.00%, Val Loss: 0.5624, Val Accuracy: 76.92%\n",
            "Epoch 41/50, Train Loss: 0.5994, Train Accuracy: 82.00%, Val Loss: 0.5714, Val Accuracy: 53.85%\n",
            "Epoch 42/50, Train Loss: 0.6133, Train Accuracy: 78.00%, Val Loss: 0.6908, Val Accuracy: 53.85%\n",
            "Epoch 43/50, Train Loss: 0.5418, Train Accuracy: 78.00%, Val Loss: 0.5421, Val Accuracy: 61.54%\n",
            "Epoch 44/50, Train Loss: 0.6847, Train Accuracy: 80.00%, Val Loss: 0.5866, Val Accuracy: 61.54%\n",
            "Epoch 45/50, Train Loss: 0.3937, Train Accuracy: 82.00%, Val Loss: 0.4810, Val Accuracy: 76.92%\n",
            "Epoch 46/50, Train Loss: 0.5999, Train Accuracy: 80.00%, Val Loss: 0.4854, Val Accuracy: 69.23%\n",
            "Epoch 47/50, Train Loss: 0.4745, Train Accuracy: 70.00%, Val Loss: 0.5120, Val Accuracy: 69.23%\n",
            "Epoch 48/50, Train Loss: 0.5510, Train Accuracy: 84.00%, Val Loss: 0.4770, Val Accuracy: 76.92%\n",
            "Epoch 49/50, Train Loss: 0.4033, Train Accuracy: 86.00%, Val Loss: 0.6445, Val Accuracy: 69.23%\n",
            "Epoch 50/50, Train Loss: 0.7794, Train Accuracy: 78.00%, Val Loss: 0.3829, Val Accuracy: 76.92%\n"
          ]
        }
      ]
    },
    {
      "cell_type": "code",
      "source": [
        "correct = 0\n",
        "total = 0\n",
        "# debido a que no estamos entrenando, no necesitamos calcular los gradientes para las salidas\n",
        "with torch.no_grad():\n",
        "    for data in test_loader:\n",
        "        images, labels = images.to(device), labels.to(device)\n",
        "        # calcular outputs corriendo imagenes en la red\n",
        "        outputs = model(images)\n",
        "        # La clase con mayor valor es la que escogemos como salida\n",
        "        _, predicted = torch.max(outputs.data, 1)\n",
        "        total += labels.size(0)\n",
        "        correct += (predicted == labels).sum().item()\n",
        "\n",
        "print(f'Accuracy de la red en las 8 imagenes de test: {100 * correct // total} %')"
      ],
      "metadata": {
        "id": "Rm2lKE3uMpqP",
        "outputId": "754da4b1-e692-4351-ac0e-efae5e3714d7",
        "colab": {
          "base_uri": "https://localhost:8080/"
        }
      },
      "execution_count": 11,
      "outputs": [
        {
          "output_type": "stream",
          "name": "stdout",
          "text": [
            "Accuracy de la red en las 8 imagenes de test: 100 %\n"
          ]
        }
      ]
    }
  ],
  "metadata": {
    "accelerator": "GPU",
    "colab": {
      "gpuType": "T4",
      "provenance": []
    },
    "kernelspec": {
      "display_name": "Python 3",
      "name": "python3"
    },
    "language_info": {
      "codemirror_mode": {
        "name": "ipython",
        "version": 3
      },
      "file_extension": ".py",
      "mimetype": "text/x-python",
      "name": "python",
      "nbconvert_exporter": "python",
      "pygments_lexer": "ipython3",
      "version": "3.12.3"
    }
  },
  "nbformat": 4,
  "nbformat_minor": 0
}