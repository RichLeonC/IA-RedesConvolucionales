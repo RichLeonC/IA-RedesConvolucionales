{
  "cells": [
    {
      "cell_type": "markdown",
      "metadata": {
        "id": "bnG8uRdCh8Na"
      },
      "source": [
        "# Modelo B para clasificación de imagenes\n",
        "\n",
        "#### Jeffrey Daniel Leiva Cascante 2021016720\n",
        "#### Richard Osvaldo León Chinchilla carnet"
      ]
    },
    {
      "cell_type": "code",
      "execution_count": null,
      "metadata": {
        "id": "zcmg7q7Fh8Nv"
      },
      "outputs": [],
      "source": [
        "import torch.nn as nn\n",
        "import torch.nn.functional as F"
      ]
    }
  ],
  "metadata": {
    "language_info": {
      "name": "python"
    },
    "colab": {
      "provenance": []
    },
    "kernelspec": {
      "name": "python3",
      "display_name": "Python 3"
    }
  },
  "nbformat": 4,
  "nbformat_minor": 0
}