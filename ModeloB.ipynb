{
  "cells": [
    {
      "cell_type": "markdown",
      "metadata": {
        "id": "bnG8uRdCh8Na"
      },
      "source": [
        "# Modelo B para clasificación de imágenes\n",
        "\n",
        "#### **Jeffrey Daniel Leiva Cascante** 2021016720\n",
        "#### **Richard Osvaldo León Chinchilla** 2019003759\n",
        "\n",
        "En este notebook se plantea el **modelo B** para la clasificación de imágenes de Covid-19, se realizan primero 3 **Proof of Concept** con diferentes arquitecturas, se aplican técnicas cómo el **Dropout** e **Inception Modules** para mejorar la capacidad de clasificación de los modelos.\n",
        "\n",
        "Se realizan las pruebas y se escoge el modelo con los mejores resultados para el subconjunto de pruebas; luego se procede a entrenar el modelo seleccionado con tres conjuntos de datos: el primero son los datos **crudos**, el segundo es de los datos con **bilateral filter** aplicado y el tercero es de los datos con el **canny edge filter** aplicado.\n",
        "\n",
        "Los datos se cargan utilizando la herramienta de **DataLoader** provista por PyTorch. Además, se utilizan técnicas de **Data Augmentation** que permitan tener un mayor número de ejemplos de imágenes para el entrenamiento del modelo; por medio de la utilización del módulo de **transforms** que PyTorch provee."
      ]
    },
    {
      "cell_type": "code",
      "execution_count": 25,
      "metadata": {
        "id": "zcmg7q7Fh8Nv"
      },
      "outputs": [],
      "source": [
        "import torch\n",
        "import torch.nn as nn\n",
        "import torch.nn.functional as F\n",
        "import torch.optim as optim\n",
        "from torchvision import datasets, transforms\n",
        "from torch.utils.data import DataLoader, SubsetRandomSampler, random_split\n",
        "import numpy as np\n",
        "import matplotlib.pyplot as plt\n",
        "import torchvision\n",
        "from torchsummary import summary\n"
      ]
    },
    {
      "cell_type": "code",
      "execution_count": 26,
      "metadata": {
        "colab": {
          "base_uri": "https://localhost:8080/"
        },
        "id": "JNuSZWCkD8cL",
        "outputId": "4d5f2e95-172b-4a5b-ae7d-b7ebfc6440dd"
      },
      "outputs": [
        {
          "output_type": "stream",
          "name": "stdout",
          "text": [
            "Drive already mounted at /content/drive; to attempt to forcibly remount, call drive.mount(\"/content/drive\", force_remount=True).\n"
          ]
        },
        {
          "output_type": "execute_result",
          "data": {
            "text/plain": [
              "False"
            ]
          },
          "metadata": {},
          "execution_count": 26
        }
      ],
      "source": [
        "from google.colab import drive\n",
        "drive.mount('/content/drive')\n",
        "torch.cuda.is_available()"
      ]
    },
    {
      "cell_type": "code",
      "source": [
        "device = torch.device(\"cuda\" if torch.cuda.is_available() else \"cpu\")"
      ],
      "metadata": {
        "id": "8JRF-D3QxZlx"
      },
      "execution_count": 27,
      "outputs": []
    },
    {
      "cell_type": "markdown",
      "source": [
        "### Carga de datos y utilización de transformers para las Proof of Concept.\n",
        "\n",
        "Se carga un **20%** de los datos para realizar las tres **proof of concept** con los diferentes modelos que se van a plantear, se utiliza una semilla para asegurar la repetibilidad de los experimentos.\n",
        "\n",
        "Se utiliza el módulo de **transforms** para aplicar transformaciones a las imágenes de entrada, en el caso de los datos de entrenamiento para las PoC se aplican técnicas de **Data Augmentation** cómo normalización, en este caso para no introducir más aleatoridad a las pruebas no se tienen inversiones o rotaciones, para el entrenamiento del modelo escogido a partir de las pruebas si se utilizarán estas técnicas.\n",
        "\n",
        "Al utilizar un conjunto reducido de datos para las PoC se utiliza el DataLoader con un tamaño de **batch de 8** para ambos datasets."
      ],
      "metadata": {
        "id": "sRZWeO_PPIFr"
      }
    },
    {
      "cell_type": "code",
      "source": [
        "train_data_transforms = transforms.Compose([\n",
        "    transforms.Resize((128, 128)),  # Redimensionar a 128x128\n",
        "    transforms.Grayscale(num_output_channels=1),  # Convertir a escala de grises\n",
        "    transforms.ToTensor(),  # Convertir a tensor\n",
        "    transforms.Normalize(mean=[0.5], std=[0.5])  # Normalización\n",
        "])\n",
        "\n",
        "\n",
        "test_data_transforms = transforms.Compose([\n",
        "    transforms.Resize((128, 128)),  # Redimensionar a 128x128\n",
        "    transforms.Grayscale(num_output_channels=1),  # Convertir a escala de grises\n",
        "    transforms.ToTensor(),   # Convertir a tensor\n",
        "    transforms.Normalize(mean=[0.5], std=[0.5])  # Normalización\n",
        "])\n",
        "\n",
        "\n",
        "# Definir las rutas a las carpetas\n",
        "train_dir = './drive/MyDrive/Covid19-dataset/train'\n",
        "test_dir = './drive/MyDrive/Covid19-dataset/test'\n",
        "\n",
        "train_dataset = datasets.ImageFolder(root=train_dir, transform=train_data_transforms)\n",
        "test_dataset = datasets.ImageFolder(root=test_dir, transform=test_data_transforms)\n",
        "\n",
        "# Definir el tamaño del subconjunto que quieres usar\n",
        "subset_size = 0.2  # Por ejemplo, usar el 20% de los datos\n",
        "\n",
        "# Obtener los índices aleatorios para el subconjunto del conjunto de entrenamiento\n",
        "np.random.seed(42)\n",
        "train_size = len(train_dataset)\n",
        "indices = list(range(train_size))\n",
        "np.random.shuffle(indices)  # Mezclar los índices\n",
        "\n",
        "subset_indices = indices[:int(subset_size * train_size)]  # Obtener el subconjunto\n",
        "\n",
        "# Crear un SubsetRandomSampler con los índices seleccionados\n",
        "train_sampler = SubsetRandomSampler(subset_indices)\n",
        "\n",
        "# Obtener los índices aleatorios para el subconjunto del conjunto de testing\n",
        "test_size = len(test_dataset)\n",
        "indices_test = list(range(test_size))\n",
        "np.random.shuffle(indices_test)  # Mezclar los índices\n",
        "\n",
        "subset_indices_test = indices_test[:int(subset_size * test_size)]  # Obtener el subconjunto\n",
        "\n",
        "# Crear un SubsetRandomSampler con los índices seleccionados\n",
        "test_sampler = SubsetRandomSampler(subset_indices_test)\n",
        "\n",
        "# Definir DataLoader para el conjunto de entrenamiento con el subconjunto de datos\n",
        "train_loader = DataLoader(train_dataset, batch_size=8, sampler=train_sampler)\n",
        "\n",
        "# También puedes crear un DataLoader para el conjunto de prueba completo\n",
        "test_loader = DataLoader(test_dataset, batch_size=8, sampler=test_sampler)"
      ],
      "metadata": {
        "id": "EUMldrBMPDmV"
      },
      "execution_count": 34,
      "outputs": []
    },
    {
      "cell_type": "markdown",
      "metadata": {
        "id": "4s3Y5hHrvgzp"
      },
      "source": [
        "## Propuesta de modelo 1\n",
        "\n",
        "Para la propuesta #1 del modelo B tenemos la siguiente arquitectura:\n",
        "\n",
        "- La primera capa es una capa de convolución de dos dimensiones que recibe la imágen de 1 canal (en escala de grises), aplica 64 filtros con tamaño de kernel 3 y padding de 1, lo que da como resultado la salida de 128x128x64.\n",
        "\n",
        "- La segunda capa aplica max pooling con un kernel de 2 y stride de 2, lo que produce una salida de 64x64x64.\n",
        "\n",
        "- Seguido de esto se tiene el módulo de Inception, que aplica varias operaciones de convolución y pooling en paralelo, lo que permite que el modelo aprenda mejor las características a diferentes niveles de complejidad. Cuenta con 4 ramas, en las que se aplican diversos tamaños de kernels y la salida de las ramas es de 64x64x128. Todas estas se concatenan y su salida es de 64x64x512.\n",
        "\n",
        "- Después se vuelve a aplicar max pooling con kernel de 2 y stride de 2, lo que da cómo resultado una salida de 32x32x512, se hace el flatten de la misma y esta es la entrada de la primera capa fully connected.\n",
        "\n",
        "- La capa primer capa fully connected  produce 128 canales de salida. La última capa tiene 128 canales de entrada y 3 de salida correspondientes a las tres categorías de imagenes.\n",
        "\n",
        "**Se utiliza reLU cómo función de activación para las capas convolucionales y la primera capa fully connected**"
      ]
    },
    {
      "cell_type": "code",
      "execution_count": 35,
      "metadata": {
        "id": "jTjOohHDvb_Z"
      },
      "outputs": [],
      "source": [
        "class InceptionModuleOne(nn.Module):\n",
        "  def __init__(self, chanels):\n",
        "    super(InceptionModuleOne, self).__init__()\n",
        "\n",
        "    self.branch1 = nn.Conv2d(chanels, 128, kernel_size=1)\n",
        "\n",
        "    self.branch2 = nn.Sequential(\n",
        "        nn.Conv2d(chanels, 128, kernel_size=1),\n",
        "        nn.ReLU(),\n",
        "        nn.Conv2d(128, 128, kernel_size=3, padding=1),\n",
        "        nn.ReLU()\n",
        "    )\n",
        "\n",
        "    self.branch3 = nn.Sequential(\n",
        "        nn.Conv2d(chanels, 128, kernel_size=1),\n",
        "        nn.ReLU(),\n",
        "        nn.Conv2d(128, 128, kernel_size=5, padding=2),\n",
        "        nn.ReLU(),\n",
        "    )\n",
        "\n",
        "    self.branch4 = nn.Sequential(\n",
        "        nn.MaxPool2d(kernel_size=3, stride=1, padding=1),\n",
        "        nn.Conv2d(chanels, 128, kernel_size=1),\n",
        "        nn.ReLU(),\n",
        "    )\n",
        "\n",
        "  def forward(self,x):\n",
        "    branch1 = F.relu(self.branch1(x))\n",
        "    branch2 = self.branch2(x)\n",
        "    branch3 = self.branch3(x)\n",
        "    branch4 = self.branch4(x)\n",
        "    return torch.cat([branch1, branch2, branch3, branch4],1)\n",
        "\n",
        "\n",
        "class CNNModelBOne(nn.Module):\n",
        "  def __init__(self):\n",
        "    super(CNNModelBOne, self).__init__()\n",
        "    self.conv1 = nn.Conv2d(1, 64, kernel_size=3, padding=1)\n",
        "    self.pool = nn.MaxPool2d(kernel_size=2, stride=2)\n",
        "    self.inception = InceptionModuleOne(64)\n",
        "    self.dropout = nn.Dropout(0.2)\n",
        "    self.fc1 = nn.Linear(512 *32 *32, 128)\n",
        "    self.fc2 = nn.Linear(128 , 3)\n",
        "\n",
        "  def forward(self,x):\n",
        "    x = F.relu(self.conv1(x))\n",
        "    x = self.pool(x)\n",
        "    x = self.inception(x)\n",
        "    x = self.pool(x)\n",
        "    x = self.dropout(x)\n",
        "    x = torch.flatten(x,1)\n",
        "    x = F.relu(self.fc1(x))\n",
        "    x = self.fc2(x)\n",
        "    return x\n",
        "\n"
      ]
    },
    {
      "cell_type": "markdown",
      "metadata": {
        "id": "12nJbPdVFopw"
      },
      "source": [
        "### Proof of Concept Modelo 1"
      ]
    },
    {
      "cell_type": "markdown",
      "source": [
        "Se procede a realizar la prueba de concepto con el primer modelo planteado. Se visualiza el accuracy del conjunto de entrenamiento y validación por cada epoch. En este caso se realizan **50 epochs**.\n",
        "\n",
        "Para el optimizador se utiliza el Stochastic Gradient Descent que nos facilita el módulo **optim**, además cómo función de pérdida se utiliza **Cross Entropy Loss**."
      ],
      "metadata": {
        "id": "lXETmFr1ndhr"
      }
    },
    {
      "cell_type": "code",
      "execution_count": 36,
      "metadata": {
        "colab": {
          "base_uri": "https://localhost:8080/"
        },
        "id": "hdbfJ79pFqrz",
        "outputId": "5fca8231-31e8-4502-bff0-89ca3121353b"
      },
      "outputs": [
        {
          "output_type": "stream",
          "name": "stdout",
          "text": [
            "Epoch 1/50, Train Loss: 1.0719, Train Accuracy: 36.00%, Val Loss: 1.0892, Val Accuracy: 23.08%\n",
            "Epoch 2/50, Train Loss: 0.8743, Train Accuracy: 56.00%, Val Loss: 1.0763, Val Accuracy: 46.15%\n",
            "Epoch 3/50, Train Loss: 0.6075, Train Accuracy: 80.00%, Val Loss: 1.0611, Val Accuracy: 46.15%\n",
            "Epoch 4/50, Train Loss: 0.5270, Train Accuracy: 82.00%, Val Loss: 0.9796, Val Accuracy: 46.15%\n",
            "Epoch 5/50, Train Loss: 0.4973, Train Accuracy: 86.00%, Val Loss: 0.8746, Val Accuracy: 61.54%\n",
            "Epoch 6/50, Train Loss: 0.3053, Train Accuracy: 92.00%, Val Loss: 0.9555, Val Accuracy: 46.15%\n",
            "Epoch 7/50, Train Loss: 0.2938, Train Accuracy: 88.00%, Val Loss: 0.7989, Val Accuracy: 61.54%\n",
            "Epoch 8/50, Train Loss: 0.2605, Train Accuracy: 94.00%, Val Loss: 0.9668, Val Accuracy: 61.54%\n",
            "Epoch 9/50, Train Loss: 0.2184, Train Accuracy: 90.00%, Val Loss: 0.8407, Val Accuracy: 61.54%\n",
            "Epoch 10/50, Train Loss: 0.1752, Train Accuracy: 96.00%, Val Loss: 0.7197, Val Accuracy: 61.54%\n",
            "Epoch 11/50, Train Loss: 0.1542, Train Accuracy: 94.00%, Val Loss: 0.8274, Val Accuracy: 61.54%\n",
            "Epoch 12/50, Train Loss: 0.1252, Train Accuracy: 92.00%, Val Loss: 0.8319, Val Accuracy: 61.54%\n",
            "Epoch 13/50, Train Loss: 0.1389, Train Accuracy: 98.00%, Val Loss: 0.9013, Val Accuracy: 53.85%\n",
            "Epoch 14/50, Train Loss: 0.1406, Train Accuracy: 98.00%, Val Loss: 0.8210, Val Accuracy: 61.54%\n",
            "Epoch 15/50, Train Loss: 0.1445, Train Accuracy: 96.00%, Val Loss: 0.8742, Val Accuracy: 69.23%\n",
            "Epoch 16/50, Train Loss: 0.0776, Train Accuracy: 98.00%, Val Loss: 0.9389, Val Accuracy: 53.85%\n",
            "Epoch 17/50, Train Loss: 0.0718, Train Accuracy: 98.00%, Val Loss: 0.8417, Val Accuracy: 69.23%\n",
            "Epoch 18/50, Train Loss: 0.0595, Train Accuracy: 98.00%, Val Loss: 1.0203, Val Accuracy: 53.85%\n",
            "Epoch 19/50, Train Loss: 0.0728, Train Accuracy: 98.00%, Val Loss: 1.0460, Val Accuracy: 53.85%\n",
            "Epoch 20/50, Train Loss: 0.0415, Train Accuracy: 100.00%, Val Loss: 1.0472, Val Accuracy: 53.85%\n",
            "Epoch 21/50, Train Loss: 0.0331, Train Accuracy: 100.00%, Val Loss: 0.7043, Val Accuracy: 76.92%\n",
            "Epoch 22/50, Train Loss: 0.0431, Train Accuracy: 100.00%, Val Loss: 1.0708, Val Accuracy: 53.85%\n",
            "Epoch 23/50, Train Loss: 0.0652, Train Accuracy: 98.00%, Val Loss: 0.8801, Val Accuracy: 53.85%\n",
            "Epoch 24/50, Train Loss: 0.0310, Train Accuracy: 100.00%, Val Loss: 0.4843, Val Accuracy: 84.62%\n",
            "Epoch 25/50, Train Loss: 0.0380, Train Accuracy: 100.00%, Val Loss: 1.0556, Val Accuracy: 53.85%\n",
            "Epoch 26/50, Train Loss: 0.0252, Train Accuracy: 100.00%, Val Loss: 1.4335, Val Accuracy: 53.85%\n",
            "Epoch 27/50, Train Loss: 0.0204, Train Accuracy: 100.00%, Val Loss: 0.7390, Val Accuracy: 76.92%\n",
            "Epoch 28/50, Train Loss: 0.0187, Train Accuracy: 100.00%, Val Loss: 0.6886, Val Accuracy: 76.92%\n",
            "Epoch 29/50, Train Loss: 0.0158, Train Accuracy: 100.00%, Val Loss: 1.0418, Val Accuracy: 53.85%\n",
            "Epoch 30/50, Train Loss: 0.0169, Train Accuracy: 100.00%, Val Loss: 0.7740, Val Accuracy: 61.54%\n",
            "Epoch 31/50, Train Loss: 0.0134, Train Accuracy: 100.00%, Val Loss: 0.7387, Val Accuracy: 76.92%\n",
            "Epoch 32/50, Train Loss: 0.0198, Train Accuracy: 100.00%, Val Loss: 0.9490, Val Accuracy: 76.92%\n",
            "Epoch 33/50, Train Loss: 0.0119, Train Accuracy: 100.00%, Val Loss: 0.6567, Val Accuracy: 84.62%\n",
            "Epoch 34/50, Train Loss: 0.0165, Train Accuracy: 100.00%, Val Loss: 1.0156, Val Accuracy: 76.92%\n",
            "Epoch 35/50, Train Loss: 0.0099, Train Accuracy: 100.00%, Val Loss: 1.0028, Val Accuracy: 53.85%\n",
            "Epoch 36/50, Train Loss: 0.0100, Train Accuracy: 100.00%, Val Loss: 0.7931, Val Accuracy: 76.92%\n",
            "Epoch 37/50, Train Loss: 0.0090, Train Accuracy: 100.00%, Val Loss: 1.0660, Val Accuracy: 76.92%\n",
            "Epoch 38/50, Train Loss: 0.0106, Train Accuracy: 100.00%, Val Loss: 1.1980, Val Accuracy: 61.54%\n",
            "Epoch 39/50, Train Loss: 0.0074, Train Accuracy: 100.00%, Val Loss: 1.0618, Val Accuracy: 53.85%\n",
            "Epoch 40/50, Train Loss: 0.0087, Train Accuracy: 100.00%, Val Loss: 0.9701, Val Accuracy: 61.54%\n",
            "Epoch 41/50, Train Loss: 0.0076, Train Accuracy: 100.00%, Val Loss: 0.9949, Val Accuracy: 76.92%\n",
            "Epoch 42/50, Train Loss: 0.0073, Train Accuracy: 100.00%, Val Loss: 0.8099, Val Accuracy: 61.54%\n",
            "Epoch 43/50, Train Loss: 0.0081, Train Accuracy: 100.00%, Val Loss: 0.9360, Val Accuracy: 61.54%\n",
            "Epoch 44/50, Train Loss: 0.0065, Train Accuracy: 100.00%, Val Loss: 1.0773, Val Accuracy: 76.92%\n",
            "Epoch 45/50, Train Loss: 0.0065, Train Accuracy: 100.00%, Val Loss: 0.9920, Val Accuracy: 76.92%\n",
            "Epoch 46/50, Train Loss: 0.0056, Train Accuracy: 100.00%, Val Loss: 0.9623, Val Accuracy: 76.92%\n",
            "Epoch 47/50, Train Loss: 0.0057, Train Accuracy: 100.00%, Val Loss: 1.0409, Val Accuracy: 61.54%\n",
            "Epoch 48/50, Train Loss: 0.0055, Train Accuracy: 100.00%, Val Loss: 0.9574, Val Accuracy: 61.54%\n",
            "Epoch 49/50, Train Loss: 0.0055, Train Accuracy: 100.00%, Val Loss: 0.9562, Val Accuracy: 76.92%\n",
            "Epoch 50/50, Train Loss: 0.0057, Train Accuracy: 100.00%, Val Loss: 1.0448, Val Accuracy: 76.92%\n"
          ]
        }
      ],
      "source": [
        "\n",
        "model = CNNModelBOne()\n",
        "model.to(device)\n",
        "\n",
        "criterion = nn.CrossEntropyLoss()\n",
        "optimizer = optim.SGD(model.parameters(), lr=0.001, momentum=0.9)\n",
        "\n",
        "# Definir la función de entrenamiento\n",
        "def train_model_with_subset(model, train_loader, test_loader, criterion, optimizer, epochs=10):\n",
        "    for epoch in range(epochs):\n",
        "        model.train()  # Poner el modelo en modo de entrenamiento\n",
        "\n",
        "        running_loss = 0.0\n",
        "        correct = 0\n",
        "        total = 0\n",
        "\n",
        "        # Training\n",
        "        for inputs, labels in train_loader:\n",
        "            inputs, labels = inputs.to(device), labels.to(device)\n",
        "\n",
        "            optimizer.zero_grad()  # Limpiar los gradientes\n",
        "            outputs = model(inputs)  # Hacer una predicción\n",
        "            loss = criterion(outputs, labels)  # Calcular la pérdida\n",
        "            loss.backward()  # Hacer backpropagation\n",
        "            optimizer.step()  # Actualizar los pesos\n",
        "\n",
        "            running_loss += loss.item()\n",
        "            _, predicted = outputs.max(1)\n",
        "            total += labels.size(0)\n",
        "            correct += predicted.eq(labels).sum().item()\n",
        "\n",
        "        train_loss = running_loss / len(train_loader)\n",
        "        train_accuracy = 100 * correct / total\n",
        "\n",
        "        # Validation\n",
        "        model.eval()  # Setear el modelo a evalución\n",
        "        val_running_loss = 0.0\n",
        "        val_correct = 0\n",
        "        val_total = 0\n",
        "        with torch.no_grad():  # Desabilitar gradientes para validación.\n",
        "            for inputs, labels in test_loader:\n",
        "                inputs, labels = inputs.to(device), labels.to(device)\n",
        "\n",
        "                outputs = model(inputs)\n",
        "                loss = criterion(outputs, labels)\n",
        "                val_running_loss += loss.item()\n",
        "\n",
        "                _, predicted = outputs.max(1)\n",
        "                val_total += labels.size(0)\n",
        "                val_correct += predicted.eq(labels).sum().item()\n",
        "\n",
        "        val_loss = val_running_loss / len(test_loader)\n",
        "        val_accuracy = 100 * val_correct / val_total\n",
        "\n",
        "        print(f\"Epoch {epoch+1}/{epochs}, \"\n",
        "              f\"Train Loss: {train_loss:.4f}, Train Accuracy: {train_accuracy:.2f}%, \"\n",
        "              f\"Val Loss: {val_loss:.4f}, Val Accuracy: {val_accuracy:.2f}%\")\n",
        "\n",
        "# Entrenar el modelo con validación.\n",
        "train_model_with_subset(model, train_loader, test_loader, criterion, optimizer, epochs=50)\n",
        "\n",
        "\n",
        "\n"
      ]
    },
    {
      "cell_type": "markdown",
      "source": [
        "Se procede a mostrar las imágenes del set de testing así como la **etiqueta** que corresponde a cada una de ellas para posteriormente **comparar** los resultados de los modelos."
      ],
      "metadata": {
        "id": "uGwCH21gn3x2"
      }
    },
    {
      "cell_type": "code",
      "execution_count": 37,
      "metadata": {
        "colab": {
          "base_uri": "https://localhost:8080/",
          "height": 336
        },
        "id": "5IsGnz9VmGnl",
        "outputId": "b37eda90-2197-441c-dc2b-67f2ffbe6f11"
      },
      "outputs": [
        {
          "output_type": "stream",
          "name": "stdout",
          "text": [
            "{'Covid': 0, 'Normal': 1, 'Viral Pneumonia': 2}\n",
            "{'Covid': 0, 'Normal': 1, 'Viral Pneumonia': 2}\n",
            "tensor([1, 0, 2, 1, 1, 0, 1, 2])\n"
          ]
        },
        {
          "output_type": "display_data",
          "data": {
            "text/plain": [
              "<Figure size 640x480 with 1 Axes>"
            ],
            "image/png": "[encoded data removed]"
          },
          "metadata": {}
        },
        {
          "output_type": "stream",
          "name": "stdout",
          "text": [
            "GroundTruth\n",
            "Normal\n",
            "Covid\n",
            "Viral Pneumonia\n",
            "Normal\n",
            "Normal\n",
            "Covid\n",
            "Normal\n",
            "Viral Pneumonia\n"
          ]
        }
      ],
      "source": [
        "classes = ('Covid', 'Normal','Viral Pneumonia')\n",
        "\n",
        "#Para ver com se asignan las etiquetas a cada clase en el set de training\n",
        "print(train_dataset.class_to_idx)\n",
        "#Lo mismo pero para el set de testing\n",
        "print(test_dataset.class_to_idx)\n",
        "\n",
        "dataiter = iter(test_loader)\n",
        "images, labels = next(dataiter)\n",
        "\n",
        "print(labels)\n",
        "\n",
        "def imshow(img):\n",
        "    # Desnormalizar: (img * std) + mean\n",
        "    img = img * 0.5 + 0.5  # Desnormalizar usando mean=0.5 y std=0.5\n",
        "    npimg = img.numpy()\n",
        "    plt.imshow(np.transpose(npimg, (1, 2, 0)), cmap='gray')  # Añadir cmap si es necesario\n",
        "    plt.show()\n",
        "\n",
        "imshow(torchvision.utils.make_grid(images))\n",
        "\n",
        "print('GroundTruth')\n",
        "for j in range(8):\n",
        "    print(f'{classes[labels[j]]:5s}')"
      ]
    },
    {
      "cell_type": "markdown",
      "source": [
        "Se muestran las predicciones de etiquetas realizadas por el modelo 1."
      ],
      "metadata": {
        "id": "ymgRhGXgoIPf"
      }
    },
    {
      "cell_type": "code",
      "execution_count": 38,
      "metadata": {
        "colab": {
          "base_uri": "https://localhost:8080/"
        },
        "id": "AR1AmE2d2Ta6",
        "outputId": "99c97d35-14f5-45a1-98ff-ba164a1a9cc6"
      },
      "outputs": [
        {
          "output_type": "stream",
          "name": "stdout",
          "text": [
            "Predicted: \n",
            "Viral Pneumonia\n",
            "Covid\n",
            "Viral Pneumonia\n",
            "Normal\n",
            "Normal\n",
            "Normal\n",
            "Normal\n",
            "Viral Pneumonia\n"
          ]
        }
      ],
      "source": [
        "images = images.to(device)  # Mueve las imágenes a la GPU si está disponible\n",
        "\n",
        "outputs = model(images)\n",
        "_, predicted = torch.max(outputs, 1)\n",
        "\n",
        "print('Predicted: ')\n",
        "\n",
        "for j in range(8):\n",
        "    print(f'{classes[predicted[j]]:5s}')\n"
      ]
    },
    {
      "cell_type": "markdown",
      "source": [
        "Se proceded a calcular el porcentaje de acierto para las imágenes."
      ],
      "metadata": {
        "id": "Mej7y5P3oeM_"
      }
    },
    {
      "cell_type": "markdown",
      "source": [
        "### Resultados de la prueba con la propuesta de modelo 1\n",
        "\n",
        "En este caso, los resultados con el modelo 1 nos dan un 75% de accuracy con los datos de prueba, lo cual es un buen porcentaje para la pequeña cantidad de datos que se le han dado."
      ],
      "metadata": {
        "id": "kcONzEZ_U6NQ"
      }
    },
    {
      "cell_type": "code",
      "execution_count": 39,
      "metadata": {
        "colab": {
          "base_uri": "https://localhost:8080/"
        },
        "id": "YFhx9k6n5Erh",
        "outputId": "7bee196a-2e4b-4819-f420-691695b4eb56"
      },
      "outputs": [
        {
          "output_type": "stream",
          "name": "stdout",
          "text": [
            "Accuracy de la red en las 8 imagenes de test: 75 %\n"
          ]
        }
      ],
      "source": [
        "correct = 0\n",
        "total = 0\n",
        "# debido a que no estamos entrenando, no necesitamos calcular los gradientes para las salidas\n",
        "with torch.no_grad():\n",
        "    for data in test_loader:\n",
        "        images, labels = images.to(device), labels.to(device)\n",
        "        # calcular outputs corriendo imagenes en la red\n",
        "        outputs = model(images)\n",
        "        # La clase con mayor valor es la que escogemos como salida\n",
        "        _, predicted = torch.max(outputs.data, 1)\n",
        "        total += labels.size(0)\n",
        "        correct += (predicted == labels).sum().item()\n",
        "\n",
        "print(f'Accuracy de la red en las 8 imagenes de test: {100 * correct // total} %')"
      ]
    },
    {
      "cell_type": "markdown",
      "metadata": {
        "id": "N2rOd8cn7XdD"
      },
      "source": [
        "## Propuesta de modelo 2"
      ]
    },
    {
      "cell_type": "markdown",
      "source": [
        "Esta es la segunda propuesta de modelo B. Esta arquitectura de modelo es más compleja que la anterior, se aplican otras técnicas de normalización que ayuden al modelo a generalizar mejor los datos, en este se incluye un único módulo de Inception, además de varias capas de convolución, max pooling y dropout. Además se utiliza Batch Normalization, la cual es una técnica para normalizar las activaciones en capas intermedias de redes neuronales profundas, además ha demostrado mejorar el accuracy y acelerar el proceso de entrenamiento. (Bjork et al, 2018).\n",
        "\n",
        "\n",
        "- En primer lugar se tiene una capa de convolución en el que se aplican 32 filtros, con un kernel de 3x3 y padding de 1, su salida es de 128x128x32.\n",
        "\n",
        "- La segunda capa de convolución aplica 64 filtros con un kernel de 3 y padding de 1, su salida es de 128x128x64.\n",
        "\n",
        "- Seguido se aplica max pooling con kernel de 2 y stride de 2, la salida es de 64x64x64.\n",
        "\n",
        "- Luego se aplica el 1er dropout con una probabilidad de 0.2.\n",
        "\n",
        "- Seguido de esto se tiene el módulo de Inception, que aplica varias operaciones de convolución y pooling en paralelo. Cuenta con 4 ramas, la primera produce 32 feature maps, la segunda 64, la tercera 64 y la cuarta 32, se concatenan y dan como salida 64x64x192.\n",
        "\n",
        "- La tercera convolución produce una salida de 64x64x128.\n",
        "\n",
        "- Luego se aplica de nuevo max pooling lo que reduce las dimensiones a 32x32x128.\n",
        "\n",
        "- Seguido, se aplica la cuarta convolución, que produce como salida 32x32x256.\n",
        "\n",
        "-Se aplica después el segundo dropout con una probabilidad de 0.25.\n",
        "\n",
        "- Se hace el flatten, la primera fully connected produce 512 salidas, la segunda, la segunda produce 128 y la tercera produce 3 salidas correspondientes con las categorías de imágenes.\n",
        "\n",
        "\n",
        "**Se aplica la función de activación reLU en las capas convolucionales y fully connected.**\n",
        "\n",
        "**Después de cada convolución se aplica la función BatchNorm2d.**"
      ],
      "metadata": {
        "id": "-nXqr5lpqtaY"
      }
    },
    {
      "cell_type": "code",
      "source": [
        "class InceptionModuleTwo(nn.Module):\n",
        "  def __init__(self, chanels):\n",
        "    super(InceptionModuleTwo, self).__init__()\n",
        "\n",
        "    self.branch1 = nn.Sequential(\n",
        "        nn.Conv2d(chanels, 32, kernel_size=1),\n",
        "        nn.BatchNorm2d(32),\n",
        "        nn.ReLU()\n",
        "    )\n",
        "\n",
        "    self.branch2 = nn.Sequential(\n",
        "        nn.Conv2d(chanels, 32, kernel_size=1),\n",
        "        nn.BatchNorm2d(32),\n",
        "        nn.ReLU(),\n",
        "        nn.Conv2d(32, 64, kernel_size=3, padding=1),\n",
        "        nn.BatchNorm2d(64),\n",
        "        nn.ReLU()\n",
        "    )\n",
        "\n",
        "    self.branch3 = nn.Sequential(\n",
        "        nn.Conv2d(chanels, 32, kernel_size=1),\n",
        "        nn.BatchNorm2d(32),\n",
        "        nn.ReLU(),\n",
        "        nn.Conv2d(32, 64, kernel_size=5, padding=2),\n",
        "        nn.BatchNorm2d(64),\n",
        "        nn.ReLU(),\n",
        "    )\n",
        "\n",
        "    self.branch4 = nn.Sequential(\n",
        "        nn.MaxPool2d(kernel_size=3, stride=1, padding=1),\n",
        "        nn.Conv2d(chanels, 32, kernel_size=1),\n",
        "        nn.BatchNorm2d(32),\n",
        "        nn.ReLU(),\n",
        "    )\n",
        "\n",
        "  def forward(self,x):\n",
        "    branch1 = self.branch1(x)\n",
        "    branch2 = self.branch2(x)\n",
        "    branch3 = self.branch3(x)\n",
        "    branch4 = self.branch4(x)\n",
        "    return torch.cat([branch1, branch2, branch3, branch4],1)\n",
        "\n",
        "\n",
        "class CNNModelBTwo(nn.Module):\n",
        "    def __init__(self):\n",
        "        super(CNNModelBTwo, self).__init__()\n",
        "\n",
        "        self.conv1 = nn.Sequential(\n",
        "            nn.Conv2d(1, 32, kernel_size=3, padding=1),\n",
        "            nn.BatchNorm2d(32),\n",
        "            nn.ReLU()\n",
        "        )\n",
        "\n",
        "        self.conv2 = nn.Sequential(\n",
        "            nn.Conv2d(32, 64, kernel_size=3, padding=1),\n",
        "            nn.BatchNorm2d(64),\n",
        "            nn.ReLU()\n",
        "        )\n",
        "\n",
        "        self.pool = nn.MaxPool2d(kernel_size=2, stride=2)\n",
        "        self.dropout1 = nn.Dropout(0.2)\n",
        "\n",
        "        self.inception = InceptionModuleTwo(64)\n",
        "\n",
        "        self.conv3 = nn.Sequential(\n",
        "            nn.Conv2d(192, 128, kernel_size=3, padding=1),\n",
        "            nn.BatchNorm2d(128),\n",
        "            nn.ReLU()\n",
        "        )\n",
        "\n",
        "        self.conv4 = nn.Sequential(\n",
        "            nn.Conv2d(128, 256, kernel_size=3, padding=1),\n",
        "            nn.BatchNorm2d(256),\n",
        "            nn.ReLU()\n",
        "        )\n",
        "\n",
        "        self.dropout2 = nn.Dropout(0.25)\n",
        "\n",
        "        self.fc1 = nn.Linear(32 * 32 * 256, 512)\n",
        "        self.dropout_fc = nn.Dropout(0.4)\n",
        "        self.fc2 = nn.Linear(512, 128)\n",
        "        self.fc3 = nn.Linear(128, 3)\n",
        "\n",
        "    def forward(self, x):\n",
        "        x = self.conv1(x)\n",
        "        x = self.pool(self.conv2(x))\n",
        "        x = self.dropout1(x)\n",
        "        x = self.inception(x)\n",
        "        x = self.pool(self.conv3(x))\n",
        "        x = self.conv4(x)\n",
        "        x = self.dropout2(x)\n",
        "        x = torch.flatten(x, 1)\n",
        "        x = F.relu(self.fc1(x))\n",
        "        x = F.relu(self.fc2(x))\n",
        "        x = self.fc3(x)\n",
        "        return x\n",
        "\n"
      ],
      "metadata": {
        "id": "cEGxrHc3NU1J"
      },
      "execution_count": 40,
      "outputs": []
    },
    {
      "cell_type": "markdown",
      "source": [
        "#### Proof of Concept modelo 2\n",
        "\n",
        "\n",
        "Se procede a realizar la prueba de concepto con el primer modelo planteado. Se visualiza el accuracy del conjunto de entrenamiento y validación por cada epoch. En este caso se realizan **50 epochs**.\n",
        "\n",
        "Para el optimizador se utiliza el **Adam** que nos facilita el módulo **optim** en este caso, este nos puede ayudar a converger más rápido , además cómo función de pérdida se utiliza **Cross Entropy Loss**."
      ],
      "metadata": {
        "id": "l_SCzPYouRoR"
      }
    },
    {
      "cell_type": "code",
      "source": [
        "\n",
        "model = CNNModelBTwo()\n",
        "model.to(device)\n",
        "\n",
        "criterion = nn.CrossEntropyLoss()\n",
        "optimizer = optim.Adam(model.parameters(), lr=0.001)\n",
        "\n",
        "# Definir la función de entrenamiento\n",
        "def train_model_with_subset(model, train_loader, test_loader, criterion, optimizer, epochs=10):\n",
        "    for epoch in range(epochs):\n",
        "        model.train()  # Poner el modelo en modo de entrenamiento\n",
        "\n",
        "        running_loss = 0.0\n",
        "        correct = 0\n",
        "        total = 0\n",
        "\n",
        "        # Training\n",
        "        for inputs, labels in train_loader:\n",
        "            inputs, labels = inputs.to(device), labels.to(device)\n",
        "\n",
        "            optimizer.zero_grad()  # Limpiar los gradientes\n",
        "            outputs = model(inputs)  # Hacer una predicción\n",
        "            loss = criterion(outputs, labels)  # Calcular la pérdida\n",
        "            loss.backward()  # Hacer backpropagation\n",
        "            optimizer.step()  # Actualizar los pesos\n",
        "\n",
        "            running_loss += loss.item()\n",
        "            _, predicted = outputs.max(1)\n",
        "            total += labels.size(0)\n",
        "            correct += predicted.eq(labels).sum().item()\n",
        "\n",
        "        train_loss = running_loss / len(train_loader)\n",
        "        train_accuracy = 100 * correct / total\n",
        "\n",
        "        # Validation\n",
        "        model.eval()  # Seteat el modelo para evaluación\n",
        "        val_running_loss = 0.0\n",
        "        val_correct = 0\n",
        "        val_total = 0\n",
        "        with torch.no_grad():  # Desabilitar gradientes para validación\n",
        "            for inputs, labels in test_loader:\n",
        "                inputs, labels = inputs.to(device), labels.to(device)\n",
        "\n",
        "                outputs = model(inputs)\n",
        "                loss = criterion(outputs, labels)\n",
        "                val_running_loss += loss.item()\n",
        "\n",
        "                _, predicted = outputs.max(1)\n",
        "                val_total += labels.size(0)\n",
        "                val_correct += predicted.eq(labels).sum().item()\n",
        "\n",
        "        val_loss = val_running_loss / len(test_loader)\n",
        "        val_accuracy = 100 * val_correct / val_total\n",
        "\n",
        "        print(f\"Epoch {epoch+1}/{epochs}, \"\n",
        "              f\"Train Loss: {train_loss:.4f}, Train Accuracy: {train_accuracy:.2f}%, \"\n",
        "              f\"Val Loss: {val_loss:.4f}, Val Accuracy: {val_accuracy:.2f}%\")\n",
        "\n",
        "train_model_with_subset(model, train_loader, test_loader, criterion, optimizer, epochs=50)"
      ],
      "metadata": {
        "colab": {
          "base_uri": "https://localhost:8080/"
        },
        "id": "Ej-Q5nuRS6Qb",
        "outputId": "a3841ca3-3da1-4944-b7aa-c6d31c02c5a7"
      },
      "execution_count": 41,
      "outputs": [
        {
          "output_type": "stream",
          "name": "stdout",
          "text": [
            "Epoch 1/50, Train Loss: 14.8366, Train Accuracy: 44.00%, Val Loss: 36.3042, Val Accuracy: 23.08%\n",
            "Epoch 2/50, Train Loss: 4.2223, Train Accuracy: 70.00%, Val Loss: 21.6533, Val Accuracy: 7.69%\n",
            "Epoch 3/50, Train Loss: 2.8370, Train Accuracy: 84.00%, Val Loss: 77.2138, Val Accuracy: 23.08%\n",
            "Epoch 4/50, Train Loss: 1.5489, Train Accuracy: 86.00%, Val Loss: 19.4193, Val Accuracy: 23.08%\n",
            "Epoch 5/50, Train Loss: 1.3463, Train Accuracy: 76.00%, Val Loss: 35.8143, Val Accuracy: 23.08%\n",
            "Epoch 6/50, Train Loss: 0.3399, Train Accuracy: 94.00%, Val Loss: 64.1105, Val Accuracy: 23.08%\n",
            "Epoch 7/50, Train Loss: 2.1044, Train Accuracy: 86.00%, Val Loss: 51.5912, Val Accuracy: 23.08%\n",
            "Epoch 8/50, Train Loss: 1.2269, Train Accuracy: 90.00%, Val Loss: 26.0356, Val Accuracy: 23.08%\n",
            "Epoch 9/50, Train Loss: 0.0256, Train Accuracy: 98.00%, Val Loss: 19.4870, Val Accuracy: 30.77%\n",
            "Epoch 10/50, Train Loss: 0.1176, Train Accuracy: 98.00%, Val Loss: 9.0988, Val Accuracy: 30.77%\n",
            "Epoch 11/50, Train Loss: 0.2348, Train Accuracy: 96.00%, Val Loss: 2.9271, Val Accuracy: 53.85%\n",
            "Epoch 12/50, Train Loss: 0.4043, Train Accuracy: 94.00%, Val Loss: 3.8915, Val Accuracy: 53.85%\n",
            "Epoch 13/50, Train Loss: 0.0006, Train Accuracy: 100.00%, Val Loss: 5.8695, Val Accuracy: 46.15%\n",
            "Epoch 14/50, Train Loss: 0.0017, Train Accuracy: 100.00%, Val Loss: 6.2372, Val Accuracy: 38.46%\n",
            "Epoch 15/50, Train Loss: 0.0930, Train Accuracy: 98.00%, Val Loss: 9.9752, Val Accuracy: 38.46%\n",
            "Epoch 16/50, Train Loss: 0.0417, Train Accuracy: 98.00%, Val Loss: 7.7494, Val Accuracy: 53.85%\n",
            "Epoch 17/50, Train Loss: 0.0000, Train Accuracy: 100.00%, Val Loss: 2.3984, Val Accuracy: 76.92%\n",
            "Epoch 18/50, Train Loss: 0.0029, Train Accuracy: 100.00%, Val Loss: 2.4302, Val Accuracy: 69.23%\n",
            "Epoch 19/50, Train Loss: 0.0048, Train Accuracy: 100.00%, Val Loss: 3.0974, Val Accuracy: 76.92%\n",
            "Epoch 20/50, Train Loss: 0.0003, Train Accuracy: 100.00%, Val Loss: 2.6730, Val Accuracy: 76.92%\n",
            "Epoch 21/50, Train Loss: 0.0008, Train Accuracy: 100.00%, Val Loss: 3.0433, Val Accuracy: 76.92%\n",
            "Epoch 22/50, Train Loss: 0.0000, Train Accuracy: 100.00%, Val Loss: 2.5586, Val Accuracy: 76.92%\n",
            "Epoch 23/50, Train Loss: 0.0000, Train Accuracy: 100.00%, Val Loss: 3.3496, Val Accuracy: 76.92%\n",
            "Epoch 24/50, Train Loss: 0.0000, Train Accuracy: 100.00%, Val Loss: 2.9124, Val Accuracy: 76.92%\n",
            "Epoch 25/50, Train Loss: 0.0000, Train Accuracy: 100.00%, Val Loss: 2.5200, Val Accuracy: 76.92%\n",
            "Epoch 26/50, Train Loss: 0.0000, Train Accuracy: 100.00%, Val Loss: 2.5489, Val Accuracy: 76.92%\n",
            "Epoch 27/50, Train Loss: 0.0000, Train Accuracy: 100.00%, Val Loss: 2.4852, Val Accuracy: 76.92%\n",
            "Epoch 28/50, Train Loss: 0.0000, Train Accuracy: 100.00%, Val Loss: 2.2803, Val Accuracy: 76.92%\n",
            "Epoch 29/50, Train Loss: 0.0000, Train Accuracy: 100.00%, Val Loss: 2.0530, Val Accuracy: 76.92%\n",
            "Epoch 30/50, Train Loss: 0.0011, Train Accuracy: 100.00%, Val Loss: 1.9328, Val Accuracy: 69.23%\n",
            "Epoch 31/50, Train Loss: 0.0001, Train Accuracy: 100.00%, Val Loss: 2.4607, Val Accuracy: 69.23%\n",
            "Epoch 32/50, Train Loss: 0.0004, Train Accuracy: 100.00%, Val Loss: 3.0451, Val Accuracy: 69.23%\n",
            "Epoch 33/50, Train Loss: 0.0001, Train Accuracy: 100.00%, Val Loss: 2.7112, Val Accuracy: 69.23%\n",
            "Epoch 34/50, Train Loss: 0.0001, Train Accuracy: 100.00%, Val Loss: 2.4330, Val Accuracy: 69.23%\n",
            "Epoch 35/50, Train Loss: 0.0000, Train Accuracy: 100.00%, Val Loss: 2.2926, Val Accuracy: 69.23%\n",
            "Epoch 36/50, Train Loss: 0.0000, Train Accuracy: 100.00%, Val Loss: 2.7553, Val Accuracy: 69.23%\n",
            "Epoch 37/50, Train Loss: 0.0001, Train Accuracy: 100.00%, Val Loss: 2.9512, Val Accuracy: 69.23%\n",
            "Epoch 38/50, Train Loss: 0.0000, Train Accuracy: 100.00%, Val Loss: 2.1846, Val Accuracy: 69.23%\n",
            "Epoch 39/50, Train Loss: 0.0000, Train Accuracy: 100.00%, Val Loss: 2.0600, Val Accuracy: 69.23%\n",
            "Epoch 40/50, Train Loss: 0.0000, Train Accuracy: 100.00%, Val Loss: 3.0158, Val Accuracy: 69.23%\n",
            "Epoch 41/50, Train Loss: 0.0000, Train Accuracy: 100.00%, Val Loss: 2.5667, Val Accuracy: 69.23%\n",
            "Epoch 42/50, Train Loss: 0.0000, Train Accuracy: 100.00%, Val Loss: 2.0179, Val Accuracy: 69.23%\n",
            "Epoch 43/50, Train Loss: 0.0000, Train Accuracy: 100.00%, Val Loss: 2.1356, Val Accuracy: 69.23%\n",
            "Epoch 44/50, Train Loss: 0.0000, Train Accuracy: 100.00%, Val Loss: 2.0837, Val Accuracy: 69.23%\n",
            "Epoch 45/50, Train Loss: 0.0000, Train Accuracy: 100.00%, Val Loss: 2.5449, Val Accuracy: 69.23%\n",
            "Epoch 46/50, Train Loss: 0.0000, Train Accuracy: 100.00%, Val Loss: 2.6852, Val Accuracy: 69.23%\n",
            "Epoch 47/50, Train Loss: 0.0000, Train Accuracy: 100.00%, Val Loss: 2.1721, Val Accuracy: 69.23%\n",
            "Epoch 48/50, Train Loss: 0.0000, Train Accuracy: 100.00%, Val Loss: 1.9953, Val Accuracy: 69.23%\n",
            "Epoch 49/50, Train Loss: 0.0000, Train Accuracy: 100.00%, Val Loss: 2.6568, Val Accuracy: 69.23%\n",
            "Epoch 50/50, Train Loss: 0.0000, Train Accuracy: 100.00%, Val Loss: 2.9212, Val Accuracy: 69.23%\n"
          ]
        }
      ]
    },
    {
      "cell_type": "markdown",
      "source": [
        "### Resultados de la prueba con la propuesta de modelo 2\n",
        "\n",
        "En este caso el accuracy es del 62% para las imágenes de prueba. Puede que el modelo en la práctica y con todos los datos tenga un mejor rendimiento al ser un poco más complejo y poder extraer mejor las características de los datos."
      ],
      "metadata": {
        "id": "SQDnOJLuUa2O"
      }
    },
    {
      "cell_type": "code",
      "source": [
        "correct = 0\n",
        "total = 0\n",
        "# debido a que no estamos entrenando, no necesitamos calcular los gradientes para las salidas\n",
        "with torch.no_grad():\n",
        "    for data in test_loader:\n",
        "        images, labels = images.to(device), labels.to(device)\n",
        "        # calcular outputs corriendo imagenes en la red\n",
        "        outputs = model(images)\n",
        "        # La clase con mayor valor es la que escogemos como salida\n",
        "        _, predicted = torch.max(outputs.data, 1)\n",
        "        total += labels.size(0)\n",
        "        correct += (predicted == labels).sum().item()\n",
        "\n",
        "print(f'Accuracy de la red en las 8 imagenes de test: {100 * correct // total} %')"
      ],
      "metadata": {
        "colab": {
          "base_uri": "https://localhost:8080/"
        },
        "id": "JPGUIYhkXn7H",
        "outputId": "ef88d9df-21dc-4f84-d516-6b99b49cab50"
      },
      "execution_count": 42,
      "outputs": [
        {
          "output_type": "stream",
          "name": "stdout",
          "text": [
            "Accuracy de la red en las 8 imagenes de test: 62 %\n"
          ]
        }
      ]
    },
    {
      "cell_type": "markdown",
      "source": [
        "### Propuesta de modelo 3\n",
        "\n",
        "Para la tercera propuesta se tiene un modelo más complejo, en este caso se utilizan dos módulos de Inception con un número mayor de filtros, de igual manera se aplican técnicas como batch normalization y dropout."
      ],
      "metadata": {
        "id": "uFTMOw6FNEbs"
      }
    },
    {
      "cell_type": "code",
      "source": [
        "class InceptionModule(nn.Module):\n",
        "    def __init__(self, in_channels, out1x1, red3x3, out3x3, red5x5, out5x5, pool_proj):\n",
        "        super(InceptionModule, self).__init__()\n",
        "\n",
        "        # Branch 1: 1x1 Conv\n",
        "        self.branch1 = nn.Sequential(\n",
        "            nn.Conv2d(in_channels, out1x1, kernel_size=1),\n",
        "            nn.BatchNorm2d(out1x1),\n",
        "            nn.ReLU()\n",
        "        )\n",
        "\n",
        "        # Branch 2: 1x1 Conv -> 3x3 Conv\n",
        "        self.branch2 = nn.Sequential(\n",
        "            nn.Conv2d(in_channels, red3x3, kernel_size=1),\n",
        "            nn.BatchNorm2d(red3x3),\n",
        "            nn.ReLU(),\n",
        "            nn.Conv2d(red3x3, out3x3, kernel_size=3, padding=1),\n",
        "            nn.BatchNorm2d(out3x3),\n",
        "            nn.ReLU()\n",
        "        )\n",
        "\n",
        "        # Branch 3: 1x1 Conv -> 5x5 Conv\n",
        "        self.branch3 = nn.Sequential(\n",
        "            nn.Conv2d(in_channels, red5x5, kernel_size=1),\n",
        "            nn.BatchNorm2d(red5x5),\n",
        "            nn.ReLU(),\n",
        "            nn.Conv2d(red5x5, out5x5, kernel_size=5, padding=2),\n",
        "            nn.BatchNorm2d(out5x5),\n",
        "            nn.ReLU()\n",
        "        )\n",
        "\n",
        "        # Branch 4: Max Pool -> 1x1 Conv\n",
        "        self.branch4 = nn.Sequential(\n",
        "            nn.MaxPool2d(kernel_size=3, stride=1, padding=1),\n",
        "            nn.Conv2d(in_channels, pool_proj, kernel_size=1),\n",
        "            nn.BatchNorm2d(pool_proj),\n",
        "            nn.ReLU()\n",
        "        )\n",
        "\n",
        "    def forward(self, x):\n",
        "        branch1 = self.branch1(x)\n",
        "        branch2 = self.branch2(x)\n",
        "        branch3 = self.branch3(x)\n",
        "        branch4 = self.branch4(x)\n",
        "        return torch.cat([branch1, branch2, branch3, branch4], 1)\n",
        "\n",
        "\n",
        "class CNNModelWithTwoInception(nn.Module):\n",
        "    def __init__(self):\n",
        "        super(CNNModelWithTwoInception, self).__init__()\n",
        "\n",
        "        self.conv1 = nn.Sequential(\n",
        "            nn.Conv2d(1, 32, kernel_size=3, padding=1),\n",
        "            nn.BatchNorm2d(32),\n",
        "            nn.ReLU()\n",
        "        )\n",
        "        self.conv2 = nn.Sequential(\n",
        "            nn.Conv2d(32, 64, kernel_size=3, padding=1),\n",
        "            nn.BatchNorm2d(64),\n",
        "            nn.ReLU()\n",
        "        )\n",
        "\n",
        "        # Primer Inception module\n",
        "        self.inception1 = InceptionModule(64, 32, 32, 64, 16, 32, 32)\n",
        "\n",
        "        # Segundo Inception module\n",
        "        self.inception2 = InceptionModule(160, 64, 64, 128, 32, 64, 64)\n",
        "\n",
        "        # Pooling layer\n",
        "        self.pool = nn.MaxPool2d(kernel_size=2, stride=2)\n",
        "\n",
        "        # Dropout\n",
        "        self.dropout1 = nn.Dropout(0.3)\n",
        "        self.dropout2 = nn.Dropout(0.4)\n",
        "\n",
        "        # Global average pooling\n",
        "        self.global_avg_pool = nn.AdaptiveAvgPool2d(1)\n",
        "\n",
        "        # Fully connected\n",
        "        self.fc1 = nn.Linear(320, 128)\n",
        "        self.fc2 = nn.Linear(128, 64)\n",
        "        self.fc3 = nn.Linear(64, 3)\n",
        "\n",
        "    def forward(self, x):\n",
        "        # Conv layers\n",
        "        x = self.conv1(x)\n",
        "        x = self.pool(self.conv2(x))\n",
        "\n",
        "        # Primer Inception module\n",
        "        x = self.inception1(x)\n",
        "\n",
        "        # Pool después de primer inception\n",
        "        x = self.pool(x)\n",
        "\n",
        "        # Segundo Inception Module\n",
        "        x = self.inception2(x)\n",
        "\n",
        "        # Pooling\n",
        "        x = self.pool(x)\n",
        "        x = self.dropout1(x)\n",
        "\n",
        "        # Global average pooling\n",
        "        x = self.global_avg_pool(x)\n",
        "\n",
        "        # Flatten\n",
        "        x = torch.flatten(x, 1)\n",
        "\n",
        "        # Fully connected con dropout\n",
        "        x = F.relu(self.fc1(x))\n",
        "        x = self.dropout2(x)\n",
        "        x = F.relu(self.fc2(x))\n",
        "\n",
        "        # Salida\n",
        "        x = self.fc3(x)\n",
        "\n",
        "        return x\n"
      ],
      "metadata": {
        "id": "2WOxuegVIt8l"
      },
      "execution_count": 43,
      "outputs": []
    },
    {
      "cell_type": "code",
      "source": [
        "\n",
        "model = CNNModelWithTwoInception()\n",
        "model.to(device)\n",
        "\n",
        "criterion = nn.CrossEntropyLoss()\n",
        "optimizer = optim.Adam(model.parameters(), lr=0.001)\n",
        "\n",
        "# Definir la función de entrenamiento\n",
        "def train_model_with_subset(model, train_loader, test_loader, criterion, optimizer, epochs=10):\n",
        "    for epoch in range(epochs):\n",
        "        model.train()  # Poner el modelo en modo de entrenamiento\n",
        "\n",
        "        running_loss = 0.0\n",
        "        correct = 0\n",
        "        total = 0\n",
        "\n",
        "        # Training\n",
        "        for inputs, labels in train_loader:\n",
        "            inputs, labels = inputs.to(device), labels.to(device)\n",
        "\n",
        "            optimizer.zero_grad()  # Limpiar los gradientes\n",
        "            outputs = model(inputs)  # Hacer una predicción\n",
        "            loss = criterion(outputs, labels)  # Calcular la pérdida\n",
        "            loss.backward()  # Hacer backpropagation\n",
        "            optimizer.step()  # Actualizar los pesos\n",
        "\n",
        "            running_loss += loss.item()\n",
        "            _, predicted = outputs.max(1)\n",
        "            total += labels.size(0)\n",
        "            correct += predicted.eq(labels).sum().item()\n",
        "\n",
        "        train_loss = running_loss / len(train_loader)\n",
        "        train_accuracy = 100 * correct / total\n",
        "\n",
        "        # Validation\n",
        "        model.eval()  # Setear el modelo a evalución\n",
        "        val_running_loss = 0.0\n",
        "        val_correct = 0\n",
        "        val_total = 0\n",
        "        with torch.no_grad():  # Desabilitar gradientes para validación\n",
        "            for inputs, labels in test_loader:\n",
        "                inputs, labels = inputs.to(device), labels.to(device)\n",
        "\n",
        "                outputs = model(inputs)\n",
        "                loss = criterion(outputs, labels)\n",
        "                val_running_loss += loss.item()\n",
        "\n",
        "                _, predicted = outputs.max(1)\n",
        "                val_total += labels.size(0)\n",
        "                val_correct += predicted.eq(labels).sum().item()\n",
        "\n",
        "        val_loss = val_running_loss / len(test_loader)\n",
        "        val_accuracy = 100 * val_correct / val_total\n",
        "\n",
        "        print(f\"Epoch {epoch+1}/{epochs}, \"\n",
        "              f\"Train Loss: {train_loss:.4f}, Train Accuracy: {train_accuracy:.2f}%, \"\n",
        "              f\"Val Loss: {val_loss:.4f}, Val Accuracy: {val_accuracy:.2f}%\")\n",
        "\n",
        "# Entrenar el modelo con evaluación.\n",
        "train_model_with_subset(model, train_loader, test_loader, criterion, optimizer, epochs=50)"
      ],
      "metadata": {
        "colab": {
          "base_uri": "https://localhost:8080/"
        },
        "id": "-nuUZV3MJGjl",
        "outputId": "a5312250-fa72-4817-afd6-2c4bca6045c0"
      },
      "execution_count": 44,
      "outputs": [
        {
          "output_type": "stream",
          "name": "stdout",
          "text": [
            "Epoch 1/50, Train Loss: 1.0547, Train Accuracy: 46.00%, Val Loss: 1.2304, Val Accuracy: 23.08%\n",
            "Epoch 2/50, Train Loss: 0.8817, Train Accuracy: 58.00%, Val Loss: 2.2760, Val Accuracy: 23.08%\n",
            "Epoch 3/50, Train Loss: 0.7830, Train Accuracy: 60.00%, Val Loss: 3.7660, Val Accuracy: 23.08%\n",
            "Epoch 4/50, Train Loss: 0.7362, Train Accuracy: 62.00%, Val Loss: 5.1205, Val Accuracy: 23.08%\n",
            "Epoch 5/50, Train Loss: 0.7625, Train Accuracy: 62.00%, Val Loss: 4.3580, Val Accuracy: 23.08%\n",
            "Epoch 6/50, Train Loss: 0.6645, Train Accuracy: 64.00%, Val Loss: 2.1546, Val Accuracy: 23.08%\n",
            "Epoch 7/50, Train Loss: 0.7678, Train Accuracy: 68.00%, Val Loss: 1.0871, Val Accuracy: 38.46%\n",
            "Epoch 8/50, Train Loss: 0.5820, Train Accuracy: 70.00%, Val Loss: 0.7114, Val Accuracy: 53.85%\n",
            "Epoch 9/50, Train Loss: 0.7021, Train Accuracy: 68.00%, Val Loss: 0.6181, Val Accuracy: 53.85%\n",
            "Epoch 10/50, Train Loss: 0.5926, Train Accuracy: 76.00%, Val Loss: 0.6069, Val Accuracy: 61.54%\n",
            "Epoch 11/50, Train Loss: 0.5465, Train Accuracy: 84.00%, Val Loss: 0.5895, Val Accuracy: 69.23%\n",
            "Epoch 12/50, Train Loss: 0.5966, Train Accuracy: 66.00%, Val Loss: 0.6221, Val Accuracy: 69.23%\n",
            "Epoch 13/50, Train Loss: 0.6308, Train Accuracy: 82.00%, Val Loss: 0.5797, Val Accuracy: 53.85%\n",
            "Epoch 14/50, Train Loss: 0.4545, Train Accuracy: 76.00%, Val Loss: 0.5494, Val Accuracy: 69.23%\n",
            "Epoch 15/50, Train Loss: 0.6498, Train Accuracy: 74.00%, Val Loss: 1.6536, Val Accuracy: 38.46%\n",
            "Epoch 16/50, Train Loss: 0.4607, Train Accuracy: 78.00%, Val Loss: 1.2556, Val Accuracy: 38.46%\n",
            "Epoch 17/50, Train Loss: 0.6481, Train Accuracy: 84.00%, Val Loss: 1.0012, Val Accuracy: 38.46%\n",
            "Epoch 18/50, Train Loss: 0.4643, Train Accuracy: 82.00%, Val Loss: 0.8392, Val Accuracy: 53.85%\n",
            "Epoch 19/50, Train Loss: 0.4961, Train Accuracy: 78.00%, Val Loss: 0.9345, Val Accuracy: 69.23%\n",
            "Epoch 20/50, Train Loss: 0.4951, Train Accuracy: 82.00%, Val Loss: 0.6266, Val Accuracy: 61.54%\n",
            "Epoch 21/50, Train Loss: 0.3956, Train Accuracy: 80.00%, Val Loss: 0.5981, Val Accuracy: 53.85%\n",
            "Epoch 22/50, Train Loss: 0.3230, Train Accuracy: 92.00%, Val Loss: 0.6126, Val Accuracy: 53.85%\n",
            "Epoch 23/50, Train Loss: 0.3365, Train Accuracy: 86.00%, Val Loss: 0.5032, Val Accuracy: 69.23%\n",
            "Epoch 24/50, Train Loss: 0.3290, Train Accuracy: 88.00%, Val Loss: 0.5801, Val Accuracy: 69.23%\n",
            "Epoch 25/50, Train Loss: 0.4885, Train Accuracy: 90.00%, Val Loss: 0.7785, Val Accuracy: 69.23%\n",
            "Epoch 26/50, Train Loss: 0.3993, Train Accuracy: 86.00%, Val Loss: 3.1205, Val Accuracy: 30.77%\n",
            "Epoch 27/50, Train Loss: 0.5553, Train Accuracy: 80.00%, Val Loss: 3.0552, Val Accuracy: 38.46%\n",
            "Epoch 28/50, Train Loss: 0.5046, Train Accuracy: 82.00%, Val Loss: 0.6911, Val Accuracy: 69.23%\n",
            "Epoch 29/50, Train Loss: 0.4136, Train Accuracy: 82.00%, Val Loss: 0.5563, Val Accuracy: 61.54%\n",
            "Epoch 30/50, Train Loss: 0.3442, Train Accuracy: 84.00%, Val Loss: 0.8901, Val Accuracy: 53.85%\n",
            "Epoch 31/50, Train Loss: 0.3444, Train Accuracy: 86.00%, Val Loss: 0.5451, Val Accuracy: 76.92%\n",
            "Epoch 32/50, Train Loss: 0.2892, Train Accuracy: 94.00%, Val Loss: 0.6195, Val Accuracy: 53.85%\n",
            "Epoch 33/50, Train Loss: 0.2938, Train Accuracy: 90.00%, Val Loss: 0.4450, Val Accuracy: 76.92%\n",
            "Epoch 34/50, Train Loss: 0.1921, Train Accuracy: 90.00%, Val Loss: 0.4196, Val Accuracy: 76.92%\n",
            "Epoch 35/50, Train Loss: 0.2179, Train Accuracy: 96.00%, Val Loss: 0.5161, Val Accuracy: 69.23%\n",
            "Epoch 36/50, Train Loss: 0.3176, Train Accuracy: 88.00%, Val Loss: 0.3169, Val Accuracy: 84.62%\n",
            "Epoch 37/50, Train Loss: 0.3684, Train Accuracy: 84.00%, Val Loss: 1.0527, Val Accuracy: 69.23%\n",
            "Epoch 38/50, Train Loss: 0.3463, Train Accuracy: 90.00%, Val Loss: 1.5402, Val Accuracy: 46.15%\n",
            "Epoch 39/50, Train Loss: 0.3967, Train Accuracy: 92.00%, Val Loss: 3.1206, Val Accuracy: 53.85%\n",
            "Epoch 40/50, Train Loss: 0.3443, Train Accuracy: 88.00%, Val Loss: 0.7601, Val Accuracy: 69.23%\n",
            "Epoch 41/50, Train Loss: 0.2574, Train Accuracy: 90.00%, Val Loss: 1.7851, Val Accuracy: 53.85%\n",
            "Epoch 42/50, Train Loss: 0.3411, Train Accuracy: 88.00%, Val Loss: 1.5489, Val Accuracy: 53.85%\n",
            "Epoch 43/50, Train Loss: 0.2869, Train Accuracy: 92.00%, Val Loss: 0.4191, Val Accuracy: 84.62%\n",
            "Epoch 44/50, Train Loss: 0.3275, Train Accuracy: 94.00%, Val Loss: 0.4254, Val Accuracy: 69.23%\n",
            "Epoch 45/50, Train Loss: 0.2800, Train Accuracy: 88.00%, Val Loss: 0.2498, Val Accuracy: 92.31%\n",
            "Epoch 46/50, Train Loss: 0.1993, Train Accuracy: 94.00%, Val Loss: 0.2032, Val Accuracy: 100.00%\n",
            "Epoch 47/50, Train Loss: 0.2442, Train Accuracy: 96.00%, Val Loss: 0.2772, Val Accuracy: 92.31%\n",
            "Epoch 48/50, Train Loss: 0.2209, Train Accuracy: 98.00%, Val Loss: 0.4652, Val Accuracy: 84.62%\n",
            "Epoch 49/50, Train Loss: 0.3936, Train Accuracy: 94.00%, Val Loss: 0.2450, Val Accuracy: 92.31%\n",
            "Epoch 50/50, Train Loss: 0.1356, Train Accuracy: 96.00%, Val Loss: 0.1658, Val Accuracy: 100.00%\n"
          ]
        }
      ]
    },
    {
      "cell_type": "code",
      "source": [
        "correct = 0\n",
        "total = 0\n",
        "# debido a que no estamos entrenando, no necesitamos calcular los gradientes para las salidas\n",
        "with torch.no_grad():\n",
        "    for data in test_loader:\n",
        "        images, labels = images.to(device), labels.to(device)\n",
        "        # calcular outputs corriendo imagenes en la red\n",
        "        outputs = model(images)\n",
        "        # La clase con mayor valor es la que escogemos como salida\n",
        "        _, predicted = torch.max(outputs.data, 1)\n",
        "        total += labels.size(0)\n",
        "        correct += (predicted == labels).sum().item()\n",
        "\n",
        "print(f'Accuracy de la red en las 8 imagenes de test: {100 * correct // total} %')"
      ],
      "metadata": {
        "colab": {
          "base_uri": "https://localhost:8080/"
        },
        "id": "Rm2lKE3uMpqP",
        "outputId": "4da563dc-b4b9-48f1-d200-07e170ef09dd"
      },
      "execution_count": 45,
      "outputs": [
        {
          "output_type": "stream",
          "name": "stdout",
          "text": [
            "Accuracy de la red en las 8 imagenes de test: 100 %\n"
          ]
        }
      ]
    },
    {
      "cell_type": "markdown",
      "source": [
        "# Modelo escogido\n",
        "\n",
        "En base a los resultados expuestos anteriormente se estará utilizando el modelo 3, puesto que presento el mejor rendimiento en su PoC."
      ],
      "metadata": {
        "id": "nWhI8cgz_PCW"
      }
    },
    {
      "cell_type": "markdown",
      "source": [
        "# Bibliografía\n",
        "\n",
        "Bjorck, N., Gomes, C. P., Selman, B., & Weinberger, K. Q. (2018). Understanding batch normalization. Advances in neural information processing systems, 31."
      ],
      "metadata": {
        "id": "P4X5pSObsSI0"
      }
    }
  ],
  "metadata": {
    "accelerator": "GPU",
    "colab": {
      "gpuType": "T4",
      "provenance": []
    },
    "kernelspec": {
      "display_name": "Python 3",
      "name": "python3"
    },
    "language_info": {
      "codemirror_mode": {
        "name": "ipython",
        "version": 3
      },
      "file_extension": ".py",
      "mimetype": "text/x-python",
      "name": "python",
      "nbconvert_exporter": "python",
      "pygments_lexer": "ipython3",
      "version": "3.12.3"
    }
  },
  "nbformat": 4,
  "nbformat_minor": 0
}