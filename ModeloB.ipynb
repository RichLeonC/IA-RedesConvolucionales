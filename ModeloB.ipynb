{
  "cells": [
    {
      "cell_type": "markdown",
      "metadata": {
        "id": "bnG8uRdCh8Na"
      },
      "source": [
        "# Modelo B para clasificación de imágenes\n",
        "\n",
        "#### **Jeffrey Daniel Leiva Cascante** 2021016720\n",
        "#### **Richard Osvaldo León Chinchilla** 2019003759\n",
        "\n",
        "En este notebook se plantea el **modelo B** para la clasificación de imágenes de Covid-19, se realizan primero 3 **Proof of Concept** con diferentes arquitecturas, se aplican técnicas cómo el **Dropout** e **Inception Modules** para mejorar la capacidad de clasificación de los modelos.\n",
        "\n",
        "Se realizan las pruebas y se escoge el modelo con los mejores resultados para el subconjunto de pruebas; luego se procede a entrenar el modelo seleccionado con tres conjuntos de datos: el primero son los datos **crudos**, el segundo es de los datos con **bilateral filter** aplicado y el tercero es de los datos con el **canny edge filter** aplicado.\n",
        "\n",
        "Los datos se cargan utilizando la herramienta de **DataLoader** provista por PyTorch. Además, se utilizan técnicas de **Data Augmentation** que permitan tener un mayor número de ejemplos de imágenes para el entrenamiento del modelo; por medio de la utilización del módulo de **transforms** que PyTorch provee."
      ]
    },
    {
      "cell_type": "code",
      "execution_count": 1,
      "metadata": {
        "id": "zcmg7q7Fh8Nv"
      },
      "outputs": [],
      "source": [
        "import torch\n",
        "import torch.nn as nn\n",
        "import torch.nn.functional as F\n",
        "import torch.optim as optim\n",
        "from torchvision import datasets, transforms\n",
        "from torch.utils.data import DataLoader, SubsetRandomSampler, random_split\n",
        "import numpy as np\n",
        "import matplotlib.pyplot as plt\n",
        "import torchvision\n",
        "from torchsummary import summary\n"
      ]
    },
    {
      "cell_type": "code",
      "execution_count": 2,
      "metadata": {
        "colab": {
          "base_uri": "https://localhost:8080/"
        },
        "id": "JNuSZWCkD8cL",
        "outputId": "16317338-bfc1-4016-f170-0ec030b8a35c"
      },
      "outputs": [
        {
          "output_type": "stream",
          "name": "stdout",
          "text": [
            "Mounted at /content/drive\n"
          ]
        },
        {
          "output_type": "execute_result",
          "data": {
            "text/plain": [
              "True"
            ]
          },
          "metadata": {},
          "execution_count": 2
        }
      ],
      "source": [
        "from google.colab import drive\n",
        "drive.mount('/content/drive')\n",
        "torch.cuda.is_available()"
      ]
    },
    {
      "cell_type": "code",
      "source": [
        "device = torch.device(\"cuda\" if torch.cuda.is_available() else \"cpu\")"
      ],
      "metadata": {
        "id": "8JRF-D3QxZlx"
      },
      "execution_count": 3,
      "outputs": []
    },
    {
      "cell_type": "markdown",
      "source": [
        "### Definir funciones de training  y testing para las PoC.\n",
        "\n",
        "En este caso no contempla la funcionalidad de weights and biases, posteriormente se declara la función pero con la funcionalidad de weights and biases. Se entrena y se valida el modelo, se guardan los parámetros del modelo sí el validation accuracy mejora en cierto epoch.\n",
        "\n"
      ],
      "metadata": {
        "id": "tHQZoJ5kXYCl"
      }
    },
    {
      "cell_type": "code",
      "source": [
        "def train_model_with_subset(model, train_loader, test_loader, criterion, optimizer,save_model, epochs=10):\n",
        "    best_val_accuracy = -1\n",
        "    for epoch in range(epochs):\n",
        "        model.train()  # Poner el modelo en modo de entrenamiento\n",
        "\n",
        "        running_loss = 0.0\n",
        "        correct = 0\n",
        "        total = 0\n",
        "\n",
        "        # Training\n",
        "        for inputs, labels in train_loader:\n",
        "            inputs, labels = inputs.to(device), labels.to(device)\n",
        "\n",
        "            optimizer.zero_grad()  # Limpiar los gradientes\n",
        "            outputs = model(inputs)  # Hacer una predicción\n",
        "            loss = criterion(outputs, labels)  # Calcular la pérdida\n",
        "            loss.backward()  # Hacer backpropagation\n",
        "            optimizer.step()  # Actualizar los pesos\n",
        "\n",
        "            running_loss += loss.item()\n",
        "            _, predicted = outputs.max(1)\n",
        "            total += labels.size(0)\n",
        "            correct += predicted.eq(labels).sum().item()\n",
        "\n",
        "        train_loss = running_loss / len(train_loader)\n",
        "        train_accuracy = 100 * correct / total\n",
        "\n",
        "        # Validation\n",
        "        model.eval()  # Setear el modelo a evalución\n",
        "        val_running_loss = 0.0\n",
        "        val_correct = 0\n",
        "        val_total = 0\n",
        "        with torch.no_grad():  # Desabilitar gradientes para validación.\n",
        "            for inputs, labels in test_loader:\n",
        "                inputs, labels = inputs.to(device), labels.to(device)\n",
        "\n",
        "                outputs = model(inputs)\n",
        "                loss = criterion(outputs, labels)\n",
        "                val_running_loss += loss.item()\n",
        "\n",
        "                _, predicted = outputs.max(1)\n",
        "                val_total += labels.size(0)\n",
        "                val_correct += predicted.eq(labels).sum().item()\n",
        "\n",
        "        val_loss = val_running_loss / len(test_loader)\n",
        "        val_accuracy = 100 * val_correct / val_total\n",
        "        if val_accuracy > best_val_accuracy:\n",
        "          best_val_accuracy = val_accuracy\n",
        "          torch.save(model.state_dict(), save_model)\n",
        "\n",
        "\n",
        "        print(f\"Epoch {epoch+1}/{epochs}, \"\n",
        "              f\"Train Loss: {train_loss:.4f}, Train Accuracy: {train_accuracy:.2f}%, \"\n",
        "              f\"Val Loss: {val_loss:.4f}, Val Accuracy: {val_accuracy:.2f}%\")\n",
        "\n",
        "def testing_model_with_subset(model, saved_model):\n",
        "  #Cargar los mejores parámetros de validación.\n",
        "  model.load_state_dict(torch.load(saved_model))\n",
        "  correct = 0\n",
        "  total = 0\n",
        "\n",
        "  model.eval()\n",
        "  # debido a que no estamos entrenando, no necesitamos calcular los gradientes para las salidas\n",
        "  with torch.no_grad():\n",
        "      for images,labels in test_loader:\n",
        "          images, labels = images.to(device), labels.to(device)\n",
        "          # calcular outputs corriendo imagenes en la red\n",
        "          outputs = model(images)\n",
        "          # La clase con mayor valor es la que escogemos como salida\n",
        "          _, predicted = torch.max(outputs.data, 1)\n",
        "          total += labels.size(0)\n",
        "          correct += (predicted == labels).sum().item()\n",
        "\n",
        "  print(f'Accuracy de la red en las imagenes de test: {100 * correct / total:.2f} %')"
      ],
      "metadata": {
        "id": "L4VKwucLYEVf"
      },
      "execution_count": 63,
      "outputs": []
    },
    {
      "cell_type": "markdown",
      "source": [
        "### Carga de datos y utilización de transformers para las Proof of Concept.\n",
        "\n",
        "Se carga un **20%** de los datos para realizar las tres **proof of concept** con los diferentes modelos que se van a plantear, se utiliza una semilla para asegurar la repetibilidad de los experimentos.\n",
        "\n",
        "Se utiliza el módulo de **transforms** para aplicar transformaciones a las imágenes de entrada, en el caso de los datos de entrenamiento para las PoC se aplican técnicas de **Data Augmentation** cómo normalización, en este caso para no introducir más aleatoridad a las pruebas no se tienen inversiones o rotaciones, para el entrenamiento del modelo escogido a partir de las pruebas si se utilizarán estas técnicas.\n",
        "\n",
        "Al utilizar un conjunto reducido de datos para las PoC se utiliza el DataLoader con un tamaño de **batch de 8** para ambos datasets."
      ],
      "metadata": {
        "id": "sRZWeO_PPIFr"
      }
    },
    {
      "cell_type": "code",
      "source": [
        "train_data_transforms = transforms.Compose([\n",
        "    transforms.Resize((128, 128)),  # Redimensionar a 128x128\n",
        "    transforms.Grayscale(num_output_channels=1),  # Convertir a escala de grises\n",
        "    transforms.ToTensor(),  # Convertir a tensor\n",
        "    transforms.Normalize(mean=[0.5], std=[0.5])  # Normalización\n",
        "])\n",
        "\n",
        "\n",
        "test_data_transforms = transforms.Compose([\n",
        "    transforms.Resize((128, 128)),  # Redimensionar a 128x128\n",
        "    transforms.Grayscale(num_output_channels=1),  # Convertir a escala de grises\n",
        "    transforms.ToTensor(),   # Convertir a tensor\n",
        "    transforms.Normalize(mean=[0.5], std=[0.5])  # Normalización\n",
        "])\n",
        "\n",
        "\n",
        "# Definir las rutas a las carpetas\n",
        "train_dir = './drive/MyDrive/Covid19-dataset/train'\n",
        "test_dir = './drive/MyDrive/Covid19-dataset/test'\n",
        "\n",
        "train_dataset = datasets.ImageFolder(root=train_dir, transform=train_data_transforms)\n",
        "test_dataset = datasets.ImageFolder(root=test_dir, transform=test_data_transforms)\n",
        "\n",
        "# Definir el tamaño del subconjunto que quieres usar\n",
        "subset_size = 0.2  # Por ejemplo, usar el 20% de los datos\n",
        "\n",
        "# Obtener los índices aleatorios para el subconjunto del conjunto de entrenamiento\n",
        "np.random.seed(42)\n",
        "train_size = len(train_dataset)\n",
        "indices = list(range(train_size))\n",
        "np.random.shuffle(indices)  # Mezclar los índices\n",
        "\n",
        "subset_indices = indices[:int(subset_size * train_size)]  # Obtener el subconjunto\n",
        "\n",
        "# Crear un SubsetRandomSampler con los índices seleccionados\n",
        "train_sampler = SubsetRandomSampler(subset_indices)\n",
        "\n",
        "# Obtener los índices aleatorios para el subconjunto del conjunto de testing\n",
        "test_size = len(test_dataset)\n",
        "indices_test = list(range(test_size))\n",
        "np.random.shuffle(indices_test)  # Mezclar los índices\n",
        "\n",
        "subset_indices_test = indices_test[:int(subset_size * test_size)]  # Obtener el subconjunto\n",
        "\n",
        "# Crear un SubsetRandomSampler con los índices seleccionados\n",
        "test_sampler = SubsetRandomSampler(subset_indices_test)\n",
        "\n",
        "# Definir DataLoader para el conjunto de entrenamiento con el subconjunto de datos\n",
        "train_loader = DataLoader(train_dataset, batch_size=8, sampler=train_sampler)\n",
        "\n",
        "# También puedes crear un DataLoader para el conjunto de prueba completo\n",
        "test_loader = DataLoader(test_dataset, batch_size=8, sampler=test_sampler)"
      ],
      "metadata": {
        "id": "EUMldrBMPDmV"
      },
      "execution_count": 64,
      "outputs": []
    },
    {
      "cell_type": "markdown",
      "source": [
        "El siguiente código muestra el mapeo de clases a índices que realizar pytorch; algunas de las imágenes presentes en el data loader de testing, además de la **etiqueta** que corresponde a cada una de ellas, para tener una idea de los datos."
      ],
      "metadata": {
        "id": "Fo11k-ACXQth"
      }
    },
    {
      "cell_type": "code",
      "source": [
        "classes = ('Covid', 'Normal','Viral Pneumonia')\n",
        "\n",
        "print(f\"Cantidad de test samples: {len(test_loader.dataset)}\")\n",
        "\n",
        "#Para ver com se asignan las etiquetas a cada clase en el set de training\n",
        "print(train_dataset.class_to_idx)\n",
        "#Lo mismo pero para el set de testing\n",
        "print(test_dataset.class_to_idx)\n",
        "\n",
        "dataiter = iter(test_loader)\n",
        "images, labels = next(dataiter)\n",
        "\n",
        "print(labels)\n",
        "\n",
        "def imshow(img):\n",
        "    # Desnormalizar: (img * std) + mean\n",
        "    img = img * 0.5 + 0.5  # Desnormalizar usando mean=0.5 y std=0.5\n",
        "    npimg = img.numpy()\n",
        "    plt.imshow(np.transpose(npimg, (1, 2, 0)), cmap='gray')  # Añadir cmap si es necesario\n",
        "    plt.show()\n",
        "\n",
        "imshow(torchvision.utils.make_grid(images))\n",
        "\n",
        "print('GroundTruth')\n",
        "for j in range(8):\n",
        "    print(f'{classes[labels[j]]:5s}')"
      ],
      "metadata": {
        "id": "9-zD8EsgiFT9",
        "colab": {
          "base_uri": "https://localhost:8080/",
          "height": 354
        },
        "outputId": "a4f5cbe6-87b7-4b87-9eb2-c4df05a79655"
      },
      "execution_count": 65,
      "outputs": [
        {
          "output_type": "stream",
          "name": "stdout",
          "text": [
            "Cantidad de test samples: 66\n",
            "{'Covid': 0, 'Normal': 1, 'Viral Pneumonia': 2}\n",
            "{'Covid': 0, 'Normal': 1, 'Viral Pneumonia': 2}\n",
            "tensor([0, 2, 0, 1, 2, 2, 1, 1])\n"
          ]
        },
        {
          "output_type": "display_data",
          "data": {
            "text/plain": [
              "<Figure size 640x480 with 1 Axes>"
            ],
            "image/png": "[encoded data removed]"
          },
          "metadata": {}
        },
        {
          "output_type": "stream",
          "name": "stdout",
          "text": [
            "GroundTruth\n",
            "Covid\n",
            "Viral Pneumonia\n",
            "Covid\n",
            "Normal\n",
            "Viral Pneumonia\n",
            "Viral Pneumonia\n",
            "Normal\n",
            "Normal\n"
          ]
        }
      ]
    },
    {
      "cell_type": "markdown",
      "metadata": {
        "id": "4s3Y5hHrvgzp"
      },
      "source": [
        "## Propuesta de modelo 1\n",
        "\n",
        "Para la propuesta #1 del modelo B tenemos la siguiente arquitectura:\n",
        "\n",
        "- La primera capa es una capa de convolución de dos dimensiones que recibe la imágen de 1 canal (en escala de grises), aplica 64 filtros con tamaño de kernel 3 y padding de 1, lo que da como resultado la salida de 128x128x64.\n",
        "\n",
        "- La segunda capa aplica max pooling con un kernel de 2 y stride de 2, lo que produce una salida de 64x64x64.\n",
        "\n",
        "- Seguido de esto se tiene el módulo de Inception, que aplica varias operaciones de convolución y pooling en paralelo, lo que permite que el modelo aprenda mejor las características a diferentes niveles de complejidad. Cuenta con 4 ramas, en las que se aplican diversos tamaños de kernels y la salida de las ramas es de 64x64x128. Todas estas se concatenan y su salida es de 64x64x512.\n",
        "\n",
        "- Después se vuelve a aplicar max pooling con kernel de 2 y stride de 2, lo que da cómo resultado una salida de 32x32x512, se hace el flatten de la misma y esta es la entrada de la primera capa fully connected.\n",
        "\n",
        "- La capa primer capa fully connected  produce 128 canales de salida. La última capa tiene 128 canales de entrada y 3 de salida correspondientes a las tres categorías de imagenes.\n",
        "\n",
        "**Se utiliza reLU cómo función de activación para las capas convolucionales y la primera capa fully connected**"
      ]
    },
    {
      "cell_type": "code",
      "execution_count": 66,
      "metadata": {
        "id": "jTjOohHDvb_Z"
      },
      "outputs": [],
      "source": [
        "class InceptionModuleOne(nn.Module):\n",
        "  def __init__(self, chanels):\n",
        "    super(InceptionModuleOne, self).__init__()\n",
        "\n",
        "    self.branch1 = nn.Conv2d(chanels, 128, kernel_size=1)\n",
        "\n",
        "    self.branch2 = nn.Sequential(\n",
        "        nn.Conv2d(chanels, 128, kernel_size=1),\n",
        "        nn.ReLU(),\n",
        "        nn.Conv2d(128, 128, kernel_size=3, padding=1),\n",
        "        nn.ReLU()\n",
        "    )\n",
        "\n",
        "    self.branch3 = nn.Sequential(\n",
        "        nn.Conv2d(chanels, 128, kernel_size=1),\n",
        "        nn.ReLU(),\n",
        "        nn.Conv2d(128, 128, kernel_size=5, padding=2),\n",
        "        nn.ReLU(),\n",
        "    )\n",
        "\n",
        "    self.branch4 = nn.Sequential(\n",
        "        nn.MaxPool2d(kernel_size=3, stride=1, padding=1),\n",
        "        nn.Conv2d(chanels, 128, kernel_size=1),\n",
        "        nn.ReLU(),\n",
        "    )\n",
        "\n",
        "  def forward(self,x):\n",
        "    branch1 = F.relu(self.branch1(x))\n",
        "    branch2 = self.branch2(x)\n",
        "    branch3 = self.branch3(x)\n",
        "    branch4 = self.branch4(x)\n",
        "    return torch.cat([branch1, branch2, branch3, branch4],1)\n",
        "\n",
        "\n",
        "class CNNModelBOne(nn.Module):\n",
        "  def __init__(self):\n",
        "    super(CNNModelBOne, self).__init__()\n",
        "    self.conv1 = nn.Conv2d(1, 64, kernel_size=3, padding=1)\n",
        "    self.pool = nn.MaxPool2d(kernel_size=2, stride=2)\n",
        "    self.inception = InceptionModuleOne(64)\n",
        "    self.dropout = nn.Dropout(0.2)\n",
        "    self.fc1 = nn.Linear(512 *32 *32, 128)\n",
        "    self.fc2 = nn.Linear(128 , 3)\n",
        "\n",
        "  def forward(self,x):\n",
        "    x = F.relu(self.conv1(x))\n",
        "    x = self.pool(x)\n",
        "    x = self.inception(x)\n",
        "    x = self.pool(x)\n",
        "    x = self.dropout(x)\n",
        "    x = torch.flatten(x,1)\n",
        "    x = F.relu(self.fc1(x))\n",
        "    x = self.fc2(x)\n",
        "    return x\n",
        "\n"
      ]
    },
    {
      "cell_type": "markdown",
      "metadata": {
        "id": "12nJbPdVFopw"
      },
      "source": [
        "### Proof of Concept Modelo 1"
      ]
    },
    {
      "cell_type": "markdown",
      "source": [
        "Se procede a realizar la prueba de concepto con el primer modelo planteado. Se visualiza el accuracy del conjunto de entrenamiento y validación por cada epoch. En este caso se realizan **50 epochs**. Se va a guardar el modelo cuando presente un mejor accuracy al al anterior.\n",
        "\n",
        "Para el optimizador se utiliza el Stochastic Gradient Descent que nos facilita el módulo **optim**, además cómo función de pérdida se utiliza **Cross Entropy Loss**.\n",
        "\n",
        "Además se define una función para el entrenamiento con los subsets"
      ],
      "metadata": {
        "id": "lXETmFr1ndhr"
      }
    },
    {
      "cell_type": "code",
      "execution_count": 67,
      "metadata": {
        "colab": {
          "base_uri": "https://localhost:8080/"
        },
        "id": "hdbfJ79pFqrz",
        "outputId": "561b8a24-315b-4bb7-be36-aa7f9e862745"
      },
      "outputs": [
        {
          "output_type": "stream",
          "name": "stdout",
          "text": [
            "Epoch 1/50, Train Loss: 1.0779, Train Accuracy: 42.00%, Val Loss: 1.0684, Val Accuracy: 23.08%\n",
            "Epoch 2/50, Train Loss: 0.8191, Train Accuracy: 72.00%, Val Loss: 0.9055, Val Accuracy: 46.15%\n",
            "Epoch 3/50, Train Loss: 0.5181, Train Accuracy: 88.00%, Val Loss: 0.8242, Val Accuracy: 69.23%\n",
            "Epoch 4/50, Train Loss: 0.4428, Train Accuracy: 86.00%, Val Loss: 0.7515, Val Accuracy: 46.15%\n",
            "Epoch 5/50, Train Loss: 0.4274, Train Accuracy: 92.00%, Val Loss: 0.8638, Val Accuracy: 53.85%\n",
            "Epoch 6/50, Train Loss: 0.4233, Train Accuracy: 82.00%, Val Loss: 0.7162, Val Accuracy: 76.92%\n",
            "Epoch 7/50, Train Loss: 0.4078, Train Accuracy: 74.00%, Val Loss: 0.6548, Val Accuracy: 69.23%\n",
            "Epoch 8/50, Train Loss: 0.1750, Train Accuracy: 92.00%, Val Loss: 1.3763, Val Accuracy: 46.15%\n",
            "Epoch 9/50, Train Loss: 0.1598, Train Accuracy: 96.00%, Val Loss: 0.7403, Val Accuracy: 61.54%\n",
            "Epoch 10/50, Train Loss: 0.1451, Train Accuracy: 96.00%, Val Loss: 0.7095, Val Accuracy: 76.92%\n",
            "Epoch 11/50, Train Loss: 0.1190, Train Accuracy: 98.00%, Val Loss: 1.1936, Val Accuracy: 53.85%\n",
            "Epoch 12/50, Train Loss: 0.1225, Train Accuracy: 96.00%, Val Loss: 1.0916, Val Accuracy: 53.85%\n",
            "Epoch 13/50, Train Loss: 0.0894, Train Accuracy: 96.00%, Val Loss: 0.7561, Val Accuracy: 84.62%\n",
            "Epoch 14/50, Train Loss: 0.0779, Train Accuracy: 98.00%, Val Loss: 0.8016, Val Accuracy: 53.85%\n",
            "Epoch 15/50, Train Loss: 0.0633, Train Accuracy: 98.00%, Val Loss: 0.9386, Val Accuracy: 53.85%\n",
            "Epoch 16/50, Train Loss: 0.0623, Train Accuracy: 98.00%, Val Loss: 0.9863, Val Accuracy: 53.85%\n",
            "Epoch 17/50, Train Loss: 0.0570, Train Accuracy: 98.00%, Val Loss: 0.9987, Val Accuracy: 61.54%\n",
            "Epoch 18/50, Train Loss: 0.0441, Train Accuracy: 100.00%, Val Loss: 0.9606, Val Accuracy: 61.54%\n",
            "Epoch 19/50, Train Loss: 0.0410, Train Accuracy: 100.00%, Val Loss: 0.7554, Val Accuracy: 53.85%\n",
            "Epoch 20/50, Train Loss: 0.0461, Train Accuracy: 100.00%, Val Loss: 1.0188, Val Accuracy: 61.54%\n",
            "Epoch 21/50, Train Loss: 0.0297, Train Accuracy: 100.00%, Val Loss: 0.9946, Val Accuracy: 53.85%\n",
            "Epoch 22/50, Train Loss: 0.0545, Train Accuracy: 100.00%, Val Loss: 1.1180, Val Accuracy: 53.85%\n",
            "Epoch 23/50, Train Loss: 0.0378, Train Accuracy: 100.00%, Val Loss: 1.0057, Val Accuracy: 53.85%\n",
            "Epoch 24/50, Train Loss: 0.0475, Train Accuracy: 100.00%, Val Loss: 0.8797, Val Accuracy: 69.23%\n",
            "Epoch 25/50, Train Loss: 0.0240, Train Accuracy: 100.00%, Val Loss: 0.8894, Val Accuracy: 69.23%\n",
            "Epoch 26/50, Train Loss: 0.0369, Train Accuracy: 100.00%, Val Loss: 0.9544, Val Accuracy: 69.23%\n",
            "Epoch 27/50, Train Loss: 0.0323, Train Accuracy: 100.00%, Val Loss: 0.7832, Val Accuracy: 84.62%\n",
            "Epoch 28/50, Train Loss: 0.0177, Train Accuracy: 100.00%, Val Loss: 1.3122, Val Accuracy: 53.85%\n",
            "Epoch 29/50, Train Loss: 0.0233, Train Accuracy: 100.00%, Val Loss: 0.8402, Val Accuracy: 61.54%\n",
            "Epoch 30/50, Train Loss: 0.0163, Train Accuracy: 100.00%, Val Loss: 1.0389, Val Accuracy: 84.62%\n",
            "Epoch 31/50, Train Loss: 0.0186, Train Accuracy: 100.00%, Val Loss: 1.2220, Val Accuracy: 61.54%\n",
            "Epoch 32/50, Train Loss: 0.0212, Train Accuracy: 100.00%, Val Loss: 1.0664, Val Accuracy: 61.54%\n",
            "Epoch 33/50, Train Loss: 0.0145, Train Accuracy: 100.00%, Val Loss: 0.7147, Val Accuracy: 84.62%\n",
            "Epoch 34/50, Train Loss: 0.0153, Train Accuracy: 100.00%, Val Loss: 0.8354, Val Accuracy: 69.23%\n",
            "Epoch 35/50, Train Loss: 0.0110, Train Accuracy: 100.00%, Val Loss: 1.1015, Val Accuracy: 53.85%\n",
            "Epoch 36/50, Train Loss: 0.0124, Train Accuracy: 100.00%, Val Loss: 0.9503, Val Accuracy: 69.23%\n",
            "Epoch 37/50, Train Loss: 0.0101, Train Accuracy: 100.00%, Val Loss: 1.0992, Val Accuracy: 69.23%\n",
            "Epoch 38/50, Train Loss: 0.0084, Train Accuracy: 100.00%, Val Loss: 0.9899, Val Accuracy: 61.54%\n",
            "Epoch 39/50, Train Loss: 0.0078, Train Accuracy: 100.00%, Val Loss: 1.1605, Val Accuracy: 61.54%\n",
            "Epoch 40/50, Train Loss: 0.0126, Train Accuracy: 100.00%, Val Loss: 1.2191, Val Accuracy: 69.23%\n",
            "Epoch 41/50, Train Loss: 0.0086, Train Accuracy: 100.00%, Val Loss: 1.2810, Val Accuracy: 61.54%\n",
            "Epoch 42/50, Train Loss: 0.0078, Train Accuracy: 100.00%, Val Loss: 1.1988, Val Accuracy: 69.23%\n",
            "Epoch 43/50, Train Loss: 0.0101, Train Accuracy: 100.00%, Val Loss: 1.1371, Val Accuracy: 69.23%\n",
            "Epoch 44/50, Train Loss: 0.0077, Train Accuracy: 100.00%, Val Loss: 1.1538, Val Accuracy: 53.85%\n",
            "Epoch 45/50, Train Loss: 0.0065, Train Accuracy: 100.00%, Val Loss: 1.2543, Val Accuracy: 61.54%\n",
            "Epoch 46/50, Train Loss: 0.0069, Train Accuracy: 100.00%, Val Loss: 1.1433, Val Accuracy: 69.23%\n",
            "Epoch 47/50, Train Loss: 0.0055, Train Accuracy: 100.00%, Val Loss: 1.0490, Val Accuracy: 69.23%\n",
            "Epoch 48/50, Train Loss: 0.0058, Train Accuracy: 100.00%, Val Loss: 1.0224, Val Accuracy: 69.23%\n",
            "Epoch 49/50, Train Loss: 0.0047, Train Accuracy: 100.00%, Val Loss: 1.0634, Val Accuracy: 61.54%\n",
            "Epoch 50/50, Train Loss: 0.0052, Train Accuracy: 100.00%, Val Loss: 1.0610, Val Accuracy: 61.54%\n"
          ]
        }
      ],
      "source": [
        "model = CNNModelBOne()\n",
        "model.to(device)\n",
        "\n",
        "criterion = nn.CrossEntropyLoss()\n",
        "optimizer = optim.SGD(model.parameters(), lr=0.001, momentum=0.9)\n",
        "\n",
        "# Entrenar el modelo con validación.\n",
        "train_model_with_subset(model, train_loader, test_loader, criterion, optimizer, epochs=50, save_model=\"best_parameters_poc_one.pth\")\n"
      ]
    },
    {
      "cell_type": "markdown",
      "source": [
        "### Resultados de la prueba con la propuesta de modelo 1\n",
        "\n",
        "En este caso, los resultados con el modelo 1 nos dan un 84% de accuracy con los datos de prueba, lo cual es un buen porcentaje para la pequeña cantidad de datos de entrenamiento que se le han dado."
      ],
      "metadata": {
        "id": "kcONzEZ_U6NQ"
      }
    },
    {
      "cell_type": "code",
      "execution_count": 68,
      "metadata": {
        "colab": {
          "base_uri": "https://localhost:8080/"
        },
        "id": "YFhx9k6n5Erh",
        "outputId": "d369f352-02a1-4612-b301-9a64620fbe22"
      },
      "outputs": [
        {
          "output_type": "stream",
          "name": "stderr",
          "text": [
            "<ipython-input-63-736d6254307b>:58: FutureWarning: You are using `torch.load` with `weights_only=False` (the current default value), which uses the default pickle module implicitly. It is possible to construct malicious pickle data which will execute arbitrary code during unpickling (See https://github.com/pytorch/pytorch/blob/main/SECURITY.md#untrusted-models for more details). In a future release, the default value for `weights_only` will be flipped to `True`. This limits the functions that could be executed during unpickling. Arbitrary objects will no longer be allowed to be loaded via this mode unless they are explicitly allowlisted by the user via `torch.serialization.add_safe_globals`. We recommend you start setting `weights_only=True` for any use case where you don't have full control of the loaded file. Please open an issue on GitHub for any issues related to this experimental feature.\n",
            "  model.load_state_dict(torch.load(saved_model))\n"
          ]
        },
        {
          "output_type": "stream",
          "name": "stdout",
          "text": [
            "Accuracy de la red en las imagenes de test: 84.62 %\n"
          ]
        }
      ],
      "source": [
        "testing_model_with_subset(model, 'best_parameters_poc_one.pth' )"
      ]
    },
    {
      "cell_type": "markdown",
      "metadata": {
        "id": "N2rOd8cn7XdD"
      },
      "source": [
        "## Propuesta de modelo 2"
      ]
    },
    {
      "cell_type": "markdown",
      "source": [
        "Esta es la segunda propuesta de modelo B. Esta arquitectura de modelo es más compleja que la anterior, se aplican otras técnicas de normalización que ayuden al modelo a generalizar mejor los datos, en este se incluye un único módulo de Inception, además de varias capas de convolución, max pooling y dropout. Además se utiliza Batch Normalization, la cual es una técnica para normalizar las activaciones en capas intermedias de redes neuronales profundas, además ha demostrado mejorar el accuracy y acelerar el proceso de entrenamiento. (Bjork et al, 2018).\n",
        "\n",
        "\n",
        "- En primer lugar se tiene una capa de convolución en el que se aplican 32 filtros, con un kernel de 3x3 y padding de 1, su salida es de 128x128x32.\n",
        "\n",
        "- La segunda capa de convolución aplica 64 filtros con un kernel de 3 y padding de 1, su salida es de 128x128x64.\n",
        "\n",
        "- Seguido se aplica max pooling con kernel de 2 y stride de 2, la salida es de 64x64x64.\n",
        "\n",
        "- Luego se aplica el 1er dropout con una probabilidad de 0.2.\n",
        "\n",
        "- Seguido de esto se tiene el módulo de Inception, que aplica varias operaciones de convolución y pooling en paralelo. Cuenta con 4 ramas, la primera produce 32 feature maps, la segunda 64, la tercera 64 y la cuarta 32, se concatenan y dan como salida 64x64x192.\n",
        "\n",
        "- La tercera convolución produce una salida de 64x64x128.\n",
        "\n",
        "- Luego se aplica de nuevo max pooling lo que reduce las dimensiones a 32x32x128.\n",
        "\n",
        "- Seguido, se aplica la cuarta convolución, que produce como salida 32x32x256.\n",
        "\n",
        "-Se aplica después el segundo dropout con una probabilidad de 0.25.\n",
        "\n",
        "- Se hace el flatten, la primera fully connected produce 512 salidas, la segunda, la segunda produce 128 y la tercera produce 3 salidas correspondientes con las categorías de imágenes.\n",
        "\n",
        "\n",
        "**Se aplica la función de activación reLU en las capas convolucionales y fully connected.**\n",
        "\n",
        "**Después de cada convolución se aplica la función BatchNorm2d.**"
      ],
      "metadata": {
        "id": "-nXqr5lpqtaY"
      }
    },
    {
      "cell_type": "code",
      "source": [
        "class InceptionModuleTwo(nn.Module):\n",
        "  def __init__(self, chanels):\n",
        "    super(InceptionModuleTwo, self).__init__()\n",
        "\n",
        "    self.branch1 = nn.Sequential(\n",
        "        nn.Conv2d(chanels, 32, kernel_size=1),\n",
        "        nn.BatchNorm2d(32),\n",
        "        nn.ReLU()\n",
        "    )\n",
        "\n",
        "    self.branch2 = nn.Sequential(\n",
        "        nn.Conv2d(chanels, 32, kernel_size=1),\n",
        "        nn.BatchNorm2d(32),\n",
        "        nn.ReLU(),\n",
        "        nn.Conv2d(32, 64, kernel_size=3, padding=1),\n",
        "        nn.BatchNorm2d(64),\n",
        "        nn.ReLU()\n",
        "    )\n",
        "\n",
        "    self.branch3 = nn.Sequential(\n",
        "        nn.Conv2d(chanels, 32, kernel_size=1),\n",
        "        nn.BatchNorm2d(32),\n",
        "        nn.ReLU(),\n",
        "        nn.Conv2d(32, 64, kernel_size=5, padding=2),\n",
        "        nn.BatchNorm2d(64),\n",
        "        nn.ReLU(),\n",
        "    )\n",
        "\n",
        "    self.branch4 = nn.Sequential(\n",
        "        nn.MaxPool2d(kernel_size=3, stride=1, padding=1),\n",
        "        nn.Conv2d(chanels, 32, kernel_size=1),\n",
        "        nn.BatchNorm2d(32),\n",
        "        nn.ReLU(),\n",
        "    )\n",
        "\n",
        "  def forward(self,x):\n",
        "    branch1 = self.branch1(x)\n",
        "    branch2 = self.branch2(x)\n",
        "    branch3 = self.branch3(x)\n",
        "    branch4 = self.branch4(x)\n",
        "    return torch.cat([branch1, branch2, branch3, branch4],1)\n",
        "\n",
        "\n",
        "class CNNModelBTwo(nn.Module):\n",
        "    def __init__(self):\n",
        "        super(CNNModelBTwo, self).__init__()\n",
        "\n",
        "        self.conv1 = nn.Sequential(\n",
        "            nn.Conv2d(1, 32, kernel_size=3, padding=1),\n",
        "            nn.BatchNorm2d(32),\n",
        "            nn.ReLU()\n",
        "        )\n",
        "\n",
        "        self.conv2 = nn.Sequential(\n",
        "            nn.Conv2d(32, 64, kernel_size=3, padding=1),\n",
        "            nn.BatchNorm2d(64),\n",
        "            nn.ReLU()\n",
        "        )\n",
        "\n",
        "        self.pool = nn.MaxPool2d(kernel_size=2, stride=2)\n",
        "        self.dropout1 = nn.Dropout(0.2)\n",
        "\n",
        "        self.inception = InceptionModuleTwo(64)\n",
        "\n",
        "        self.conv3 = nn.Sequential(\n",
        "            nn.Conv2d(192, 128, kernel_size=3, padding=1),\n",
        "            nn.BatchNorm2d(128),\n",
        "            nn.ReLU()\n",
        "        )\n",
        "\n",
        "        self.conv4 = nn.Sequential(\n",
        "            nn.Conv2d(128, 256, kernel_size=3, padding=1),\n",
        "            nn.BatchNorm2d(256),\n",
        "            nn.ReLU()\n",
        "        )\n",
        "\n",
        "        self.dropout2 = nn.Dropout(0.25)\n",
        "\n",
        "        self.fc1 = nn.Linear(32 * 32 * 256, 512)\n",
        "        self.dropout_fc = nn.Dropout(0.4)\n",
        "        self.fc2 = nn.Linear(512, 128)\n",
        "        self.fc3 = nn.Linear(128, 3)\n",
        "\n",
        "    def forward(self, x):\n",
        "        x = self.conv1(x)\n",
        "        x = self.pool(self.conv2(x))\n",
        "        x = self.dropout1(x)\n",
        "        x = self.inception(x)\n",
        "        x = self.pool(self.conv3(x))\n",
        "        x = self.conv4(x)\n",
        "        x = self.dropout2(x)\n",
        "        x = torch.flatten(x, 1)\n",
        "        x = F.relu(self.fc1(x))\n",
        "        x = F.relu(self.fc2(x))\n",
        "        x = self.fc3(x)\n",
        "        return x\n",
        "\n"
      ],
      "metadata": {
        "id": "cEGxrHc3NU1J"
      },
      "execution_count": 69,
      "outputs": []
    },
    {
      "cell_type": "markdown",
      "source": [
        "#### Proof of Concept modelo 2\n",
        "\n",
        "\n",
        "Se procede a realizar la prueba de concepto con el primer modelo planteado. Se visualiza el accuracy del conjunto de entrenamiento y validación por cada epoch. En este caso se realizan **50 epochs**.\n",
        "\n",
        "Para el optimizador se utiliza el **Adam** que nos facilita el módulo **optim** en este caso, este nos puede ayudar a converger más rápido , además cómo función de pérdida se utiliza **Cross Entropy Loss**."
      ],
      "metadata": {
        "id": "l_SCzPYouRoR"
      }
    },
    {
      "cell_type": "code",
      "source": [
        "\n",
        "model = CNNModelBTwo()\n",
        "model.to(device)\n",
        "\n",
        "criterion = nn.CrossEntropyLoss()\n",
        "optimizer = optim.Adam(model.parameters(), lr=0.001)\n",
        "\n",
        "#Utilizamos la función previamente definida.\n",
        "train_model_with_subset(model, train_loader, test_loader, criterion, optimizer, epochs=50, save_model=\"best_parameters_poc_two.pth\")"
      ],
      "metadata": {
        "colab": {
          "base_uri": "https://localhost:8080/"
        },
        "id": "Ej-Q5nuRS6Qb",
        "outputId": "7a922c42-6c03-4906-f134-50bd0d7cf898"
      },
      "execution_count": 70,
      "outputs": [
        {
          "output_type": "stream",
          "name": "stdout",
          "text": [
            "Epoch 1/50, Train Loss: 16.9223, Train Accuracy: 48.00%, Val Loss: 49.3682, Val Accuracy: 23.08%\n",
            "Epoch 2/50, Train Loss: 2.7694, Train Accuracy: 68.00%, Val Loss: 105.1802, Val Accuracy: 23.08%\n",
            "Epoch 3/50, Train Loss: 2.5712, Train Accuracy: 82.00%, Val Loss: 74.3286, Val Accuracy: 23.08%\n",
            "Epoch 4/50, Train Loss: 1.4493, Train Accuracy: 84.00%, Val Loss: 8.5751, Val Accuracy: 30.77%\n",
            "Epoch 5/50, Train Loss: 0.6206, Train Accuracy: 94.00%, Val Loss: 14.1602, Val Accuracy: 23.08%\n",
            "Epoch 6/50, Train Loss: 0.0604, Train Accuracy: 96.00%, Val Loss: 6.5993, Val Accuracy: 38.46%\n",
            "Epoch 7/50, Train Loss: 0.1920, Train Accuracy: 96.00%, Val Loss: 3.5634, Val Accuracy: 61.54%\n",
            "Epoch 8/50, Train Loss: 0.0383, Train Accuracy: 96.00%, Val Loss: 3.0959, Val Accuracy: 46.15%\n",
            "Epoch 9/50, Train Loss: 0.0365, Train Accuracy: 98.00%, Val Loss: 2.3511, Val Accuracy: 53.85%\n",
            "Epoch 10/50, Train Loss: 1.1353, Train Accuracy: 98.00%, Val Loss: 0.5627, Val Accuracy: 84.62%\n",
            "Epoch 11/50, Train Loss: 1.3912, Train Accuracy: 82.00%, Val Loss: 8.6912, Val Accuracy: 53.85%\n",
            "Epoch 12/50, Train Loss: 1.3032, Train Accuracy: 82.00%, Val Loss: 10.2630, Val Accuracy: 53.85%\n",
            "Epoch 13/50, Train Loss: 2.0822, Train Accuracy: 84.00%, Val Loss: 4.7987, Val Accuracy: 69.23%\n",
            "Epoch 14/50, Train Loss: 0.3289, Train Accuracy: 92.00%, Val Loss: 4.2932, Val Accuracy: 76.92%\n",
            "Epoch 15/50, Train Loss: 0.0425, Train Accuracy: 98.00%, Val Loss: 2.5310, Val Accuracy: 76.92%\n",
            "Epoch 16/50, Train Loss: 0.0458, Train Accuracy: 100.00%, Val Loss: 3.3782, Val Accuracy: 76.92%\n",
            "Epoch 17/50, Train Loss: 0.1895, Train Accuracy: 96.00%, Val Loss: 4.1384, Val Accuracy: 69.23%\n",
            "Epoch 18/50, Train Loss: 0.0133, Train Accuracy: 98.00%, Val Loss: 0.9876, Val Accuracy: 84.62%\n",
            "Epoch 19/50, Train Loss: 0.0007, Train Accuracy: 100.00%, Val Loss: 0.9593, Val Accuracy: 76.92%\n",
            "Epoch 20/50, Train Loss: 0.0044, Train Accuracy: 100.00%, Val Loss: 0.8800, Val Accuracy: 76.92%\n",
            "Epoch 21/50, Train Loss: 0.0039, Train Accuracy: 100.00%, Val Loss: 1.2065, Val Accuracy: 84.62%\n",
            "Epoch 22/50, Train Loss: 0.0006, Train Accuracy: 100.00%, Val Loss: 1.0520, Val Accuracy: 84.62%\n",
            "Epoch 23/50, Train Loss: 0.0001, Train Accuracy: 100.00%, Val Loss: 0.9727, Val Accuracy: 84.62%\n",
            "Epoch 24/50, Train Loss: 0.0000, Train Accuracy: 100.00%, Val Loss: 0.7243, Val Accuracy: 84.62%\n",
            "Epoch 25/50, Train Loss: 0.0001, Train Accuracy: 100.00%, Val Loss: 0.6781, Val Accuracy: 84.62%\n",
            "Epoch 26/50, Train Loss: 0.0002, Train Accuracy: 100.00%, Val Loss: 0.8298, Val Accuracy: 84.62%\n",
            "Epoch 27/50, Train Loss: 0.0002, Train Accuracy: 100.00%, Val Loss: 0.6646, Val Accuracy: 84.62%\n",
            "Epoch 28/50, Train Loss: 0.0001, Train Accuracy: 100.00%, Val Loss: 0.7431, Val Accuracy: 84.62%\n",
            "Epoch 29/50, Train Loss: 0.0002, Train Accuracy: 100.00%, Val Loss: 0.8116, Val Accuracy: 84.62%\n",
            "Epoch 30/50, Train Loss: 0.0000, Train Accuracy: 100.00%, Val Loss: 1.3966, Val Accuracy: 92.31%\n",
            "Epoch 31/50, Train Loss: 0.0000, Train Accuracy: 100.00%, Val Loss: 0.7866, Val Accuracy: 84.62%\n",
            "Epoch 32/50, Train Loss: 0.0002, Train Accuracy: 100.00%, Val Loss: 0.8316, Val Accuracy: 84.62%\n",
            "Epoch 33/50, Train Loss: 0.0000, Train Accuracy: 100.00%, Val Loss: 0.6381, Val Accuracy: 84.62%\n",
            "Epoch 34/50, Train Loss: 0.0000, Train Accuracy: 100.00%, Val Loss: 0.5975, Val Accuracy: 84.62%\n",
            "Epoch 35/50, Train Loss: 0.0000, Train Accuracy: 100.00%, Val Loss: 0.9636, Val Accuracy: 84.62%\n",
            "Epoch 36/50, Train Loss: 0.0001, Train Accuracy: 100.00%, Val Loss: 0.7163, Val Accuracy: 84.62%\n",
            "Epoch 37/50, Train Loss: 0.0002, Train Accuracy: 100.00%, Val Loss: 0.7581, Val Accuracy: 84.62%\n",
            "Epoch 38/50, Train Loss: 0.0000, Train Accuracy: 100.00%, Val Loss: 0.9716, Val Accuracy: 84.62%\n",
            "Epoch 39/50, Train Loss: 0.0000, Train Accuracy: 100.00%, Val Loss: 0.7784, Val Accuracy: 84.62%\n",
            "Epoch 40/50, Train Loss: 0.0000, Train Accuracy: 100.00%, Val Loss: 0.9024, Val Accuracy: 84.62%\n",
            "Epoch 41/50, Train Loss: 0.0001, Train Accuracy: 100.00%, Val Loss: 0.7662, Val Accuracy: 84.62%\n",
            "Epoch 42/50, Train Loss: 0.0000, Train Accuracy: 100.00%, Val Loss: 1.0421, Val Accuracy: 84.62%\n",
            "Epoch 43/50, Train Loss: 0.0000, Train Accuracy: 100.00%, Val Loss: 0.7600, Val Accuracy: 84.62%\n",
            "Epoch 44/50, Train Loss: 0.0000, Train Accuracy: 100.00%, Val Loss: 1.2116, Val Accuracy: 84.62%\n",
            "Epoch 45/50, Train Loss: 0.0000, Train Accuracy: 100.00%, Val Loss: 0.7438, Val Accuracy: 84.62%\n",
            "Epoch 46/50, Train Loss: 0.0000, Train Accuracy: 100.00%, Val Loss: 0.7509, Val Accuracy: 84.62%\n",
            "Epoch 47/50, Train Loss: 0.0000, Train Accuracy: 100.00%, Val Loss: 0.9709, Val Accuracy: 84.62%\n",
            "Epoch 48/50, Train Loss: 0.0000, Train Accuracy: 100.00%, Val Loss: 1.0094, Val Accuracy: 84.62%\n",
            "Epoch 49/50, Train Loss: 0.0000, Train Accuracy: 100.00%, Val Loss: 0.7455, Val Accuracy: 84.62%\n",
            "Epoch 50/50, Train Loss: 0.0000, Train Accuracy: 100.00%, Val Loss: 0.7313, Val Accuracy: 84.62%\n"
          ]
        }
      ]
    },
    {
      "cell_type": "markdown",
      "source": [
        "### Resultados de la prueba con la propuesta de modelo 2\n",
        "\n",
        "En este caso el accuracy es del 92.31% para las imágenes de prueba lo que representa una mejora con respecto al modelo 1. Puede que el modelo en la práctica y con todos los datos tenga un mejor rendimiento al ser un poco más complejo y poder extraer mejor las características de los datos."
      ],
      "metadata": {
        "id": "SQDnOJLuUa2O"
      }
    },
    {
      "cell_type": "code",
      "source": [
        "testing_model_with_subset(model, 'best_parameters_poc_two.pth' )"
      ],
      "metadata": {
        "colab": {
          "base_uri": "https://localhost:8080/"
        },
        "id": "JPGUIYhkXn7H",
        "outputId": "a9beb7c9-18eb-4667-e55f-c2c2adf63aa8"
      },
      "execution_count": 71,
      "outputs": [
        {
          "output_type": "stream",
          "name": "stderr",
          "text": [
            "<ipython-input-63-736d6254307b>:58: FutureWarning: You are using `torch.load` with `weights_only=False` (the current default value), which uses the default pickle module implicitly. It is possible to construct malicious pickle data which will execute arbitrary code during unpickling (See https://github.com/pytorch/pytorch/blob/main/SECURITY.md#untrusted-models for more details). In a future release, the default value for `weights_only` will be flipped to `True`. This limits the functions that could be executed during unpickling. Arbitrary objects will no longer be allowed to be loaded via this mode unless they are explicitly allowlisted by the user via `torch.serialization.add_safe_globals`. We recommend you start setting `weights_only=True` for any use case where you don't have full control of the loaded file. Please open an issue on GitHub for any issues related to this experimental feature.\n",
            "  model.load_state_dict(torch.load(saved_model))\n"
          ]
        },
        {
          "output_type": "stream",
          "name": "stdout",
          "text": [
            "Accuracy de la red en las imagenes de test: 92.31 %\n"
          ]
        }
      ]
    },
    {
      "cell_type": "markdown",
      "source": [
        "### Propuesta de modelo 3\n",
        "\n",
        "Para la tercera propuesta se tiene un modelo más complejo, en este caso se utilizan dos módulos de Inception con un número mayor de filtros, de igual manera se aplican técnicas como batch normalization y dropout.\n",
        "\n"
      ],
      "metadata": {
        "id": "uFTMOw6FNEbs"
      }
    },
    {
      "cell_type": "code",
      "source": [
        "class InceptionModule(nn.Module):\n",
        "    def __init__(self, in_channels, out1x1, red3x3, out3x3, red5x5, out5x5, pool_proj):\n",
        "        super(InceptionModule, self).__init__()\n",
        "\n",
        "        # Branch 1: 1x1 Conv\n",
        "        self.branch1 = nn.Sequential(\n",
        "            nn.Conv2d(in_channels, out1x1, kernel_size=1),\n",
        "            nn.BatchNorm2d(out1x1),\n",
        "            nn.ReLU()\n",
        "        )\n",
        "\n",
        "        # Branch 2: 1x1 Conv -> 3x3 Conv\n",
        "        self.branch2 = nn.Sequential(\n",
        "            nn.Conv2d(in_channels, red3x3, kernel_size=1),\n",
        "            nn.BatchNorm2d(red3x3),\n",
        "            nn.ReLU(),\n",
        "            nn.Conv2d(red3x3, out3x3, kernel_size=3, padding=1),\n",
        "            nn.BatchNorm2d(out3x3),\n",
        "            nn.ReLU()\n",
        "        )\n",
        "\n",
        "        # Branch 3: 1x1 Conv -> 5x5 Conv\n",
        "        self.branch3 = nn.Sequential(\n",
        "            nn.Conv2d(in_channels, red5x5, kernel_size=1),\n",
        "            nn.BatchNorm2d(red5x5),\n",
        "            nn.ReLU(),\n",
        "            nn.Conv2d(red5x5, out5x5, kernel_size=5, padding=2),\n",
        "            nn.BatchNorm2d(out5x5),\n",
        "            nn.ReLU()\n",
        "        )\n",
        "\n",
        "        # Branch 4: Max Pool -> 1x1 Conv\n",
        "        self.branch4 = nn.Sequential(\n",
        "            nn.MaxPool2d(kernel_size=3, stride=1, padding=1),\n",
        "            nn.Conv2d(in_channels, pool_proj, kernel_size=1),\n",
        "            nn.BatchNorm2d(pool_proj),\n",
        "            nn.ReLU()\n",
        "        )\n",
        "\n",
        "    def forward(self, x):\n",
        "        branch1 = self.branch1(x)\n",
        "        branch2 = self.branch2(x)\n",
        "        branch3 = self.branch3(x)\n",
        "        branch4 = self.branch4(x)\n",
        "        return torch.cat([branch1, branch2, branch3, branch4], 1)\n",
        "\n",
        "\n",
        "class CNNModelWithTwoInception(nn.Module):\n",
        "    def __init__(self):\n",
        "        super(CNNModelWithTwoInception, self).__init__()\n",
        "\n",
        "        self.conv1 = nn.Sequential(\n",
        "            nn.Conv2d(1, 32, kernel_size=3, padding=1),\n",
        "            nn.BatchNorm2d(32),\n",
        "            nn.ReLU()\n",
        "        )\n",
        "        self.conv2 = nn.Sequential(\n",
        "            nn.Conv2d(32, 64, kernel_size=3, padding=1),\n",
        "            nn.BatchNorm2d(64),\n",
        "            nn.ReLU()\n",
        "        )\n",
        "\n",
        "        # Primer Inception module\n",
        "        self.inception1 = InceptionModule(64, 32, 32, 64, 16, 32, 32)\n",
        "\n",
        "        # Segundo Inception module\n",
        "        self.inception2 = InceptionModule(160, 64, 64, 128, 32, 64, 64)\n",
        "\n",
        "        # Pooling layer\n",
        "        self.pool = nn.MaxPool2d(kernel_size=2, stride=2)\n",
        "\n",
        "        # Dropout\n",
        "        self.dropout1 = nn.Dropout(0.3)\n",
        "        self.dropout2 = nn.Dropout(0.4)\n",
        "\n",
        "        # Global average pooling\n",
        "        self.global_avg_pool = nn.AdaptiveAvgPool2d(1)\n",
        "\n",
        "        # Fully connected\n",
        "        self.fc1 = nn.Linear(320, 128)\n",
        "        self.fc2 = nn.Linear(128, 64)\n",
        "        self.fc3 = nn.Linear(64, 3)\n",
        "\n",
        "    def forward(self, x):\n",
        "        # Conv layers\n",
        "        x = self.conv1(x)\n",
        "        x = self.pool(self.conv2(x))\n",
        "\n",
        "        # Primer Inception module\n",
        "        x = self.inception1(x)\n",
        "\n",
        "        # Pool después de primer inception\n",
        "        x = self.pool(x)\n",
        "\n",
        "        # Segundo Inception Module\n",
        "        x = self.inception2(x)\n",
        "\n",
        "        # Pooling\n",
        "        x = self.pool(x)\n",
        "        x = self.dropout1(x)\n",
        "\n",
        "        # Global average pooling\n",
        "        x = self.global_avg_pool(x)\n",
        "\n",
        "        # Flatten\n",
        "        x = torch.flatten(x, 1)\n",
        "\n",
        "        # Fully connected con dropout\n",
        "        x = F.relu(self.fc1(x))\n",
        "        x = self.dropout2(x)\n",
        "        x = F.relu(self.fc2(x))\n",
        "\n",
        "        # Salida\n",
        "        x = self.fc3(x)\n",
        "\n",
        "        return x\n"
      ],
      "metadata": {
        "id": "2WOxuegVIt8l"
      },
      "execution_count": 4,
      "outputs": []
    },
    {
      "cell_type": "code",
      "source": [
        "\n",
        "model = CNNModelWithTwoInception()\n",
        "model.to(device)\n",
        "\n",
        "criterion = nn.CrossEntropyLoss()\n",
        "optimizer = optim.Adam(model.parameters(), lr=0.001)\n",
        "\n",
        "\n",
        "train_model_with_subset(model, train_loader, test_loader, criterion, optimizer, epochs=50, save_model=\"best_parameters_poc_three.pth\")"
      ],
      "metadata": {
        "colab": {
          "base_uri": "https://localhost:8080/"
        },
        "id": "-nuUZV3MJGjl",
        "outputId": "ee62f5cb-0f97-4672-8c3a-ebad77006183"
      },
      "execution_count": 78,
      "outputs": [
        {
          "output_type": "stream",
          "name": "stdout",
          "text": [
            "Epoch 1/50, Train Loss: 1.0932, Train Accuracy: 46.00%, Val Loss: 1.1111, Val Accuracy: 23.08%\n",
            "Epoch 2/50, Train Loss: 0.9645, Train Accuracy: 52.00%, Val Loss: 1.3731, Val Accuracy: 23.08%\n",
            "Epoch 3/50, Train Loss: 0.9323, Train Accuracy: 72.00%, Val Loss: 2.1139, Val Accuracy: 23.08%\n",
            "Epoch 4/50, Train Loss: 0.7767, Train Accuracy: 62.00%, Val Loss: 2.1104, Val Accuracy: 23.08%\n",
            "Epoch 5/50, Train Loss: 0.6543, Train Accuracy: 72.00%, Val Loss: 2.4125, Val Accuracy: 23.08%\n",
            "Epoch 6/50, Train Loss: 0.6330, Train Accuracy: 72.00%, Val Loss: 1.7592, Val Accuracy: 23.08%\n",
            "Epoch 7/50, Train Loss: 0.6573, Train Accuracy: 76.00%, Val Loss: 0.8794, Val Accuracy: 53.85%\n",
            "Epoch 8/50, Train Loss: 0.5415, Train Accuracy: 78.00%, Val Loss: 1.4153, Val Accuracy: 38.46%\n",
            "Epoch 9/50, Train Loss: 0.9424, Train Accuracy: 68.00%, Val Loss: 1.0982, Val Accuracy: 38.46%\n",
            "Epoch 10/50, Train Loss: 0.5458, Train Accuracy: 82.00%, Val Loss: 0.6705, Val Accuracy: 46.15%\n",
            "Epoch 11/50, Train Loss: 0.5218, Train Accuracy: 70.00%, Val Loss: 0.7534, Val Accuracy: 38.46%\n",
            "Epoch 12/50, Train Loss: 0.4553, Train Accuracy: 84.00%, Val Loss: 0.5871, Val Accuracy: 76.92%\n",
            "Epoch 13/50, Train Loss: 0.4242, Train Accuracy: 86.00%, Val Loss: 0.8476, Val Accuracy: 69.23%\n",
            "Epoch 14/50, Train Loss: 0.3774, Train Accuracy: 90.00%, Val Loss: 0.4374, Val Accuracy: 76.92%\n",
            "Epoch 15/50, Train Loss: 0.4671, Train Accuracy: 86.00%, Val Loss: 0.6383, Val Accuracy: 61.54%\n",
            "Epoch 16/50, Train Loss: 0.2236, Train Accuracy: 94.00%, Val Loss: 1.4613, Val Accuracy: 53.85%\n",
            "Epoch 17/50, Train Loss: 0.5104, Train Accuracy: 90.00%, Val Loss: 0.3501, Val Accuracy: 76.92%\n",
            "Epoch 18/50, Train Loss: 0.3138, Train Accuracy: 88.00%, Val Loss: 1.2299, Val Accuracy: 69.23%\n",
            "Epoch 19/50, Train Loss: 0.6540, Train Accuracy: 84.00%, Val Loss: 1.3187, Val Accuracy: 38.46%\n",
            "Epoch 20/50, Train Loss: 0.3189, Train Accuracy: 96.00%, Val Loss: 1.9708, Val Accuracy: 46.15%\n",
            "Epoch 21/50, Train Loss: 0.3751, Train Accuracy: 82.00%, Val Loss: 0.5730, Val Accuracy: 76.92%\n",
            "Epoch 22/50, Train Loss: 0.3894, Train Accuracy: 88.00%, Val Loss: 0.8880, Val Accuracy: 69.23%\n",
            "Epoch 23/50, Train Loss: 0.4221, Train Accuracy: 94.00%, Val Loss: 3.2605, Val Accuracy: 30.77%\n",
            "Epoch 24/50, Train Loss: 0.5206, Train Accuracy: 80.00%, Val Loss: 2.9398, Val Accuracy: 53.85%\n",
            "Epoch 25/50, Train Loss: 0.2979, Train Accuracy: 90.00%, Val Loss: 0.8416, Val Accuracy: 69.23%\n",
            "Epoch 26/50, Train Loss: 0.4344, Train Accuracy: 88.00%, Val Loss: 0.9577, Val Accuracy: 69.23%\n",
            "Epoch 27/50, Train Loss: 0.1962, Train Accuracy: 94.00%, Val Loss: 0.2075, Val Accuracy: 92.31%\n",
            "Epoch 28/50, Train Loss: 0.2802, Train Accuracy: 90.00%, Val Loss: 0.3078, Val Accuracy: 92.31%\n",
            "Epoch 29/50, Train Loss: 0.4745, Train Accuracy: 86.00%, Val Loss: 0.7599, Val Accuracy: 53.85%\n",
            "Epoch 30/50, Train Loss: 0.2384, Train Accuracy: 92.00%, Val Loss: 0.7045, Val Accuracy: 69.23%\n",
            "Epoch 31/50, Train Loss: 0.4401, Train Accuracy: 86.00%, Val Loss: 2.7988, Val Accuracy: 46.15%\n",
            "Epoch 32/50, Train Loss: 0.3528, Train Accuracy: 88.00%, Val Loss: 1.5337, Val Accuracy: 46.15%\n",
            "Epoch 33/50, Train Loss: 0.2552, Train Accuracy: 94.00%, Val Loss: 3.0494, Val Accuracy: 53.85%\n",
            "Epoch 34/50, Train Loss: 0.5186, Train Accuracy: 86.00%, Val Loss: 1.7499, Val Accuracy: 69.23%\n",
            "Epoch 35/50, Train Loss: 0.3061, Train Accuracy: 92.00%, Val Loss: 0.2530, Val Accuracy: 92.31%\n",
            "Epoch 36/50, Train Loss: 0.1293, Train Accuracy: 98.00%, Val Loss: 1.6871, Val Accuracy: 53.85%\n",
            "Epoch 37/50, Train Loss: 0.2219, Train Accuracy: 90.00%, Val Loss: 0.3011, Val Accuracy: 92.31%\n",
            "Epoch 38/50, Train Loss: 0.3490, Train Accuracy: 88.00%, Val Loss: 0.4111, Val Accuracy: 76.92%\n",
            "Epoch 39/50, Train Loss: 0.4817, Train Accuracy: 88.00%, Val Loss: 0.1168, Val Accuracy: 100.00%\n",
            "Epoch 40/50, Train Loss: 0.4185, Train Accuracy: 94.00%, Val Loss: 0.2004, Val Accuracy: 92.31%\n",
            "Epoch 41/50, Train Loss: 0.1170, Train Accuracy: 98.00%, Val Loss: 2.3937, Val Accuracy: 46.15%\n",
            "Epoch 42/50, Train Loss: 0.1022, Train Accuracy: 98.00%, Val Loss: 1.3657, Val Accuracy: 53.85%\n",
            "Epoch 43/50, Train Loss: 0.2040, Train Accuracy: 94.00%, Val Loss: 0.4086, Val Accuracy: 76.92%\n",
            "Epoch 44/50, Train Loss: 0.1658, Train Accuracy: 94.00%, Val Loss: 1.4912, Val Accuracy: 53.85%\n",
            "Epoch 45/50, Train Loss: 0.3039, Train Accuracy: 94.00%, Val Loss: 0.9654, Val Accuracy: 76.92%\n",
            "Epoch 46/50, Train Loss: 0.1724, Train Accuracy: 94.00%, Val Loss: 1.8165, Val Accuracy: 53.85%\n",
            "Epoch 47/50, Train Loss: 0.0811, Train Accuracy: 98.00%, Val Loss: 2.0669, Val Accuracy: 53.85%\n",
            "Epoch 48/50, Train Loss: 0.3180, Train Accuracy: 94.00%, Val Loss: 0.7693, Val Accuracy: 69.23%\n",
            "Epoch 49/50, Train Loss: 0.1684, Train Accuracy: 94.00%, Val Loss: 0.9688, Val Accuracy: 69.23%\n",
            "Epoch 50/50, Train Loss: 0.1377, Train Accuracy: 96.00%, Val Loss: 5.4736, Val Accuracy: 53.85%\n"
          ]
        }
      ]
    },
    {
      "cell_type": "markdown",
      "source": [
        "### Resultados de la prueba con la propuesta de modelo 3\n",
        "\n",
        "En este caso el accuracy es del 100% para las imágenes de prueba lo que representa una mejora con respecto al modelo 2, y este es el mejor resultado de las tres PoC."
      ],
      "metadata": {
        "id": "RkWjG09OXwsy"
      }
    },
    {
      "cell_type": "code",
      "source": [
        "testing_model_with_subset(model, \"best_parameters_poc_three.pth\")"
      ],
      "metadata": {
        "colab": {
          "base_uri": "https://localhost:8080/"
        },
        "id": "Rm2lKE3uMpqP",
        "outputId": "71943e26-1692-427c-e55d-33f566d4e24a"
      },
      "execution_count": 79,
      "outputs": [
        {
          "output_type": "stream",
          "name": "stderr",
          "text": [
            "<ipython-input-63-736d6254307b>:58: FutureWarning: You are using `torch.load` with `weights_only=False` (the current default value), which uses the default pickle module implicitly. It is possible to construct malicious pickle data which will execute arbitrary code during unpickling (See https://github.com/pytorch/pytorch/blob/main/SECURITY.md#untrusted-models for more details). In a future release, the default value for `weights_only` will be flipped to `True`. This limits the functions that could be executed during unpickling. Arbitrary objects will no longer be allowed to be loaded via this mode unless they are explicitly allowlisted by the user via `torch.serialization.add_safe_globals`. We recommend you start setting `weights_only=True` for any use case where you don't have full control of the loaded file. Please open an issue on GitHub for any issues related to this experimental feature.\n",
            "  model.load_state_dict(torch.load(saved_model))\n"
          ]
        },
        {
          "output_type": "stream",
          "name": "stdout",
          "text": [
            "Accuracy de la red en las imagenes de test: 100.00 %\n"
          ]
        }
      ]
    },
    {
      "cell_type": "markdown",
      "source": [
        "### Guardar modelos en formato ONNX\n",
        "\n",
        "A continuación se guardan las tres arquitecturas de modelos en formato **ONNX** para su posterior visualización utilizando la plataforma **Netron**"
      ],
      "metadata": {
        "id": "JJpSpj8VEn62"
      }
    },
    {
      "cell_type": "code",
      "source": [
        "!pip install onnx"
      ],
      "metadata": {
        "colab": {
          "base_uri": "https://localhost:8080/"
        },
        "id": "84W2umzsGR4o",
        "outputId": "a6d697b3-c757-4601-80e2-9d55e0d81e27"
      },
      "execution_count": 80,
      "outputs": [
        {
          "output_type": "stream",
          "name": "stdout",
          "text": [
            "Requirement already satisfied: onnx in /usr/local/lib/python3.10/dist-packages (1.17.0)\n",
            "Requirement already satisfied: numpy>=1.20 in /usr/local/lib/python3.10/dist-packages (from onnx) (1.26.4)\n",
            "Requirement already satisfied: protobuf>=3.20.2 in /usr/local/lib/python3.10/dist-packages (from onnx) (3.20.3)\n"
          ]
        }
      ]
    },
    {
      "cell_type": "code",
      "source": [
        "import torch.onnx\n",
        "\n",
        "model_one = CNNModelBOne()\n",
        "model_two = CNNModelBTwo()\n",
        "model_three = CNNModelWithTwoInception()\n",
        "\n",
        "model_one.load_state_dict(torch.load(\"best_parameters_poc_one.pth\"))\n",
        "model_two.load_state_dict(torch.load(\"best_parameters_poc_two.pth\"))\n",
        "model_three.load_state_dict(torch.load(\"best_parameters_poc_three.pth\"))\n",
        "\n",
        "model_one.eval()\n",
        "model_two.eval()\n",
        "model_three.eval()\n",
        "\n",
        "dummy_input = torch.randn(1, 1, 128, 128, device=\"cpu\")\n",
        "\n",
        "torch.onnx.export(model_one,\n",
        "                  dummy_input,  # Ejemplo de input\n",
        "                  \"model_b_one.onnx\",  # Nombre del archivo\n",
        "                  input_names=['input_image'],  # Nombre del input\n",
        "                  output_names=['predicted_class'])  # Nombre del output\n",
        "\n",
        "torch.onnx.export(model_two,\n",
        "                  dummy_input,  # Ejemplo de input\n",
        "                  \"model_b_two.onnx\",  # Nombre del archivo\n",
        "                  input_names=['input_image'],  # Nombre del input\n",
        "                  output_names=['predicted_class'])  # Nombre del output\n",
        "\n",
        "torch.onnx.export(model_three,\n",
        "                  dummy_input,  # Ejemplo de input\n",
        "                  \"model_b_three.onnx\",  # Nombre del archivo\n",
        "                  input_names=['input_image'],  # Nombre del input\n",
        "                  output_names=['predicted_class'])  # Nombre del output"
      ],
      "metadata": {
        "colab": {
          "base_uri": "https://localhost:8080/"
        },
        "id": "uLcxm4h9E9C3",
        "outputId": "b7c9a790-64ee-4167-9624-53e63f310513"
      },
      "execution_count": 81,
      "outputs": [
        {
          "output_type": "stream",
          "name": "stderr",
          "text": [
            "<ipython-input-81-28732b216f0e>:7: FutureWarning: You are using `torch.load` with `weights_only=False` (the current default value), which uses the default pickle module implicitly. It is possible to construct malicious pickle data which will execute arbitrary code during unpickling (See https://github.com/pytorch/pytorch/blob/main/SECURITY.md#untrusted-models for more details). In a future release, the default value for `weights_only` will be flipped to `True`. This limits the functions that could be executed during unpickling. Arbitrary objects will no longer be allowed to be loaded via this mode unless they are explicitly allowlisted by the user via `torch.serialization.add_safe_globals`. We recommend you start setting `weights_only=True` for any use case where you don't have full control of the loaded file. Please open an issue on GitHub for any issues related to this experimental feature.\n",
            "  model_one.load_state_dict(torch.load(\"best_parameters_poc_one.pth\"))\n",
            "<ipython-input-81-28732b216f0e>:8: FutureWarning: You are using `torch.load` with `weights_only=False` (the current default value), which uses the default pickle module implicitly. It is possible to construct malicious pickle data which will execute arbitrary code during unpickling (See https://github.com/pytorch/pytorch/blob/main/SECURITY.md#untrusted-models for more details). In a future release, the default value for `weights_only` will be flipped to `True`. This limits the functions that could be executed during unpickling. Arbitrary objects will no longer be allowed to be loaded via this mode unless they are explicitly allowlisted by the user via `torch.serialization.add_safe_globals`. We recommend you start setting `weights_only=True` for any use case where you don't have full control of the loaded file. Please open an issue on GitHub for any issues related to this experimental feature.\n",
            "  model_two.load_state_dict(torch.load(\"best_parameters_poc_two.pth\"))\n",
            "<ipython-input-81-28732b216f0e>:9: FutureWarning: You are using `torch.load` with `weights_only=False` (the current default value), which uses the default pickle module implicitly. It is possible to construct malicious pickle data which will execute arbitrary code during unpickling (See https://github.com/pytorch/pytorch/blob/main/SECURITY.md#untrusted-models for more details). In a future release, the default value for `weights_only` will be flipped to `True`. This limits the functions that could be executed during unpickling. Arbitrary objects will no longer be allowed to be loaded via this mode unless they are explicitly allowlisted by the user via `torch.serialization.add_safe_globals`. We recommend you start setting `weights_only=True` for any use case where you don't have full control of the loaded file. Please open an issue on GitHub for any issues related to this experimental feature.\n",
            "  model_three.load_state_dict(torch.load(\"best_parameters_poc_three.pth\"))\n"
          ]
        }
      ]
    },
    {
      "cell_type": "markdown",
      "source": [
        "# Modelo escogido\n",
        "\n",
        "En base a los resultados expuestos anteriormente se estará utilizando el modelo 3, puesto que presento el mejor rendimiento en su PoC. El entrenamiento y pruebas que se realizan a continuación se realizarán utilizando el tercer modelo."
      ],
      "metadata": {
        "id": "nWhI8cgz_PCW"
      }
    },
    {
      "cell_type": "markdown",
      "source": [
        "### Instalar Weights and Biases"
      ],
      "metadata": {
        "id": "Mo2utl_N71r_"
      }
    },
    {
      "cell_type": "code",
      "source": [
        "%%capture\n",
        "!pip install wandb --upgrade"
      ],
      "metadata": {
        "id": "0JP_5WcA7dSU"
      },
      "execution_count": 5,
      "outputs": []
    },
    {
      "cell_type": "markdown",
      "source": [
        "### Importar W&B y hacer login"
      ],
      "metadata": {
        "id": "SW3QSAzY8XOn"
      }
    },
    {
      "cell_type": "code",
      "source": [
        "import wandb\n",
        "wandb.login()"
      ],
      "metadata": {
        "colab": {
          "base_uri": "https://localhost:8080/",
          "height": 139
        },
        "id": "LtwHieuw8aNi",
        "outputId": "8501ded6-a8fb-4125-f97b-9edfb9b4b0db"
      },
      "execution_count": 6,
      "outputs": [
        {
          "output_type": "stream",
          "name": "stderr",
          "text": [
            "\u001b[34m\u001b[1mwandb\u001b[0m: Using wandb-core as the SDK backend. Please refer to https://wandb.me/wandb-core for more information.\n"
          ]
        },
        {
          "output_type": "display_data",
          "data": {
            "text/plain": [
              "<IPython.core.display.Javascript object>"
            ],
            "application/javascript": [
              "\n",
              "        window._wandbApiKey = new Promise((resolve, reject) => {\n",
              "            function loadScript(url) {\n",
              "            return new Promise(function(resolve, reject) {\n",
              "                let newScript = document.createElement(\"script\");\n",
              "                newScript.onerror = reject;\n",
              "                newScript.onload = resolve;\n",
              "                document.body.appendChild(newScript);\n",
              "                newScript.src = url;\n",
              "            });\n",
              "            }\n",
              "            loadScript(\"https://cdn.jsdelivr.net/npm/postmate/build/postmate.min.js\").then(() => {\n",
              "            const iframe = document.createElement('iframe')\n",
              "            iframe.style.cssText = \"width:0;height:0;border:none\"\n",
              "            document.body.appendChild(iframe)\n",
              "            const handshake = new Postmate({\n",
              "                container: iframe,\n",
              "                url: 'https://wandb.ai/authorize'\n",
              "            });\n",
              "            const timeout = setTimeout(() => reject(\"Couldn't auto authenticate\"), 5000)\n",
              "            handshake.then(function(child) {\n",
              "                child.on('authorize', data => {\n",
              "                    clearTimeout(timeout)\n",
              "                    resolve(data)\n",
              "                });\n",
              "            });\n",
              "            })\n",
              "        });\n",
              "    "
            ]
          },
          "metadata": {}
        },
        {
          "output_type": "stream",
          "name": "stderr",
          "text": [
            "\u001b[34m\u001b[1mwandb\u001b[0m: Logging into wandb.ai. (Learn how to deploy a W&B server locally: https://wandb.me/wandb-server)\n",
            "\u001b[34m\u001b[1mwandb\u001b[0m: You can find your API key in your browser here: https://wandb.ai/authorize\n",
            "wandb: Paste an API key from your profile and hit enter, or press ctrl+c to quit:"
          ]
        },
        {
          "name": "stdout",
          "output_type": "stream",
          "text": [
            " ··········\n"
          ]
        },
        {
          "output_type": "stream",
          "name": "stderr",
          "text": [
            "\u001b[34m\u001b[1mwandb\u001b[0m: Appending key for api.wandb.ai to your netrc file: /root/.netrc\n"
          ]
        },
        {
          "output_type": "execute_result",
          "data": {
            "text/plain": [
              "True"
            ]
          },
          "metadata": {},
          "execution_count": 6
        }
      ]
    },
    {
      "cell_type": "markdown",
      "source": [
        "### Cargar datos y transformaciones para entrenamiento con dataset crudo"
      ],
      "metadata": {
        "id": "KIUlt9hH-N2k"
      }
    },
    {
      "cell_type": "code",
      "source": [
        "train_raw_data_transforms = transforms.Compose([\n",
        "    transforms.Resize((128, 128)),  # Redimensionar a 128x128\n",
        "    transforms.Grayscale(num_output_channels=1),  # Convertir a escala de grises\n",
        "    transforms.ToTensor(),  # Convertir a tensor\n",
        "    transforms.RandomRotation(20),\n",
        "    transforms.RandomHorizontalFlip(),\n",
        "    transforms.ColorJitter(brightness=0.2, contrast=0.2),\n",
        "    transforms.Normalize(mean=[0.5], std=[0.5])  # Normalización\n",
        "])\n",
        "\n",
        "test_raw_data_transforms = transforms.Compose([\n",
        "    transforms.Resize((128, 128)),  # Redimensionar a 128x128\n",
        "    transforms.Grayscale(num_output_channels=1),  # Convertir a escala de grises\n",
        "    transforms.ToTensor(),  # Convertir a tensor\n",
        "    transforms.Normalize(mean=[0.5], std=[0.5])  # Normalización\n",
        "])\n",
        "\n",
        "# Definir las rutas a las carpetas\n",
        "train_raw_dir = './drive/MyDrive/Covid19-dataset/train'\n",
        "test_raw_dir = './drive/MyDrive/Covid19-dataset/test'\n",
        "\n",
        "train_raw_dataset = datasets.ImageFolder(root=train_raw_dir, transform=train_raw_data_transforms)\n",
        "test_raw_dataset = datasets.ImageFolder(root=test_raw_dir, transform=test_raw_data_transforms)\n",
        "\n",
        "# Definir DataLoader para el conjunto de entrenamiento con el subconjunto de datos\n",
        "train_raw_loader = DataLoader(train_raw_dataset, batch_size=32, shuffle=True)\n",
        "\n",
        "# También puedes crear un DataLoader para el conjunto de prueba completo\n",
        "test_raw_loader = DataLoader(test_raw_dataset, batch_size=32, shuffle=False)"
      ],
      "metadata": {
        "id": "LI-SPVEy-T25"
      },
      "execution_count": 7,
      "outputs": []
    },
    {
      "cell_type": "markdown",
      "source": [
        "### Funciones de Training y Testing\n",
        "\n",
        "Se definen las funciones de training y testing que además utilizan weights and biases para llevar los registros del entrenamiento."
      ],
      "metadata": {
        "id": "nY9SrPyxsMAF"
      }
    },
    {
      "cell_type": "code",
      "source": [
        "# Definir la función de entrenamiento\n",
        "def train_model(model, train_loader, test_loader, criterion, optimizer, save_model, epochs=10):\n",
        "    best_val_accuracy = -1\n",
        "    for epoch in range(epochs):\n",
        "        model.train()  # Poner el modelo en modo de entrenamiento\n",
        "\n",
        "        running_loss = 0.0\n",
        "        correct = 0\n",
        "        total = 0\n",
        "\n",
        "        # Training\n",
        "        for inputs, labels in train_loader:\n",
        "            inputs, labels = inputs.to(device), labels.to(device)\n",
        "\n",
        "            optimizer.zero_grad()  # Limpiar los gradientes\n",
        "            outputs = model(inputs)  # Hacer una predicción\n",
        "            loss = criterion(outputs, labels)  # Calcular la pérdida\n",
        "            loss.backward()  # Hacer backpropagation\n",
        "            optimizer.step()  # Actualizar los pesos\n",
        "\n",
        "            running_loss += loss.item()\n",
        "            _, predicted = outputs.max(1)\n",
        "            total += labels.size(0)\n",
        "            correct += predicted.eq(labels).sum().item()\n",
        "\n",
        "        train_loss = running_loss / len(train_loader)\n",
        "        train_accuracy = 100 * correct / total\n",
        "\n",
        "        # Validation\n",
        "        model.eval()  # Setear el modelo a evalución\n",
        "        val_running_loss = 0.0\n",
        "        val_correct = 0\n",
        "        val_total = 0\n",
        "        with torch.no_grad():  # Desabilitar gradientes para validación\n",
        "            for inputs, labels in test_loader:\n",
        "                inputs, labels = inputs.to(device), labels.to(device)\n",
        "\n",
        "                outputs = model(inputs)\n",
        "                loss = criterion(outputs, labels)\n",
        "                val_running_loss += loss.item()\n",
        "\n",
        "                _, predicted = outputs.max(1)\n",
        "                val_total += labels.size(0)\n",
        "                val_correct += predicted.eq(labels).sum().item()\n",
        "\n",
        "        val_loss = val_running_loss / len(test_loader)\n",
        "        val_accuracy = 100 * val_correct / val_total\n",
        "        if val_accuracy > best_val_accuracy:\n",
        "          best_val_accuracy = val_accuracy\n",
        "          torch.save(model.state_dict(), save_model)\n",
        "        wandb.log({\n",
        "            \"epoch\": epoch + 1,\n",
        "            \"train_loss\": train_loss,\n",
        "            \"train_accuracy\": train_accuracy,\n",
        "            \"val_loss\": val_loss,\n",
        "            \"val_accuracy\": val_accuracy\n",
        "        })\n",
        "\n",
        "        print(f\"Epoch {epoch+1}/{epochs}, \"\n",
        "              f\"Train Loss: {train_loss:.4f}, Train Accuracy: {train_accuracy:.2f}%, \"\n",
        "              f\"Val Loss: {val_loss:.4f}, Val Accuracy: {val_accuracy:.2f}%\")\n",
        "\n",
        "\n",
        "def testing_model(model, test_loader, saved_model):\n",
        "  #Cargar los mejores parámetros de validación.\n",
        "  model.load_state_dict(torch.load(saved_model))\n",
        "  correct = 0\n",
        "  total = 0\n",
        "\n",
        "  model.eval()\n",
        "  # debido a que no estamos entrenando, no necesitamos calcular los gradientes para las salidas\n",
        "  with torch.no_grad():\n",
        "      for images,labels in test_loader:\n",
        "          images, labels = images.to(device), labels.to(device)\n",
        "          # calcular outputs corriendo imagenes en la red\n",
        "          outputs = model(images)\n",
        "          # La clase con mayor valor es la que escogemos como salida\n",
        "          _, predicted = torch.max(outputs.data, 1)\n",
        "          total += labels.size(0)\n",
        "          correct += (predicted == labels).sum().item()\n",
        "\n",
        "  print(f'Accuracy de la red en las imagenes de test: {100 * correct / total:.2f} %')\n",
        "  wandb.log({\n",
        "      \"test_accuracy\" : correct / total\n",
        "  })\n",
        "\n"
      ],
      "metadata": {
        "id": "QxoAY1AYOtOg"
      },
      "execution_count": 8,
      "outputs": []
    },
    {
      "cell_type": "code",
      "source": [
        "# Entrenar el modelo con evaluación.\n",
        "model = CNNModelWithTwoInception()\n",
        "model.to(device)\n",
        "\n",
        "criterion = nn.CrossEntropyLoss()\n",
        "optimizer = optim.Adam(model.parameters(), lr=0.001)\n",
        "\n",
        "wandb.init(project=\"selected-model-b-three\")\n",
        "wandb.config = {\n",
        "    \"learning_rate\": 0.001,\n",
        "    \"epochs\": 50,\n",
        "    \"batch_size\": 32,\n",
        "    \"optimizer\": \"Adam\"\n",
        "}\n",
        "\n",
        "wandb.watch(model, log=\"all\", log_freq=10)\n",
        "train_model(model, train_raw_loader, test_raw_loader, criterion, optimizer,save_model=\"best_val_raw.pth\", epochs=50)"
      ],
      "metadata": {
        "colab": {
          "base_uri": "https://localhost:8080/",
          "height": 989
        },
        "id": "g8Xhwq8eXBJO",
        "outputId": "326b4bdc-5236-4e8a-a51b-d9ecba6d3081"
      },
      "execution_count": 9,
      "outputs": [
        {
          "output_type": "stream",
          "name": "stderr",
          "text": [
            "\u001b[34m\u001b[1mwandb\u001b[0m: Currently logged in as: \u001b[33miaredescnncnn\u001b[0m (\u001b[33miaredescnncnn-instituto-tecnol-gico-de-costa-rica\u001b[0m). Use \u001b[1m`wandb login --relogin`\u001b[0m to force relogin\n"
          ]
        },
        {
          "output_type": "display_data",
          "data": {
            "text/plain": [
              "<IPython.core.display.HTML object>"
            ],
            "text/html": [
              "Tracking run with wandb version 0.18.3"
            ]
          },
          "metadata": {}
        },
        {
          "output_type": "display_data",
          "data": {
            "text/plain": [
              "<IPython.core.display.HTML object>"
            ],
            "text/html": [
              "Run data is saved locally in <code>/content/wandb/run-20241015_170145-cuuzvd69</code>"
            ]
          },
          "metadata": {}
        },
        {
          "output_type": "display_data",
          "data": {
            "text/plain": [
              "<IPython.core.display.HTML object>"
            ],
            "text/html": [
              "Syncing run <strong><a href='https://wandb.ai/iaredescnncnn-instituto-tecnol-gico-de-costa-rica/selected-model-b-three/runs/cuuzvd69' target=\"_blank\">ancient-breeze-6</a></strong> to <a href='https://wandb.ai/iaredescnncnn-instituto-tecnol-gico-de-costa-rica/selected-model-b-three' target=\"_blank\">Weights & Biases</a> (<a href='https://wandb.me/run' target=\"_blank\">docs</a>)<br/>"
            ]
          },
          "metadata": {}
        },
        {
          "output_type": "display_data",
          "data": {
            "text/plain": [
              "<IPython.core.display.HTML object>"
            ],
            "text/html": [
              " View project at <a href='https://wandb.ai/iaredescnncnn-instituto-tecnol-gico-de-costa-rica/selected-model-b-three' target=\"_blank\">https://wandb.ai/iaredescnncnn-instituto-tecnol-gico-de-costa-rica/selected-model-b-three</a>"
            ]
          },
          "metadata": {}
        },
        {
          "output_type": "display_data",
          "data": {
            "text/plain": [
              "<IPython.core.display.HTML object>"
            ],
            "text/html": [
              " View run at <a href='https://wandb.ai/iaredescnncnn-instituto-tecnol-gico-de-costa-rica/selected-model-b-three/runs/cuuzvd69' target=\"_blank\">https://wandb.ai/iaredescnncnn-instituto-tecnol-gico-de-costa-rica/selected-model-b-three/runs/cuuzvd69</a>"
            ]
          },
          "metadata": {}
        },
        {
          "output_type": "stream",
          "name": "stdout",
          "text": [
            "Epoch 1/50, Train Loss: 1.0141, Train Accuracy: 42.63%, Val Loss: 1.2665, Val Accuracy: 39.39%\n",
            "Epoch 2/50, Train Loss: 0.8538, Train Accuracy: 61.35%, Val Loss: 2.5713, Val Accuracy: 39.39%\n",
            "Epoch 3/50, Train Loss: 0.7238, Train Accuracy: 68.13%, Val Loss: 2.6575, Val Accuracy: 39.39%\n",
            "Epoch 4/50, Train Loss: 0.6962, Train Accuracy: 69.32%, Val Loss: 0.7701, Val Accuracy: 69.70%\n",
            "Epoch 5/50, Train Loss: 0.5992, Train Accuracy: 70.12%, Val Loss: 0.8047, Val Accuracy: 66.67%\n",
            "Epoch 6/50, Train Loss: 0.5776, Train Accuracy: 74.50%, Val Loss: 0.6876, Val Accuracy: 71.21%\n",
            "Epoch 7/50, Train Loss: 0.5458, Train Accuracy: 76.49%, Val Loss: 0.8180, Val Accuracy: 57.58%\n",
            "Epoch 8/50, Train Loss: 0.6103, Train Accuracy: 73.71%, Val Loss: 1.4832, Val Accuracy: 53.03%\n",
            "Epoch 9/50, Train Loss: 0.6114, Train Accuracy: 70.92%, Val Loss: 0.5964, Val Accuracy: 71.21%\n",
            "Epoch 10/50, Train Loss: 0.5339, Train Accuracy: 74.50%, Val Loss: 0.8416, Val Accuracy: 74.24%\n",
            "Epoch 11/50, Train Loss: 0.5631, Train Accuracy: 76.89%, Val Loss: 0.9057, Val Accuracy: 56.06%\n",
            "Epoch 12/50, Train Loss: 0.4427, Train Accuracy: 84.06%, Val Loss: 0.5678, Val Accuracy: 75.76%\n",
            "Epoch 13/50, Train Loss: 0.4110, Train Accuracy: 82.07%, Val Loss: 0.4797, Val Accuracy: 84.85%\n",
            "Epoch 14/50, Train Loss: 0.4667, Train Accuracy: 80.08%, Val Loss: 0.4844, Val Accuracy: 65.15%\n",
            "Epoch 15/50, Train Loss: 0.4503, Train Accuracy: 82.47%, Val Loss: 0.5460, Val Accuracy: 84.85%\n",
            "Epoch 16/50, Train Loss: 0.4377, Train Accuracy: 82.07%, Val Loss: 0.3541, Val Accuracy: 84.85%\n",
            "Epoch 17/50, Train Loss: 0.3487, Train Accuracy: 84.46%, Val Loss: 0.5194, Val Accuracy: 83.33%\n",
            "Epoch 18/50, Train Loss: 0.3570, Train Accuracy: 84.06%, Val Loss: 0.5421, Val Accuracy: 66.67%\n",
            "Epoch 19/50, Train Loss: 0.3341, Train Accuracy: 85.26%, Val Loss: 0.3153, Val Accuracy: 83.33%\n",
            "Epoch 20/50, Train Loss: 0.3104, Train Accuracy: 88.05%, Val Loss: 0.3860, Val Accuracy: 75.76%\n",
            "Epoch 21/50, Train Loss: 0.2404, Train Accuracy: 92.43%, Val Loss: 0.3715, Val Accuracy: 81.82%\n",
            "Epoch 22/50, Train Loss: 0.2683, Train Accuracy: 89.24%, Val Loss: 0.7723, Val Accuracy: 75.76%\n",
            "Epoch 23/50, Train Loss: 0.2961, Train Accuracy: 89.64%, Val Loss: 0.4289, Val Accuracy: 69.70%\n",
            "Epoch 24/50, Train Loss: 0.2622, Train Accuracy: 88.45%, Val Loss: 0.5006, Val Accuracy: 86.36%\n",
            "Epoch 25/50, Train Loss: 0.2213, Train Accuracy: 90.44%, Val Loss: 1.2982, Val Accuracy: 71.21%\n",
            "Epoch 26/50, Train Loss: 0.2985, Train Accuracy: 88.45%, Val Loss: 0.7760, Val Accuracy: 81.82%\n",
            "Epoch 27/50, Train Loss: 0.2229, Train Accuracy: 92.03%, Val Loss: 0.2735, Val Accuracy: 86.36%\n",
            "Epoch 28/50, Train Loss: 0.3310, Train Accuracy: 86.45%, Val Loss: 0.2945, Val Accuracy: 84.85%\n",
            "Epoch 29/50, Train Loss: 0.1980, Train Accuracy: 91.63%, Val Loss: 1.3654, Val Accuracy: 75.76%\n",
            "Epoch 30/50, Train Loss: 0.2959, Train Accuracy: 89.24%, Val Loss: 0.3747, Val Accuracy: 75.76%\n",
            "Epoch 31/50, Train Loss: 0.2009, Train Accuracy: 91.63%, Val Loss: 1.4488, Val Accuracy: 74.24%\n",
            "Epoch 32/50, Train Loss: 0.2492, Train Accuracy: 89.24%, Val Loss: 0.2197, Val Accuracy: 87.88%\n",
            "Epoch 33/50, Train Loss: 0.1898, Train Accuracy: 93.63%, Val Loss: 0.2177, Val Accuracy: 92.42%\n",
            "Epoch 34/50, Train Loss: 0.2033, Train Accuracy: 93.23%, Val Loss: 0.2260, Val Accuracy: 84.85%\n",
            "Epoch 35/50, Train Loss: 0.2253, Train Accuracy: 91.63%, Val Loss: 0.2992, Val Accuracy: 90.91%\n",
            "Epoch 36/50, Train Loss: 0.1679, Train Accuracy: 92.43%, Val Loss: 0.8286, Val Accuracy: 69.70%\n",
            "Epoch 37/50, Train Loss: 0.2438, Train Accuracy: 88.45%, Val Loss: 0.2033, Val Accuracy: 86.36%\n",
            "Epoch 38/50, Train Loss: 0.2221, Train Accuracy: 92.83%, Val Loss: 0.3846, Val Accuracy: 77.27%\n",
            "Epoch 39/50, Train Loss: 0.1858, Train Accuracy: 94.42%, Val Loss: 0.5062, Val Accuracy: 84.85%\n",
            "Epoch 40/50, Train Loss: 0.2782, Train Accuracy: 91.24%, Val Loss: 0.7513, Val Accuracy: 65.15%\n",
            "Epoch 41/50, Train Loss: 0.1558, Train Accuracy: 94.82%, Val Loss: 0.2105, Val Accuracy: 84.85%\n",
            "Epoch 42/50, Train Loss: 0.1953, Train Accuracy: 92.43%, Val Loss: 0.2269, Val Accuracy: 89.39%\n",
            "Epoch 43/50, Train Loss: 0.1895, Train Accuracy: 92.43%, Val Loss: 0.9767, Val Accuracy: 78.79%\n",
            "Epoch 44/50, Train Loss: 0.2154, Train Accuracy: 90.84%, Val Loss: 0.2714, Val Accuracy: 83.33%\n",
            "Epoch 45/50, Train Loss: 0.1924, Train Accuracy: 92.83%, Val Loss: 0.9698, Val Accuracy: 77.27%\n",
            "Epoch 46/50, Train Loss: 0.2771, Train Accuracy: 87.25%, Val Loss: 0.1943, Val Accuracy: 86.36%\n",
            "Epoch 47/50, Train Loss: 0.1692, Train Accuracy: 92.83%, Val Loss: 0.1376, Val Accuracy: 95.45%\n",
            "Epoch 48/50, Train Loss: 0.2182, Train Accuracy: 92.43%, Val Loss: 0.4788, Val Accuracy: 75.76%\n",
            "Epoch 49/50, Train Loss: 0.1620, Train Accuracy: 94.42%, Val Loss: 0.1239, Val Accuracy: 92.42%\n",
            "Epoch 50/50, Train Loss: 0.1457, Train Accuracy: 94.02%, Val Loss: 0.0972, Val Accuracy: 96.97%\n"
          ]
        }
      ]
    },
    {
      "cell_type": "code",
      "source": [
        "testing_model(model, test_raw_loader, \"best_val_raw.pth\")\n",
        "wandb.finish()"
      ],
      "metadata": {
        "colab": {
          "base_uri": "https://localhost:8080/",
          "height": 384,
          "referenced_widgets": [
            "6776cb1e74ab46f397700be0f8cb8bdb",
            "aa4a66f9a4bd4be9873e04de437ec883",
            "56c8ee96afc04028b7904f0b94a4e895",
            "6a0bae6e41b648a6aa2bc9bc2fa198a6",
            "afa5755f861e458e8b4adc7b0f16fc3a",
            "88aece2b59c74d828267ff56fc7f808d",
            "386f2ed6c55c42c5ad56f3c52e982b53",
            "082a3b52bfff4fbe94abddeb27198ab7"
          ]
        },
        "id": "y-lj1LUrz5LP",
        "outputId": "0e75c7c4-4bbe-4a17-bb3a-30443ed18890"
      },
      "execution_count": 10,
      "outputs": [
        {
          "output_type": "stream",
          "name": "stderr",
          "text": [
            "<ipython-input-8-51a95efbbd6a>:66: FutureWarning: You are using `torch.load` with `weights_only=False` (the current default value), which uses the default pickle module implicitly. It is possible to construct malicious pickle data which will execute arbitrary code during unpickling (See https://github.com/pytorch/pytorch/blob/main/SECURITY.md#untrusted-models for more details). In a future release, the default value for `weights_only` will be flipped to `True`. This limits the functions that could be executed during unpickling. Arbitrary objects will no longer be allowed to be loaded via this mode unless they are explicitly allowlisted by the user via `torch.serialization.add_safe_globals`. We recommend you start setting `weights_only=True` for any use case where you don't have full control of the loaded file. Please open an issue on GitHub for any issues related to this experimental feature.\n",
            "  model.load_state_dict(torch.load(saved_model))\n"
          ]
        },
        {
          "output_type": "stream",
          "name": "stdout",
          "text": [
            "Accuracy de la red en las imagenes de test: 96.97 %\n"
          ]
        },
        {
          "output_type": "display_data",
          "data": {
            "text/plain": [
              "VBox(children=(Label(value='0.207 MB of 0.207 MB uploaded\\r'), FloatProgress(value=1.0, max=1.0)))"
            ],
            "application/vnd.jupyter.widget-view+json": {
              "version_major": 2,
              "version_minor": 0,
              "model_id": "6776cb1e74ab46f397700be0f8cb8bdb"
            }
          },
          "metadata": {}
        },
        {
          "output_type": "display_data",
          "data": {
            "text/plain": [
              "<IPython.core.display.HTML object>"
            ],
            "text/html": [
              "<style>\n",
              "    table.wandb td:nth-child(1) { padding: 0 10px; text-align: left ; width: auto;} td:nth-child(2) {text-align: left ; width: 100%}\n",
              "    .wandb-row { display: flex; flex-direction: row; flex-wrap: wrap; justify-content: flex-start; width: 100% }\n",
              "    .wandb-col { display: flex; flex-direction: column; flex-basis: 100%; flex: 1; padding: 10px; }\n",
              "    </style>\n",
              "<div class=\"wandb-row\"><div class=\"wandb-col\"><h3>Run history:</h3><br/><table class=\"wandb\"><tr><td>epoch</td><td>▁▁▁▁▂▂▂▂▂▂▃▃▃▃▃▄▄▄▄▄▅▅▅▅▅▆▆▆▆▆▆▇▇▇▇▇▇███</td></tr><tr><td>test_accuracy</td><td>▁</td></tr><tr><td>train_accuracy</td><td>▁▄▄▅▅▆▅▅▅▆▆▆▆▆▇▇▇█▇▇▇▇█▇██▇█████████▇███</td></tr><tr><td>train_loss</td><td>█▇▆▅▅▄▅▄▄▃▄▃▃▃▃▂▂▂▂▂▂▂▂▁▂▂▁▁▂▁▂▂▁▁▁▁▂▁▂▁</td></tr><tr><td>val_accuracy</td><td>▁▁▁▅▄▃▃▅▅▃▇▄▇▇▆▆▅▆▅▅▅▆▇▇▅▅▇▇▇▇▇▆▇▄▇▆▆▇██</td></tr><tr><td>val_loss</td><td>▄██▃▃▅▂▃▃▂▂▂▂▂▂▂▂▃▂▂▃▁▂▄▂▁▁▁▂▃▂▂▃▁▁▁▃▁▂▁</td></tr></table><br/></div><div class=\"wandb-col\"><h3>Run summary:</h3><br/><table class=\"wandb\"><tr><td>epoch</td><td>50</td></tr><tr><td>test_accuracy</td><td>0.9697</td></tr><tr><td>train_accuracy</td><td>94.0239</td></tr><tr><td>train_loss</td><td>0.14573</td></tr><tr><td>val_accuracy</td><td>96.9697</td></tr><tr><td>val_loss</td><td>0.09724</td></tr></table><br/></div></div>"
            ]
          },
          "metadata": {}
        },
        {
          "output_type": "display_data",
          "data": {
            "text/plain": [
              "<IPython.core.display.HTML object>"
            ],
            "text/html": [
              " View run <strong style=\"color:#cdcd00\">ancient-breeze-6</strong> at: <a href='https://wandb.ai/iaredescnncnn-instituto-tecnol-gico-de-costa-rica/selected-model-b-three/runs/cuuzvd69' target=\"_blank\">https://wandb.ai/iaredescnncnn-instituto-tecnol-gico-de-costa-rica/selected-model-b-three/runs/cuuzvd69</a><br/> View project at: <a href='https://wandb.ai/iaredescnncnn-instituto-tecnol-gico-de-costa-rica/selected-model-b-three' target=\"_blank\">https://wandb.ai/iaredescnncnn-instituto-tecnol-gico-de-costa-rica/selected-model-b-three</a><br/>Synced 5 W&B file(s), 0 media file(s), 0 artifact file(s) and 0 other file(s)"
            ]
          },
          "metadata": {}
        },
        {
          "output_type": "display_data",
          "data": {
            "text/plain": [
              "<IPython.core.display.HTML object>"
            ],
            "text/html": [
              "Find logs at: <code>./wandb/run-20241015_170145-cuuzvd69/logs</code>"
            ]
          },
          "metadata": {}
        }
      ]
    },
    {
      "cell_type": "markdown",
      "source": [
        "# Bibliografía\n",
        "\n",
        "Bjorck, N., Gomes, C. P., Selman, B., & Weinberger, K. Q. (2018). Understanding batch normalization. Advances in neural information processing systems, 31."
      ],
      "metadata": {
        "id": "P4X5pSObsSI0"
      }
    }
  ],
  "metadata": {
    "accelerator": "GPU",
    "colab": {
      "gpuType": "T4",
      "provenance": []
    },
    "kernelspec": {
      "display_name": "Python 3",
      "name": "python3"
    },
    "language_info": {
      "codemirror_mode": {
        "name": "ipython",
        "version": 3
      },
      "file_extension": ".py",
      "mimetype": "text/x-python",
      "name": "python",
      "nbconvert_exporter": "python",
      "pygments_lexer": "ipython3",
      "version": "3.12.3"
    },
    "widgets": {
      "application/vnd.jupyter.widget-state+json": {
        "6776cb1e74ab46f397700be0f8cb8bdb": {
          "model_module": "@jupyter-widgets/controls",
          "model_name": "VBoxModel",
          "model_module_version": "1.5.0",
          "state": {
            "_dom_classes": [],
            "_model_module": "@jupyter-widgets/controls",
            "_model_module_version": "1.5.0",
            "_model_name": "VBoxModel",
            "_view_count": null,
            "_view_module": "@jupyter-widgets/controls",
            "_view_module_version": "1.5.0",
            "_view_name": "VBoxView",
            "box_style": "",
            "children": [
              "IPY_MODEL_aa4a66f9a4bd4be9873e04de437ec883",
              "IPY_MODEL_56c8ee96afc04028b7904f0b94a4e895"
            ],
            "layout": "IPY_MODEL_6a0bae6e41b648a6aa2bc9bc2fa198a6"
          }
        },
        "aa4a66f9a4bd4be9873e04de437ec883": {
          "model_module": "@jupyter-widgets/controls",
          "model_name": "LabelModel",
          "model_module_version": "1.5.0",
          "state": {
            "_dom_classes": [],
            "_model_module": "@jupyter-widgets/controls",
            "_model_module_version": "1.5.0",
            "_model_name": "LabelModel",
            "_view_count": null,
            "_view_module": "@jupyter-widgets/controls",
            "_view_module_version": "1.5.0",
            "_view_name": "LabelView",
            "description": "",
            "description_tooltip": null,
            "layout": "IPY_MODEL_afa5755f861e458e8b4adc7b0f16fc3a",
            "placeholder": "​",
            "style": "IPY_MODEL_88aece2b59c74d828267ff56fc7f808d",
            "value": "0.207 MB of 0.207 MB uploaded\r"
          }
        },
        "56c8ee96afc04028b7904f0b94a4e895": {
          "model_module": "@jupyter-widgets/controls",
          "model_name": "FloatProgressModel",
          "model_module_version": "1.5.0",
          "state": {
            "_dom_classes": [],
            "_model_module": "@jupyter-widgets/controls",
            "_model_module_version": "1.5.0",
            "_model_name": "FloatProgressModel",
            "_view_count": null,
            "_view_module": "@jupyter-widgets/controls",
            "_view_module_version": "1.5.0",
            "_view_name": "ProgressView",
            "bar_style": "",
            "description": "",
            "description_tooltip": null,
            "layout": "IPY_MODEL_386f2ed6c55c42c5ad56f3c52e982b53",
            "max": 1,
            "min": 0,
            "orientation": "horizontal",
            "style": "IPY_MODEL_082a3b52bfff4fbe94abddeb27198ab7",
            "value": 1
          }
        },
        "6a0bae6e41b648a6aa2bc9bc2fa198a6": {
          "model_module": "@jupyter-widgets/base",
          "model_name": "LayoutModel",
          "model_module_version": "1.2.0",
          "state": {
            "_model_module": "@jupyter-widgets/base",
            "_model_module_version": "1.2.0",
            "_model_name": "LayoutModel",
            "_view_count": null,
            "_view_module": "@jupyter-widgets/base",
            "_view_module_version": "1.2.0",
            "_view_name": "LayoutView",
            "align_content": null,
            "align_items": null,
            "align_self": null,
            "border": null,
            "bottom": null,
            "display": null,
            "flex": null,
            "flex_flow": null,
            "grid_area": null,
            "grid_auto_columns": null,
            "grid_auto_flow": null,
            "grid_auto_rows": null,
            "grid_column": null,
            "grid_gap": null,
            "grid_row": null,
            "grid_template_areas": null,
            "grid_template_columns": null,
            "grid_template_rows": null,
            "height": null,
            "justify_content": null,
            "justify_items": null,
            "left": null,
            "margin": null,
            "max_height": null,
            "max_width": null,
            "min_height": null,
            "min_width": null,
            "object_fit": null,
            "object_position": null,
            "order": null,
            "overflow": null,
            "overflow_x": null,
            "overflow_y": null,
            "padding": null,
            "right": null,
            "top": null,
            "visibility": null,
            "width": null
          }
        },
        "afa5755f861e458e8b4adc7b0f16fc3a": {
          "model_module": "@jupyter-widgets/base",
          "model_name": "LayoutModel",
          "model_module_version": "1.2.0",
          "state": {
            "_model_module": "@jupyter-widgets/base",
            "_model_module_version": "1.2.0",
            "_model_name": "LayoutModel",
            "_view_count": null,
            "_view_module": "@jupyter-widgets/base",
            "_view_module_version": "1.2.0",
            "_view_name": "LayoutView",
            "align_content": null,
            "align_items": null,
            "align_self": null,
            "border": null,
            "bottom": null,
            "display": null,
            "flex": null,
            "flex_flow": null,
            "grid_area": null,
            "grid_auto_columns": null,
            "grid_auto_flow": null,
            "grid_auto_rows": null,
            "grid_column": null,
            "grid_gap": null,
            "grid_row": null,
            "grid_template_areas": null,
            "grid_template_columns": null,
            "grid_template_rows": null,
            "height": null,
            "justify_content": null,
            "justify_items": null,
            "left": null,
            "margin": null,
            "max_height": null,
            "max_width": null,
            "min_height": null,
            "min_width": null,
            "object_fit": null,
            "object_position": null,
            "order": null,
            "overflow": null,
            "overflow_x": null,
            "overflow_y": null,
            "padding": null,
            "right": null,
            "top": null,
            "visibility": null,
            "width": null
          }
        },
        "88aece2b59c74d828267ff56fc7f808d": {
          "model_module": "@jupyter-widgets/controls",
          "model_name": "DescriptionStyleModel",
          "model_module_version": "1.5.0",
          "state": {
            "_model_module": "@jupyter-widgets/controls",
            "_model_module_version": "1.5.0",
            "_model_name": "DescriptionStyleModel",
            "_view_count": null,
            "_view_module": "@jupyter-widgets/base",
            "_view_module_version": "1.2.0",
            "_view_name": "StyleView",
            "description_width": ""
          }
        },
        "386f2ed6c55c42c5ad56f3c52e982b53": {
          "model_module": "@jupyter-widgets/base",
          "model_name": "LayoutModel",
          "model_module_version": "1.2.0",
          "state": {
            "_model_module": "@jupyter-widgets/base",
            "_model_module_version": "1.2.0",
            "_model_name": "LayoutModel",
            "_view_count": null,
            "_view_module": "@jupyter-widgets/base",
            "_view_module_version": "1.2.0",
            "_view_name": "LayoutView",
            "align_content": null,
            "align_items": null,
            "align_self": null,
            "border": null,
            "bottom": null,
            "display": null,
            "flex": null,
            "flex_flow": null,
            "grid_area": null,
            "grid_auto_columns": null,
            "grid_auto_flow": null,
            "grid_auto_rows": null,
            "grid_column": null,
            "grid_gap": null,
            "grid_row": null,
            "grid_template_areas": null,
            "grid_template_columns": null,
            "grid_template_rows": null,
            "height": null,
            "justify_content": null,
            "justify_items": null,
            "left": null,
            "margin": null,
            "max_height": null,
            "max_width": null,
            "min_height": null,
            "min_width": null,
            "object_fit": null,
            "object_position": null,
            "order": null,
            "overflow": null,
            "overflow_x": null,
            "overflow_y": null,
            "padding": null,
            "right": null,
            "top": null,
            "visibility": null,
            "width": null
          }
        },
        "082a3b52bfff4fbe94abddeb27198ab7": {
          "model_module": "@jupyter-widgets/controls",
          "model_name": "ProgressStyleModel",
          "model_module_version": "1.5.0",
          "state": {
            "_model_module": "@jupyter-widgets/controls",
            "_model_module_version": "1.5.0",
            "_model_name": "ProgressStyleModel",
            "_view_count": null,
            "_view_module": "@jupyter-widgets/base",
            "_view_module_version": "1.2.0",
            "_view_name": "StyleView",
            "bar_color": null,
            "description_width": ""
          }
        }
      }
    }
  },
  "nbformat": 4,
  "nbformat_minor": 0
}