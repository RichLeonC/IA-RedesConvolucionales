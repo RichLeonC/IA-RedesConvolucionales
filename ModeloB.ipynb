{
  "cells": [
    {
      "cell_type": "markdown",
      "metadata": {
        "id": "bnG8uRdCh8Na"
      },
      "source": [
        "# Modelo B para clasificación de imagenes\n",
        "\n",
        "#### Jeffrey Daniel Leiva Cascante 2021016720\n",
        "#### Richard Osvaldo León Chinchilla carnet"
      ]
    },
    {
      "cell_type": "code",
      "execution_count": 1,
      "metadata": {
        "id": "zcmg7q7Fh8Nv"
      },
      "outputs": [],
      "source": [
        "import torch\n",
        "import torch.nn as nn\n",
        "import torch.nn.functional as F\n",
        "import torch.optim as optim\n",
        "from torchvision import datasets, transforms\n",
        "from torch.utils.data import DataLoader, SubsetRandomSampler, random_split\n",
        "import numpy as np\n",
        "import matplotlib.pyplot as plt\n",
        "import torchvision\n",
        "from torchsummary import summary\n"
      ]
    },
    {
      "cell_type": "code",
      "execution_count": 2,
      "metadata": {
        "colab": {
          "base_uri": "https://localhost:8080/"
        },
        "id": "JNuSZWCkD8cL",
        "outputId": "87498625-92ea-4f70-8004-ffd2c80d729a"
      },
      "outputs": [
        {
          "output_type": "stream",
          "name": "stdout",
          "text": [
            "Mounted at /content/drive\n"
          ]
        },
        {
          "output_type": "execute_result",
          "data": {
            "text/plain": [
              "True"
            ]
          },
          "metadata": {},
          "execution_count": 2
        }
      ],
      "source": [
        "from google.colab import drive\n",
        "drive.mount('/content/drive')\n",
        "torch.cuda.is_available()"
      ]
    },
    {
      "cell_type": "code",
      "source": [
        "from google.colab import drive\n",
        "drive.mount('/content/drive')"
      ],
      "metadata": {
        "id": "G6NeOhotgMxO"
      },
      "execution_count": null,
      "outputs": []
    },
    {
      "cell_type": "code",
      "source": [
        "device = torch.device(\"cuda\" if torch.cuda.is_available() else \"cpu\")"
      ],
      "metadata": {
        "id": "8JRF-D3QxZlx"
      },
      "execution_count": 3,
      "outputs": []
    },
    {
      "cell_type": "markdown",
      "metadata": {
        "id": "4s3Y5hHrvgzp"
      },
      "source": [
        "## Propuesta de modelo 1\n",
        "\n",
        "Para la propuesta #1 del modelo B tenemos la siguiente arquitectura:\n",
        "\n",
        "La primera capa es una capa de convolución de dos dimensiones que recibe la imágen de 1 canal (en escala de grises), aplica 64 filtros con tamaño de kernel 3 y padding de 1, lo que da como resultado la salida de 128x128x64.\n",
        "\n",
        "La segunda capa aplica max pooling con un kernel de 2 y stride de 2, lo que produce una salida de 64x64x64.\n",
        "\n",
        "Seguido de esto se tiene el módulo de Inception, que aplica varias operaciones de convolución y pooling en paralelo, lo que permite que el modelo aprenda mejor las características a diferentes niveles de complejidad. Cuenta con 4 ramas, en las que se aplican diversos tamaños de kernels y la salida de las ramas es de 64x64x128. Todas estas se concatenan y su salida es de 64x64x512.\n",
        "\n",
        "Después se vuelve a aplicar max pooling con kernel de 2 y stride de 2, lo que da cómo resultado una salida de 32x32x512, se hace el flatten de la misma y esta es la entrada de la primera capa fully connected, la cual produce 128 canales de salida. La última capa tiene 128 canales de entrada y 3 de salida correspondientes a las tres categorías de imagenes.\n",
        "\n",
        "Se utiliza reLU cómo función de activación para las capas convolucionales"
      ]
    },
    {
      "cell_type": "code",
      "execution_count": 15,
      "metadata": {
        "id": "jTjOohHDvb_Z"
      },
      "outputs": [],
      "source": [
        "class InceptionModuleOne(nn.Module):\n",
        "  def __init__(self, chanels):\n",
        "    super(InceptionModuleOne, self).__init__()\n",
        "\n",
        "    self.branch1 = nn.Conv2d(chanels, 128, kernel_size=1)\n",
        "\n",
        "    self.branch2 = nn.Sequential(\n",
        "        nn.Conv2d(chanels, 128, kernel_size=1),\n",
        "        nn.ReLU(),\n",
        "        nn.Conv2d(128, 128, kernel_size=3, padding=1),\n",
        "        nn.ReLU()\n",
        "    )\n",
        "\n",
        "    self.branch3 = nn.Sequential(\n",
        "        nn.Conv2d(chanels, 128, kernel_size=1),\n",
        "        nn.ReLU(),\n",
        "        nn.Conv2d(128, 128, kernel_size=5, padding=2),\n",
        "        nn.ReLU(),\n",
        "    )\n",
        "\n",
        "    self.branch4 = nn.Sequential(\n",
        "        nn.MaxPool2d(kernel_size=3, stride=1, padding=1),\n",
        "        nn.Conv2d(chanels, 128, kernel_size=1),\n",
        "        nn.ReLU(),\n",
        "    )\n",
        "\n",
        "  def forward(self,x):\n",
        "    branch1 = F.relu(self.branch1(x))\n",
        "    branch2 = self.branch2(x)\n",
        "    branch3 = self.branch3(x)\n",
        "    branch4 = self.branch4(x)\n",
        "    return torch.cat([branch1, branch2, branch3, branch4],1)\n",
        "\n",
        "\n",
        "class CNNModelBOne(nn.Module):\n",
        "  def __init__(self):\n",
        "    super(CNNModelBOne, self).__init__()\n",
        "    self.conv1 = nn.Conv2d(1, 64, kernel_size=3, padding=1)\n",
        "    self.pool = nn.MaxPool2d(kernel_size=2, stride=2)\n",
        "    self.inception = InceptionModuleOne(64)\n",
        "    self.dropout = nn.Dropout(0.2)\n",
        "    self.fc1 = nn.Linear(512 *32 *32, 128)\n",
        "    self.fc2 = nn.Linear(128 , 3)\n",
        "\n",
        "  def forward(self,x):\n",
        "    x = F.relu(self.conv1(x))\n",
        "    x = self.pool(x)\n",
        "    x = self.inception(x)\n",
        "    x = self.pool(x)\n",
        "    x = self.dropout(x)\n",
        "    x = torch.flatten(x,1)\n",
        "    x = F.relu(self.fc1(x))\n",
        "    x = self.fc2(x)\n",
        "    return x\n",
        "\n"
      ]
    },
    {
      "cell_type": "markdown",
      "source": [
        "### Carga de datos y transformers de los datos"
      ],
      "metadata": {
        "id": "vYofdc8bqCCk"
      }
    },
    {
      "cell_type": "code",
      "source": [
        "train_data_transforms = transforms.Compose([\n",
        "    transforms.Resize((128, 128)),  # Redimensionar a 128x128\n",
        "    transforms.Grayscale(num_output_channels=1),  # Convertir a escala de grises\n",
        "    transforms.RandomRotation(20),  # Rotación aleatoria\n",
        "    transforms.RandomHorizontalFlip(),  # Inversión horizontal aleatoria\n",
        "    transforms.ColorJitter(brightness=0.2, contrast=0.2),  # Variación de brillo y contraste\n",
        "    transforms.ToTensor(),  # Convertir a tensor\n",
        "    transforms.Normalize(mean=[0.5], std=[0.5])  # Normalización\n",
        "])\n",
        "\n",
        "\n",
        "test_data_transforms = transforms.Compose([\n",
        "    transforms.Resize((128, 128)),  # Redimensionar a 128x128\n",
        "    transforms.Grayscale(num_output_channels=1),  # Convertir a escala de grises\n",
        "    transforms.ToTensor(),   # Convertir a tensor\n",
        "    transforms.Normalize(mean=[0.5], std=[0.5])  # Normalización\n",
        "])\n",
        "\n",
        "\n",
        "# Definir las rutas a las carpetas\n",
        "train_dir = './drive/MyDrive/Covid19-dataset/train'\n",
        "test_dir = './drive/MyDrive/Covid19-dataset/test'\n",
        "\n",
        "train_dataset = datasets.ImageFolder(root=train_dir, transform=train_data_transforms)\n",
        "test_dataset = datasets.ImageFolder(root=test_dir, transform=test_data_transforms)\n",
        "\n",
        "# Definir el tamaño del subconjunto que quieres usar\n",
        "subset_size = 0.2  # Por ejemplo, usar el 20% de los datos\n",
        "\n",
        "# Obtener los índices aleatorios para el subconjunto del conjunto de entrenamiento\n",
        "np.random.seed(42)\n",
        "train_size = len(train_dataset)\n",
        "indices = list(range(train_size))\n",
        "np.random.shuffle(indices)  # Mezclar los índices\n",
        "\n",
        "subset_indices = indices[:int(subset_size * train_size)]  # Obtener el subconjunto\n",
        "\n",
        "# Crear un SubsetRandomSampler con los índices seleccionados\n",
        "train_sampler = SubsetRandomSampler(subset_indices)\n",
        "\n",
        "# Obtener los índices aleatorios para el subconjunto del conjunto de testing\n",
        "test_size = len(test_dataset)\n",
        "indices_test = list(range(test_size))\n",
        "np.random.shuffle(indices_test)  # Mezclar los índices\n",
        "\n",
        "subset_indices_test = indices_test[:int(subset_size * test_size)]  # Obtener el subconjunto\n",
        "\n",
        "# Crear un SubsetRandomSampler con los índices seleccionados\n",
        "test_sampler = SubsetRandomSampler(subset_indices_test)\n",
        "\n",
        "# Definir DataLoader para el conjunto de entrenamiento con el subconjunto de datos\n",
        "train_loader = DataLoader(train_dataset, batch_size=8, sampler=train_sampler)\n",
        "\n",
        "# También puedes crear un DataLoader para el conjunto de prueba completo\n",
        "test_loader = DataLoader(test_dataset, batch_size=8, sampler=test_sampler)\n"
      ],
      "metadata": {
        "id": "Dm2Ar1hCqG0Y"
      },
      "execution_count": 54,
      "outputs": []
    },
    {
      "cell_type": "markdown",
      "metadata": {
        "id": "12nJbPdVFopw"
      },
      "source": [
        "### Proof of Concept Modelo 1"
      ]
    },
    {
      "cell_type": "code",
      "execution_count": 36,
      "metadata": {
        "colab": {
          "base_uri": "https://localhost:8080/"
        },
        "id": "hdbfJ79pFqrz",
        "outputId": "c2ea12fc-1996-4fb3-d702-e0c486e104ed"
      },
      "outputs": [
        {
          "output_type": "stream",
          "name": "stdout",
          "text": [
            "Epoch 1/50, Train Loss: 1.1141, Train Accuracy: 48.00%, Val Loss: 0.9706, Val Accuracy: 53.85%\n",
            "Epoch 2/50, Train Loss: 1.0273, Train Accuracy: 36.00%, Val Loss: 1.1734, Val Accuracy: 46.15%\n",
            "Epoch 3/50, Train Loss: 0.8629, Train Accuracy: 68.00%, Val Loss: 0.8886, Val Accuracy: 69.23%\n",
            "Epoch 4/50, Train Loss: 0.8075, Train Accuracy: 58.00%, Val Loss: 0.8434, Val Accuracy: 46.15%\n",
            "Epoch 5/50, Train Loss: 0.5840, Train Accuracy: 74.00%, Val Loss: 1.1714, Val Accuracy: 46.15%\n",
            "Epoch 6/50, Train Loss: 0.5803, Train Accuracy: 76.00%, Val Loss: 0.7456, Val Accuracy: 61.54%\n",
            "Epoch 7/50, Train Loss: 0.4981, Train Accuracy: 82.00%, Val Loss: 0.9653, Val Accuracy: 46.15%\n",
            "Epoch 8/50, Train Loss: 0.4062, Train Accuracy: 86.00%, Val Loss: 0.7758, Val Accuracy: 69.23%\n",
            "Epoch 9/50, Train Loss: 0.3610, Train Accuracy: 86.00%, Val Loss: 0.7158, Val Accuracy: 69.23%\n",
            "Epoch 10/50, Train Loss: 0.2927, Train Accuracy: 88.00%, Val Loss: 0.9219, Val Accuracy: 61.54%\n",
            "Epoch 11/50, Train Loss: 0.2829, Train Accuracy: 88.00%, Val Loss: 0.7687, Val Accuracy: 61.54%\n",
            "Epoch 12/50, Train Loss: 0.2689, Train Accuracy: 92.00%, Val Loss: 0.7416, Val Accuracy: 76.92%\n",
            "Epoch 13/50, Train Loss: 0.4455, Train Accuracy: 90.00%, Val Loss: 1.2243, Val Accuracy: 53.85%\n",
            "Epoch 14/50, Train Loss: 0.6064, Train Accuracy: 80.00%, Val Loss: 1.3030, Val Accuracy: 46.15%\n",
            "Epoch 15/50, Train Loss: 0.4018, Train Accuracy: 78.00%, Val Loss: 0.5292, Val Accuracy: 84.62%\n",
            "Epoch 16/50, Train Loss: 0.3555, Train Accuracy: 80.00%, Val Loss: 1.3172, Val Accuracy: 46.15%\n",
            "Epoch 17/50, Train Loss: 0.2389, Train Accuracy: 88.00%, Val Loss: 0.7729, Val Accuracy: 53.85%\n",
            "Epoch 18/50, Train Loss: 0.2254, Train Accuracy: 94.00%, Val Loss: 0.6187, Val Accuracy: 69.23%\n",
            "Epoch 19/50, Train Loss: 0.1764, Train Accuracy: 94.00%, Val Loss: 1.0637, Val Accuracy: 53.85%\n",
            "Epoch 20/50, Train Loss: 0.1937, Train Accuracy: 90.00%, Val Loss: 0.6884, Val Accuracy: 69.23%\n",
            "Epoch 21/50, Train Loss: 0.3032, Train Accuracy: 94.00%, Val Loss: 0.7256, Val Accuracy: 69.23%\n",
            "Epoch 22/50, Train Loss: 0.2243, Train Accuracy: 86.00%, Val Loss: 1.1593, Val Accuracy: 53.85%\n",
            "Epoch 23/50, Train Loss: 0.1731, Train Accuracy: 90.00%, Val Loss: 0.7078, Val Accuracy: 69.23%\n",
            "Epoch 24/50, Train Loss: 0.1859, Train Accuracy: 94.00%, Val Loss: 1.0404, Val Accuracy: 61.54%\n",
            "Epoch 25/50, Train Loss: 0.1332, Train Accuracy: 98.00%, Val Loss: 1.4078, Val Accuracy: 53.85%\n",
            "Epoch 26/50, Train Loss: 0.1423, Train Accuracy: 96.00%, Val Loss: 0.9873, Val Accuracy: 53.85%\n",
            "Epoch 27/50, Train Loss: 0.1743, Train Accuracy: 96.00%, Val Loss: 0.6075, Val Accuracy: 84.62%\n",
            "Epoch 28/50, Train Loss: 0.1986, Train Accuracy: 94.00%, Val Loss: 1.4500, Val Accuracy: 53.85%\n",
            "Epoch 29/50, Train Loss: 0.1273, Train Accuracy: 94.00%, Val Loss: 0.9792, Val Accuracy: 69.23%\n",
            "Epoch 30/50, Train Loss: 0.1354, Train Accuracy: 94.00%, Val Loss: 0.7858, Val Accuracy: 61.54%\n",
            "Epoch 31/50, Train Loss: 0.1124, Train Accuracy: 94.00%, Val Loss: 1.1369, Val Accuracy: 61.54%\n",
            "Epoch 32/50, Train Loss: 0.0918, Train Accuracy: 96.00%, Val Loss: 1.1744, Val Accuracy: 61.54%\n",
            "Epoch 33/50, Train Loss: 0.0764, Train Accuracy: 98.00%, Val Loss: 0.9174, Val Accuracy: 61.54%\n",
            "Epoch 34/50, Train Loss: 0.0700, Train Accuracy: 100.00%, Val Loss: 1.1457, Val Accuracy: 61.54%\n",
            "Epoch 35/50, Train Loss: 0.1193, Train Accuracy: 92.00%, Val Loss: 0.8742, Val Accuracy: 61.54%\n",
            "Epoch 36/50, Train Loss: 0.1169, Train Accuracy: 96.00%, Val Loss: 1.1020, Val Accuracy: 76.92%\n",
            "Epoch 37/50, Train Loss: 0.0853, Train Accuracy: 98.00%, Val Loss: 1.0689, Val Accuracy: 61.54%\n",
            "Epoch 38/50, Train Loss: 0.2044, Train Accuracy: 94.00%, Val Loss: 0.7919, Val Accuracy: 61.54%\n",
            "Epoch 39/50, Train Loss: 0.2375, Train Accuracy: 88.00%, Val Loss: 0.9479, Val Accuracy: 61.54%\n",
            "Epoch 40/50, Train Loss: 0.0732, Train Accuracy: 98.00%, Val Loss: 1.1422, Val Accuracy: 61.54%\n",
            "Epoch 41/50, Train Loss: 0.1202, Train Accuracy: 96.00%, Val Loss: 0.7308, Val Accuracy: 84.62%\n",
            "Epoch 42/50, Train Loss: 0.1652, Train Accuracy: 94.00%, Val Loss: 0.9259, Val Accuracy: 61.54%\n",
            "Epoch 43/50, Train Loss: 0.2322, Train Accuracy: 92.00%, Val Loss: 0.6731, Val Accuracy: 76.92%\n",
            "Epoch 44/50, Train Loss: 0.1542, Train Accuracy: 90.00%, Val Loss: 0.9100, Val Accuracy: 92.31%\n",
            "Epoch 45/50, Train Loss: 0.1041, Train Accuracy: 94.00%, Val Loss: 1.0233, Val Accuracy: 61.54%\n",
            "Epoch 46/50, Train Loss: 0.0596, Train Accuracy: 98.00%, Val Loss: 0.9272, Val Accuracy: 84.62%\n",
            "Epoch 47/50, Train Loss: 0.1023, Train Accuracy: 98.00%, Val Loss: 0.7891, Val Accuracy: 76.92%\n",
            "Epoch 48/50, Train Loss: 0.0352, Train Accuracy: 100.00%, Val Loss: 0.7809, Val Accuracy: 76.92%\n",
            "Epoch 49/50, Train Loss: 0.0665, Train Accuracy: 96.00%, Val Loss: 0.8977, Val Accuracy: 76.92%\n",
            "Epoch 50/50, Train Loss: 0.0453, Train Accuracy: 100.00%, Val Loss: 0.8661, Val Accuracy: 76.92%\n"
          ]
        }
      ],
      "source": [
        "\n",
        "model = CNNModelBOne()\n",
        "model.to(device)\n",
        "\n",
        "criterion = nn.CrossEntropyLoss()\n",
        "optimizer = optim.SGD(model.parameters(), lr=0.001, momentum=0.9)\n",
        "\n",
        "# Definir la función de entrenamiento\n",
        "def train_model_with_subset(model, train_loader, test_loader, criterion, optimizer, epochs=10):\n",
        "    for epoch in range(epochs):\n",
        "        model.train()  # Poner el modelo en modo de entrenamiento\n",
        "\n",
        "        running_loss = 0.0\n",
        "        correct = 0\n",
        "        total = 0\n",
        "\n",
        "        # Training\n",
        "        for inputs, labels in train_loader:\n",
        "            inputs, labels = inputs.to(device), labels.to(device)\n",
        "\n",
        "            optimizer.zero_grad()  # Limpiar los gradientes\n",
        "            outputs = model(inputs)  # Hacer una predicción\n",
        "            loss = criterion(outputs, labels)  # Calcular la pérdida\n",
        "            loss.backward()  # Hacer backpropagation\n",
        "            optimizer.step()  # Actualizar los pesos\n",
        "\n",
        "            running_loss += loss.item()\n",
        "            _, predicted = outputs.max(1)\n",
        "            total += labels.size(0)\n",
        "            correct += predicted.eq(labels).sum().item()\n",
        "\n",
        "        train_loss = running_loss / len(train_loader)\n",
        "        train_accuracy = 100 * correct / total\n",
        "\n",
        "        # Validation\n",
        "        model.eval()  # Set the model to evaluation mode\n",
        "        val_running_loss = 0.0\n",
        "        val_correct = 0\n",
        "        val_total = 0\n",
        "        with torch.no_grad():  # Disable gradients for validation\n",
        "            for inputs, labels in test_loader:\n",
        "                inputs, labels = inputs.to(device), labels.to(device)\n",
        "\n",
        "                outputs = model(inputs)\n",
        "                loss = criterion(outputs, labels)\n",
        "                val_running_loss += loss.item()\n",
        "\n",
        "                _, predicted = outputs.max(1)\n",
        "                val_total += labels.size(0)\n",
        "                val_correct += predicted.eq(labels).sum().item()\n",
        "\n",
        "        val_loss = val_running_loss / len(test_loader)\n",
        "        val_accuracy = 100 * val_correct / val_total\n",
        "\n",
        "        print(f\"Epoch {epoch+1}/{epochs}, \"\n",
        "              f\"Train Loss: {train_loss:.4f}, Train Accuracy: {train_accuracy:.2f}%, \"\n",
        "              f\"Val Loss: {val_loss:.4f}, Val Accuracy: {val_accuracy:.2f}%\")\n",
        "\n",
        "# Train the model with validation\n",
        "train_model_with_subset(model, train_loader, test_loader, criterion, optimizer, epochs=50)\n",
        "\n",
        "\n",
        "\n"
      ]
    },
    {
      "cell_type": "code",
      "execution_count": 38,
      "metadata": {
        "colab": {
          "base_uri": "https://localhost:8080/",
          "height": 336
        },
        "id": "5IsGnz9VmGnl",
        "outputId": "48d1b8ad-0d27-43d4-dadf-b29ef6f101f6"
      },
      "outputs": [
        {
          "output_type": "stream",
          "name": "stdout",
          "text": [
            "{'Covid': 0, 'Normal': 1, 'Viral Pneumonia': 2}\n",
            "{'Covid': 0, 'Normal': 1, 'Viral Pneumonia': 2}\n",
            "tensor([2, 1, 2, 1, 1, 0, 1, 1])\n"
          ]
        },
        {
          "output_type": "display_data",
          "data": {
            "text/plain": [
              "<Figure size 640x480 with 1 Axes>"
            ],
            "image/png": "[encoded data removed]"
          },
          "metadata": {}
        },
        {
          "output_type": "stream",
          "name": "stdout",
          "text": [
            "GroundTruth\n",
            "Viral Pneumonia\n",
            "Normal\n",
            "Viral Pneumonia\n",
            "Normal\n",
            "Normal\n",
            "Covid\n",
            "Normal\n",
            "Normal\n"
          ]
        }
      ],
      "source": [
        "classes = ('Covid', 'Normal','Viral Pneumonia')\n",
        "\n",
        "#Para ver com se asignan las etiquetas a cada clase en el set de training\n",
        "print(train_dataset.class_to_idx)\n",
        "#Lo mismo pero para el set de testing\n",
        "print(test_dataset.class_to_idx)\n",
        "\n",
        "dataiter = iter(test_loader)\n",
        "images, labels = next(dataiter)\n",
        "\n",
        "print(labels)\n",
        "\n",
        "def imshow(img):\n",
        "    # Desnormalizar: (img * std) + mean\n",
        "    img = img * 0.5 + 0.5  # Desnormalizar usando mean=0.5 y std=0.5\n",
        "    npimg = img.numpy()\n",
        "    plt.imshow(np.transpose(npimg, (1, 2, 0)), cmap='gray')  # Añadir cmap si es necesario\n",
        "    plt.show()\n",
        "\n",
        "imshow(torchvision.utils.make_grid(images))\n",
        "\n",
        "print('GroundTruth')\n",
        "for j in range(8):\n",
        "    print(f'{classes[labels[j]]:5s}')"
      ]
    },
    {
      "cell_type": "code",
      "execution_count": 39,
      "metadata": {
        "colab": {
          "base_uri": "https://localhost:8080/"
        },
        "id": "AR1AmE2d2Ta6",
        "outputId": "5928d27e-f170-4999-a197-d8aef94c4f93"
      },
      "outputs": [
        {
          "output_type": "stream",
          "name": "stdout",
          "text": [
            "Predicted: \n",
            "Viral Pneumonia\n",
            "Normal\n",
            "Viral Pneumonia\n",
            "Normal\n",
            "Viral Pneumonia\n",
            "Covid\n",
            "Viral Pneumonia\n",
            "Normal\n"
          ]
        }
      ],
      "source": [
        "images = images.to(device)  # Mueve las imágenes a la GPU si está disponible\n",
        "\n",
        "outputs = model(images)\n",
        "_, predicted = torch.max(outputs, 1)\n",
        "\n",
        "print('Predicted: ')\n",
        "\n",
        "for j in range(8):\n",
        "    print(f'{classes[predicted[j]]:5s}')\n"
      ]
    },
    {
      "cell_type": "code",
      "execution_count": 40,
      "metadata": {
        "colab": {
          "base_uri": "https://localhost:8080/"
        },
        "id": "YFhx9k6n5Erh",
        "outputId": "9e974971-4db5-4dc5-c83a-b9ae1d0556fb"
      },
      "outputs": [
        {
          "output_type": "stream",
          "name": "stdout",
          "text": [
            "Accuracy de la red en las 23 imagenes de test: 75 %\n"
          ]
        }
      ],
      "source": [
        "correct = 0\n",
        "total = 0\n",
        "# debido a que no estamos entrenando, no necesitamos calcular los gradientes para las salidas\n",
        "with torch.no_grad():\n",
        "    for data in test_loader:\n",
        "        images, labels = images.to(device), labels.to(device)\n",
        "        # calcular outputs corriendo imagenes en la red\n",
        "        outputs = model(images)\n",
        "        # La clase con mayor valor es la que escogemos como salida\n",
        "        _, predicted = torch.max(outputs.data, 1)\n",
        "        total += labels.size(0)\n",
        "        correct += (predicted == labels).sum().item()\n",
        "\n",
        "print(f'Accuracy de la red en las 23 imagenes de test: {100 * correct // total} %')"
      ]
    },
    {
      "cell_type": "markdown",
      "metadata": {
        "id": "N2rOd8cn7XdD"
      },
      "source": [
        "## Propuesta de modelo 2"
      ]
    },
    {
      "cell_type": "code",
      "execution_count": 61,
      "metadata": {
        "id": "eR0ZHmsGH-np"
      },
      "outputs": [],
      "source": [
        "class InceptionModuleTwo(nn.Module):\n",
        "  def __init__(self, chanels):\n",
        "    super(InceptionModuleTwo, self).__init__()\n",
        "\n",
        "    self.branch1 = nn.Conv2d(chanels, 32, kernel_size=1)\n",
        "\n",
        "    self.branch2 = nn.Sequential(\n",
        "        nn.Conv2d(chanels, 32, kernel_size=1),\n",
        "        nn.ReLU(),\n",
        "        nn.Conv2d(32, 64, kernel_size=3, padding=1),\n",
        "        nn.ReLU()\n",
        "    )\n",
        "\n",
        "    self.branch3 = nn.Sequential(\n",
        "        nn.Conv2d(chanels, 32, kernel_size=1),\n",
        "        nn.ReLU(),\n",
        "        nn.Conv2d(32, 64, kernel_size=5, padding=2),\n",
        "        nn.ReLU(),\n",
        "    )\n",
        "\n",
        "    self.branch4 = nn.Sequential(\n",
        "        nn.MaxPool2d(kernel_size=3, stride=1, padding=1),\n",
        "        nn.Conv2d(chanels, 32, kernel_size=1),\n",
        "        nn.ReLU(),\n",
        "    )\n",
        "\n",
        "  def forward(self,x):\n",
        "    branch1 = F.relu(self.branch1(x))\n",
        "    branch2 = self.branch2(x)\n",
        "    branch3 = self.branch3(x)\n",
        "    branch4 = self.branch4(x)\n",
        "    return torch.cat([branch1, branch2, branch3, branch4],1)\n",
        "\n",
        "\n",
        "class CNNModelBTwo(nn.Module):\n",
        "    def __init__(self):\n",
        "        super(CNNModelBTwo, self).__init__()\n",
        "        self.conv1 = nn.Conv2d(1, 32, kernel_size=3, padding=1)\n",
        "        self.conv2 = nn.Conv2d(32,64, kernel_size=3, padding=1)\n",
        "        self.pool = nn.MaxPool2d(kernel_size=2, stride=2)\n",
        "        self.dropout1 = nn.Dropout(0.2)\n",
        "\n",
        "\n",
        "        self.inception = InceptionModuleTwo(64)\n",
        "\n",
        "        self.conv3 = nn.Conv2d(192, 128, kernel_size=3, padding=1)\n",
        "        self.conv4 = nn.Conv2d(128, 256, kernel_size=3, padding=1)\n",
        "        self.dropout2 = nn.Dropout(0.4)\n",
        "\n",
        "        self.fc1 = nn.Linear(16 * 16 * 256, 512)\n",
        "        self.fc2 = nn.Linear(512, 128)\n",
        "        self.fc3 = nn.Linear(128, 3)\n",
        "        self.dropout_fc = nn.Dropout(0.5)\n",
        "\n",
        "    def forward(self, x):\n",
        "        x = F.relu(self.conv1(x))\n",
        "        x = self.pool(F.relu(self.conv2(x)))\n",
        "        x = self.dropout1(x)\n",
        "\n",
        "        x = self.inception(x)\n",
        "\n",
        "        x = self.pool(F.relu(self.conv3(x)))\n",
        "        x = self.dropout2(x)\n",
        "        x = self.pool(F.relu(self.conv4(x)))\n",
        "\n",
        "        x = torch.flatten(x,1)\n",
        "\n",
        "        x = F.relu(self.fc1(x))\n",
        "        x = self.dropout_fc(x)\n",
        "        x = F.relu(self.fc2(x))\n",
        "        x = self.dropout_fc(x)\n",
        "\n",
        "\n",
        "        x = self.fc3(x)\n",
        "        return x\n",
        "\n",
        "\n",
        "\n",
        "\n"
      ]
    },
    {
      "cell_type": "markdown",
      "source": [
        "#### Proof of Concept modelo 2"
      ],
      "metadata": {
        "id": "l_SCzPYouRoR"
      }
    },
    {
      "cell_type": "code",
      "source": [
        "\n",
        "model = CNNModelBTwo()\n",
        "model.to(device)\n",
        "\n",
        "criterion = nn.CrossEntropyLoss()\n",
        "optimizer = optim.Adam(model.parameters(), lr=0.001)\n",
        "\n",
        "# Definir la función de entrenamiento\n",
        "def train_model_with_subset(model, train_loader, test_loader, criterion, optimizer, epochs=10):\n",
        "    for epoch in range(epochs):\n",
        "        model.train()  # Poner el modelo en modo de entrenamiento\n",
        "\n",
        "        running_loss = 0.0\n",
        "        correct = 0\n",
        "        total = 0\n",
        "\n",
        "        # Training\n",
        "        for inputs, labels in train_loader:\n",
        "            inputs, labels = inputs.to(device), labels.to(device)\n",
        "\n",
        "            optimizer.zero_grad()  # Limpiar los gradientes\n",
        "            outputs = model(inputs)  # Hacer una predicción\n",
        "            loss = criterion(outputs, labels)  # Calcular la pérdida\n",
        "            loss.backward()  # Hacer backpropagation\n",
        "            optimizer.step()  # Actualizar los pesos\n",
        "\n",
        "            running_loss += loss.item()\n",
        "            _, predicted = outputs.max(1)\n",
        "            total += labels.size(0)\n",
        "            correct += predicted.eq(labels).sum().item()\n",
        "\n",
        "        train_loss = running_loss / len(train_loader)\n",
        "        train_accuracy = 100 * correct / total\n",
        "\n",
        "        # Validation\n",
        "        model.eval()  # Set the model to evaluation mode\n",
        "        val_running_loss = 0.0\n",
        "        val_correct = 0\n",
        "        val_total = 0\n",
        "        with torch.no_grad():  # Disable gradients for validation\n",
        "            for inputs, labels in test_loader:\n",
        "                inputs, labels = inputs.to(device), labels.to(device)\n",
        "\n",
        "                outputs = model(inputs)\n",
        "                loss = criterion(outputs, labels)\n",
        "                val_running_loss += loss.item()\n",
        "\n",
        "                _, predicted = outputs.max(1)\n",
        "                val_total += labels.size(0)\n",
        "                val_correct += predicted.eq(labels).sum().item()\n",
        "\n",
        "        val_loss = val_running_loss / len(test_loader)\n",
        "        val_accuracy = 100 * val_correct / val_total\n",
        "\n",
        "        print(f\"Epoch {epoch+1}/{epochs}, \"\n",
        "              f\"Train Loss: {train_loss:.4f}, Train Accuracy: {train_accuracy:.2f}%, \"\n",
        "              f\"Val Loss: {val_loss:.4f}, Val Accuracy: {val_accuracy:.2f}%\")\n",
        "\n",
        "# Train the model with validation\n",
        "train_model_with_subset(model, train_loader, test_loader, criterion, optimizer, epochs=50)\n",
        "\n",
        "\n",
        "\n"
      ],
      "metadata": {
        "colab": {
          "base_uri": "https://localhost:8080/"
        },
        "id": "Ye2ZkZO5tzIJ",
        "outputId": "37ce00f9-c50e-447d-dfe5-6d517a2afe9b"
      },
      "execution_count": 62,
      "outputs": [
        {
          "output_type": "stream",
          "name": "stdout",
          "text": [
            "Epoch 1/50, Train Loss: 1.0828, Train Accuracy: 36.00%, Val Loss: 1.1216, Val Accuracy: 23.08%\n",
            "Epoch 2/50, Train Loss: 1.1670, Train Accuracy: 40.00%, Val Loss: 1.1014, Val Accuracy: 23.08%\n",
            "Epoch 3/50, Train Loss: 1.0586, Train Accuracy: 46.00%, Val Loss: 1.1064, Val Accuracy: 23.08%\n",
            "Epoch 4/50, Train Loss: 0.9680, Train Accuracy: 46.00%, Val Loss: 1.1462, Val Accuracy: 23.08%\n",
            "Epoch 5/50, Train Loss: 1.2105, Train Accuracy: 44.00%, Val Loss: 1.0929, Val Accuracy: 23.08%\n",
            "Epoch 6/50, Train Loss: 1.0806, Train Accuracy: 42.00%, Val Loss: 1.0923, Val Accuracy: 23.08%\n",
            "Epoch 7/50, Train Loss: 1.0335, Train Accuracy: 56.00%, Val Loss: 1.1320, Val Accuracy: 23.08%\n",
            "Epoch 8/50, Train Loss: 1.1193, Train Accuracy: 44.00%, Val Loss: 1.2087, Val Accuracy: 23.08%\n",
            "Epoch 9/50, Train Loss: 0.8886, Train Accuracy: 64.00%, Val Loss: 1.0106, Val Accuracy: 46.15%\n",
            "Epoch 10/50, Train Loss: 0.7583, Train Accuracy: 74.00%, Val Loss: 0.6860, Val Accuracy: 53.85%\n",
            "Epoch 11/50, Train Loss: 0.9345, Train Accuracy: 68.00%, Val Loss: 0.9883, Val Accuracy: 38.46%\n",
            "Epoch 12/50, Train Loss: 0.7829, Train Accuracy: 70.00%, Val Loss: 0.8896, Val Accuracy: 46.15%\n",
            "Epoch 13/50, Train Loss: 0.6909, Train Accuracy: 68.00%, Val Loss: 1.0868, Val Accuracy: 46.15%\n",
            "Epoch 14/50, Train Loss: 0.6429, Train Accuracy: 68.00%, Val Loss: 0.8536, Val Accuracy: 53.85%\n",
            "Epoch 15/50, Train Loss: 0.5625, Train Accuracy: 72.00%, Val Loss: 0.8001, Val Accuracy: 46.15%\n",
            "Epoch 16/50, Train Loss: 0.6905, Train Accuracy: 76.00%, Val Loss: 0.6723, Val Accuracy: 53.85%\n",
            "Epoch 17/50, Train Loss: 0.5471, Train Accuracy: 82.00%, Val Loss: 0.7199, Val Accuracy: 53.85%\n",
            "Epoch 18/50, Train Loss: 0.5754, Train Accuracy: 78.00%, Val Loss: 0.7088, Val Accuracy: 53.85%\n",
            "Epoch 19/50, Train Loss: 0.4208, Train Accuracy: 82.00%, Val Loss: 0.7957, Val Accuracy: 61.54%\n",
            "Epoch 20/50, Train Loss: 0.4929, Train Accuracy: 80.00%, Val Loss: 1.0880, Val Accuracy: 46.15%\n",
            "Epoch 21/50, Train Loss: 0.4848, Train Accuracy: 84.00%, Val Loss: 0.5866, Val Accuracy: 76.92%\n",
            "Epoch 22/50, Train Loss: 0.4849, Train Accuracy: 88.00%, Val Loss: 0.8595, Val Accuracy: 46.15%\n",
            "Epoch 23/50, Train Loss: 0.5275, Train Accuracy: 86.00%, Val Loss: 0.8484, Val Accuracy: 61.54%\n",
            "Epoch 24/50, Train Loss: 0.3812, Train Accuracy: 86.00%, Val Loss: 0.9563, Val Accuracy: 46.15%\n",
            "Epoch 25/50, Train Loss: 0.3908, Train Accuracy: 82.00%, Val Loss: 0.9883, Val Accuracy: 46.15%\n",
            "Epoch 26/50, Train Loss: 0.2493, Train Accuracy: 88.00%, Val Loss: 0.7577, Val Accuracy: 61.54%\n",
            "Epoch 27/50, Train Loss: 0.3579, Train Accuracy: 84.00%, Val Loss: 0.6948, Val Accuracy: 53.85%\n",
            "Epoch 28/50, Train Loss: 0.2556, Train Accuracy: 90.00%, Val Loss: 1.4485, Val Accuracy: 46.15%\n",
            "Epoch 29/50, Train Loss: 0.4145, Train Accuracy: 84.00%, Val Loss: 0.5771, Val Accuracy: 61.54%\n",
            "Epoch 30/50, Train Loss: 0.3820, Train Accuracy: 86.00%, Val Loss: 0.6185, Val Accuracy: 69.23%\n",
            "Epoch 31/50, Train Loss: 0.2828, Train Accuracy: 80.00%, Val Loss: 0.7197, Val Accuracy: 53.85%\n",
            "Epoch 32/50, Train Loss: 0.3674, Train Accuracy: 90.00%, Val Loss: 0.8274, Val Accuracy: 61.54%\n",
            "Epoch 33/50, Train Loss: 0.3959, Train Accuracy: 84.00%, Val Loss: 0.9262, Val Accuracy: 69.23%\n",
            "Epoch 34/50, Train Loss: 0.3693, Train Accuracy: 86.00%, Val Loss: 0.8222, Val Accuracy: 53.85%\n",
            "Epoch 35/50, Train Loss: 0.4164, Train Accuracy: 84.00%, Val Loss: 0.6558, Val Accuracy: 61.54%\n",
            "Epoch 36/50, Train Loss: 0.2592, Train Accuracy: 90.00%, Val Loss: 0.8259, Val Accuracy: 61.54%\n",
            "Epoch 37/50, Train Loss: 0.1831, Train Accuracy: 88.00%, Val Loss: 0.6414, Val Accuracy: 76.92%\n",
            "Epoch 38/50, Train Loss: 0.1870, Train Accuracy: 90.00%, Val Loss: 0.4106, Val Accuracy: 84.62%\n",
            "Epoch 39/50, Train Loss: 0.2612, Train Accuracy: 86.00%, Val Loss: 0.9134, Val Accuracy: 61.54%\n",
            "Epoch 40/50, Train Loss: 0.2372, Train Accuracy: 92.00%, Val Loss: 0.6426, Val Accuracy: 76.92%\n",
            "Epoch 41/50, Train Loss: 0.1831, Train Accuracy: 92.00%, Val Loss: 0.7854, Val Accuracy: 69.23%\n",
            "Epoch 42/50, Train Loss: 0.2336, Train Accuracy: 90.00%, Val Loss: 0.8468, Val Accuracy: 69.23%\n",
            "Epoch 43/50, Train Loss: 0.3192, Train Accuracy: 82.00%, Val Loss: 0.5487, Val Accuracy: 84.62%\n",
            "Epoch 44/50, Train Loss: 0.2012, Train Accuracy: 94.00%, Val Loss: 0.7595, Val Accuracy: 76.92%\n",
            "Epoch 45/50, Train Loss: 0.0922, Train Accuracy: 98.00%, Val Loss: 0.5980, Val Accuracy: 76.92%\n",
            "Epoch 46/50, Train Loss: 0.1141, Train Accuracy: 98.00%, Val Loss: 0.6742, Val Accuracy: 69.23%\n",
            "Epoch 47/50, Train Loss: 0.3446, Train Accuracy: 94.00%, Val Loss: 1.0159, Val Accuracy: 61.54%\n",
            "Epoch 48/50, Train Loss: 0.1843, Train Accuracy: 90.00%, Val Loss: 0.4826, Val Accuracy: 84.62%\n",
            "Epoch 49/50, Train Loss: 0.3562, Train Accuracy: 92.00%, Val Loss: 0.6361, Val Accuracy: 84.62%\n",
            "Epoch 50/50, Train Loss: 0.2216, Train Accuracy: 90.00%, Val Loss: 1.3603, Val Accuracy: 53.85%\n"
          ]
        }
      ]
    },
    {
      "cell_type": "code",
      "source": [
        "correct = 0\n",
        "total = 0\n",
        "# debido a que no estamos entrenando, no necesitamos calcular los gradientes para las salidas\n",
        "with torch.no_grad():\n",
        "    for data in test_loader:\n",
        "        images, labels = images.to(device), labels.to(device)\n",
        "        # calcular outputs corriendo imagenes en la red\n",
        "        outputs = model(images)\n",
        "        # La clase con mayor valor es la que escogemos como salida\n",
        "        _, predicted = torch.max(outputs.data, 1)\n",
        "        total += labels.size(0)\n",
        "        correct += (predicted == labels).sum().item()\n",
        "\n",
        "print(f'Accuracy de la red en las 23 imagenes de test: {100 * correct // total} %')"
      ],
      "metadata": {
        "id": "1stJv8xY3Wru",
        "outputId": "ceb7808d-9b7e-4335-f779-fe8c747712e3",
        "colab": {
          "base_uri": "https://localhost:8080/"
        }
      },
      "execution_count": 65,
      "outputs": [
        {
          "output_type": "stream",
          "name": "stdout",
          "text": [
            "Accuracy de la red en las 23 imagenes de test: 50 %\n"
          ]
        }
      ]
    },
    {
      "cell_type": "code",
      "source": [
        "torch.cuda.empty_cache()"
      ],
      "metadata": {
        "id": "o8uYrwRKvUnX"
      },
      "execution_count": null,
      "outputs": []
    }
  ],
  "metadata": {
    "accelerator": "GPU",
    "colab": {
      "gpuType": "T4",
      "provenance": []
    },
    "kernelspec": {
      "display_name": "Python 3",
      "name": "python3"
    },
    "language_info": {
      "codemirror_mode": {
        "name": "ipython",
        "version": 3
      },
      "file_extension": ".py",
      "mimetype": "text/x-python",
      "name": "python",
      "nbconvert_exporter": "python",
      "pygments_lexer": "ipython3",
      "version": "3.12.3"
    }
  },
  "nbformat": 4,
  "nbformat_minor": 0
}